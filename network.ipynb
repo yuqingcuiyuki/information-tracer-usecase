{
  "cells": [
    {
      "cell_type": "markdown",
      "metadata": {
        "id": "view-in-github",
        "colab_type": "text"
      },
      "source": [
        "<a href=\"https://colab.research.google.com/github/yuqingcuiyuki/information-tracer-usecase/blob/main/network.ipynb\" target=\"_parent\"><img src=\"https://colab.research.google.com/assets/colab-badge.svg\" alt=\"Open In Colab\"/></a>"
      ]
    },
    {
      "cell_type": "markdown",
      "metadata": {
        "id": "dcxDcWOp9Hfm"
      },
      "source": [
        "# Download and Organize Data"
      ]
    },
    {
      "cell_type": "code",
      "execution_count": 1,
      "metadata": {
        "colab": {
          "base_uri": "https://localhost:8080/"
        },
        "id": "jn1aKTCu2gX4",
        "outputId": "f21a8dc2-0ffa-40b8-aa9c-5bcb80772e96"
      },
      "outputs": [
        {
          "output_type": "stream",
          "name": "stdout",
          "text": [
            "Collecting informationtracer\n",
            "  Downloading informationtracer-0.1.9.tar.gz (6.3 kB)\n",
            "  Preparing metadata (setup.py) ... \u001b[?25l\u001b[?25hdone\n",
            "Requirement already satisfied: requests in /usr/local/lib/python3.10/dist-packages (from informationtracer) (2.27.1)\n",
            "Requirement already satisfied: urllib3<1.27,>=1.21.1 in /usr/local/lib/python3.10/dist-packages (from requests->informationtracer) (1.26.16)\n",
            "Requirement already satisfied: certifi>=2017.4.17 in /usr/local/lib/python3.10/dist-packages (from requests->informationtracer) (2023.5.7)\n",
            "Requirement already satisfied: charset-normalizer~=2.0.0 in /usr/local/lib/python3.10/dist-packages (from requests->informationtracer) (2.0.12)\n",
            "Requirement already satisfied: idna<4,>=2.5 in /usr/local/lib/python3.10/dist-packages (from requests->informationtracer) (3.4)\n",
            "Building wheels for collected packages: informationtracer\n",
            "  Building wheel for informationtracer (setup.py) ... \u001b[?25l\u001b[?25hdone\n",
            "  Created wheel for informationtracer: filename=informationtracer-0.1.9-py3-none-any.whl size=4191 sha256=bd716c72b8267e3803ce20f897d4484fbb46d1d6045fd4a7f1480954d873f680\n",
            "  Stored in directory: /root/.cache/pip/wheels/5a/58/4c/1795e5c5fce6acb598814203ff2278a3bca01e450dbd6edef3\n",
            "Successfully built informationtracer\n",
            "Installing collected packages: informationtracer\n",
            "Successfully installed informationtracer-0.1.9\n"
          ]
        }
      ],
      "source": [
        "!pip install informationtracer\n",
        "from informationtracer import informationtracer\n",
        "import requests\n",
        "import pandas as pd\n",
        "import numpy as np\n",
        "import matplotlib.pyplot as plt\n",
        "from pprint import pprint"
      ]
    },
    {
      "cell_type": "code",
      "execution_count": null,
      "metadata": {
        "id": "knOxHnDhtjQ8"
      },
      "outputs": [],
      "source": [
        "# for network\n",
        "import networkx as nx\n",
        "# for visualization\n",
        "!pip install msticpy\n",
        "import msticpy as mp\n",
        "mp.init_notebook()\n",
        "#don't need to run successfully to work"
      ]
    },
    {
      "cell_type": "code",
      "execution_count": 3,
      "metadata": {
        "id": "sTftSd8x2wS2"
      },
      "outputs": [],
      "source": [
        "\n",
        "def load_data(id_hash256):\n",
        "\n",
        "  ## extract data\n",
        "  url = \"https://informationtracer.com/cross_platform/{}/interaction_network_{}.json\".format(id_hash256[:3], id_hash256)\n",
        "\n",
        "  network_json = requests.get(url).json()\n",
        "\n",
        "  ## construct df\n",
        "  node_id_to_category = {}\n",
        "  node_id_to_name={}\n",
        "  node_id_to_datetime={}\n",
        "  node_id_to_platform={}\n",
        "\n",
        "  ## iterate all nodes to save node type\n",
        "  for node in network_json['nodes']:\n",
        "    node_id_to_category[node['id']] = node['type']\n",
        "    node_id_to_name[node['id']]=node['name']\n",
        "    node_id_to_datetime[node['id']]=node['timestamp']\n",
        "    node_id_to_platform[node['id']]=node['platform']\n",
        "\n",
        "  ## iterate all links\n",
        "  source=[]\n",
        "  target=[]\n",
        "  weight=[]\n",
        "  source_cat=[]\n",
        "  target_cat=[]\n",
        "  source_datetime=[]\n",
        "  target_datetime=[]\n",
        "\n",
        "  for link in network_json['links']:\n",
        "    source_id = link['source']\n",
        "    target_id = link['target']\n",
        "    source_datetime.append(node_id_to_datetime[source_id])\n",
        "    target_datetime.append(node_id_to_datetime[target_id])\n",
        "\n",
        "    source_cat.append(node_id_to_category[source_id])\n",
        "    target_cat.append(node_id_to_category[target_id])\n",
        "\n",
        "    # to distinguish user with same name on different platform\n",
        "    if node_id_to_category[source_id]=='user':\n",
        "      source.append((node_id_to_name[source_id]+' '+node_id_to_platform[source_id]))\n",
        "    else:\n",
        "      source.append(node_id_to_name[source_id])\n",
        "\n",
        "    if node_id_to_category[target_id]=='user':\n",
        "      target.append((node_id_to_name[target_id]+' '+node_id_to_platform[target_id]))\n",
        "    else:\n",
        "      target.append(node_id_to_name[target_id])\n",
        "\n",
        "    weight.append(link['weight'])\n",
        "\n",
        "\n",
        "  nw_df = pd.DataFrame({\n",
        "      'source': source,\n",
        "      'target': target,\n",
        "      'weight': weight,\n",
        "      'source_cat': source_cat,\n",
        "      'target_cat': target_cat,\n",
        "      'source_datetime': source_datetime,\n",
        "      'target_datetime': target_datetime\n",
        "  })\n",
        "  nw_df['source_datetime']=pd.to_datetime(nw_df['source_datetime'])\n",
        "  nw_df['target_datetime']=pd.to_datetime(nw_df['target_datetime'])\n",
        "\n",
        "  # check df info\n",
        "  print('shape of df:',nw_df.shape)\n",
        "  print('source category:',nw_df['source_cat'].unique())\n",
        "  print('target category',nw_df['target_cat'].unique())\n",
        "\n",
        "  return nw_df\n"
      ]
    },
    {
      "cell_type": "markdown",
      "metadata": {
        "id": "hyZhbTs_yGtm"
      },
      "source": [
        "1. Learning objective: in this exercise, you will choose two data sets, and compare the shape of two networks and other metrics.\n",
        "\n",
        "2. TODO: change **id_hash256** for df1 and df2 to IDs provided in google doc to explore different networks\n",
        "\n",
        "3. After that, you can just run each block."
      ]
    },
    {
      "cell_type": "code",
      "execution_count": 4,
      "metadata": {
        "colab": {
          "base_uri": "https://localhost:8080/",
          "height": 258
        },
        "id": "wefMPaJgkPD3",
        "outputId": "c5ad7c8f-1713-4fc8-a162-4c28e3277447"
      },
      "outputs": [
        {
          "output_type": "stream",
          "name": "stdout",
          "text": [
            "shape of df: (1147, 7)\n",
            "source category: ['user']\n",
            "target category ['hashtag']\n"
          ]
        },
        {
          "output_type": "execute_result",
          "data": {
            "text/plain": [
              "                              source            target    weight source_cat  \\\n",
              "0          Stone's 2nd Sense youtube           #shorts  6.077642       user   \n",
              "1  Oregon Republican Party instagram            #orpol  4.852030       user   \n",
              "2  Oregon Republican Party instagram               #2a  5.327876       user   \n",
              "3  Oregon Republican Party instagram     #constitution  5.327876       user   \n",
              "4  Oregon Republican Party instagram  #secondamendment  5.327876       user   \n",
              "\n",
              "  target_cat     source_datetime     target_datetime  \n",
              "0    hashtag 2023-05-05 00:00:12 2023-05-05 00:00:12  \n",
              "1    hashtag 2023-05-05 00:39:08 2023-05-05 00:39:08  \n",
              "2    hashtag 2023-05-05 00:39:08 2023-05-05 00:39:08  \n",
              "3    hashtag 2023-05-05 00:39:08 2023-05-05 00:39:08  \n",
              "4    hashtag 2023-05-05 00:39:08 2023-05-05 00:39:08  "
            ],
            "text/html": [
              "\n",
              "\n",
              "  <div id=\"df-fb2da7a0-72ba-46a0-af23-e748674eb0ab\">\n",
              "    <div class=\"colab-df-container\">\n",
              "      <div>\n",
              "<style scoped>\n",
              "    .dataframe tbody tr th:only-of-type {\n",
              "        vertical-align: middle;\n",
              "    }\n",
              "\n",
              "    .dataframe tbody tr th {\n",
              "        vertical-align: top;\n",
              "    }\n",
              "\n",
              "    .dataframe thead th {\n",
              "        text-align: right;\n",
              "    }\n",
              "</style>\n",
              "<table border=\"1\" class=\"dataframe\">\n",
              "  <thead>\n",
              "    <tr style=\"text-align: right;\">\n",
              "      <th></th>\n",
              "      <th>source</th>\n",
              "      <th>target</th>\n",
              "      <th>weight</th>\n",
              "      <th>source_cat</th>\n",
              "      <th>target_cat</th>\n",
              "      <th>source_datetime</th>\n",
              "      <th>target_datetime</th>\n",
              "    </tr>\n",
              "  </thead>\n",
              "  <tbody>\n",
              "    <tr>\n",
              "      <th>0</th>\n",
              "      <td>Stone's 2nd Sense youtube</td>\n",
              "      <td>#shorts</td>\n",
              "      <td>6.077642</td>\n",
              "      <td>user</td>\n",
              "      <td>hashtag</td>\n",
              "      <td>2023-05-05 00:00:12</td>\n",
              "      <td>2023-05-05 00:00:12</td>\n",
              "    </tr>\n",
              "    <tr>\n",
              "      <th>1</th>\n",
              "      <td>Oregon Republican Party instagram</td>\n",
              "      <td>#orpol</td>\n",
              "      <td>4.852030</td>\n",
              "      <td>user</td>\n",
              "      <td>hashtag</td>\n",
              "      <td>2023-05-05 00:39:08</td>\n",
              "      <td>2023-05-05 00:39:08</td>\n",
              "    </tr>\n",
              "    <tr>\n",
              "      <th>2</th>\n",
              "      <td>Oregon Republican Party instagram</td>\n",
              "      <td>#2a</td>\n",
              "      <td>5.327876</td>\n",
              "      <td>user</td>\n",
              "      <td>hashtag</td>\n",
              "      <td>2023-05-05 00:39:08</td>\n",
              "      <td>2023-05-05 00:39:08</td>\n",
              "    </tr>\n",
              "    <tr>\n",
              "      <th>3</th>\n",
              "      <td>Oregon Republican Party instagram</td>\n",
              "      <td>#constitution</td>\n",
              "      <td>5.327876</td>\n",
              "      <td>user</td>\n",
              "      <td>hashtag</td>\n",
              "      <td>2023-05-05 00:39:08</td>\n",
              "      <td>2023-05-05 00:39:08</td>\n",
              "    </tr>\n",
              "    <tr>\n",
              "      <th>4</th>\n",
              "      <td>Oregon Republican Party instagram</td>\n",
              "      <td>#secondamendment</td>\n",
              "      <td>5.327876</td>\n",
              "      <td>user</td>\n",
              "      <td>hashtag</td>\n",
              "      <td>2023-05-05 00:39:08</td>\n",
              "      <td>2023-05-05 00:39:08</td>\n",
              "    </tr>\n",
              "  </tbody>\n",
              "</table>\n",
              "</div>\n",
              "      <button class=\"colab-df-convert\" onclick=\"convertToInteractive('df-fb2da7a0-72ba-46a0-af23-e748674eb0ab')\"\n",
              "              title=\"Convert this dataframe to an interactive table.\"\n",
              "              style=\"display:none;\">\n",
              "\n",
              "  <svg xmlns=\"http://www.w3.org/2000/svg\" height=\"24px\"viewBox=\"0 0 24 24\"\n",
              "       width=\"24px\">\n",
              "    <path d=\"M0 0h24v24H0V0z\" fill=\"none\"/>\n",
              "    <path d=\"M18.56 5.44l.94 2.06.94-2.06 2.06-.94-2.06-.94-.94-2.06-.94 2.06-2.06.94zm-11 1L8.5 8.5l.94-2.06 2.06-.94-2.06-.94L8.5 2.5l-.94 2.06-2.06.94zm10 10l.94 2.06.94-2.06 2.06-.94-2.06-.94-.94-2.06-.94 2.06-2.06.94z\"/><path d=\"M17.41 7.96l-1.37-1.37c-.4-.4-.92-.59-1.43-.59-.52 0-1.04.2-1.43.59L10.3 9.45l-7.72 7.72c-.78.78-.78 2.05 0 2.83L4 21.41c.39.39.9.59 1.41.59.51 0 1.02-.2 1.41-.59l7.78-7.78 2.81-2.81c.8-.78.8-2.07 0-2.86zM5.41 20L4 18.59l7.72-7.72 1.47 1.35L5.41 20z\"/>\n",
              "  </svg>\n",
              "      </button>\n",
              "\n",
              "\n",
              "\n",
              "    <div id=\"df-dd515c31-fa92-48cf-b9fc-6f5a3c69bc5c\">\n",
              "      <button class=\"colab-df-quickchart\" onclick=\"quickchart('df-dd515c31-fa92-48cf-b9fc-6f5a3c69bc5c')\"\n",
              "              title=\"Suggest charts.\"\n",
              "              style=\"display:none;\">\n",
              "\n",
              "<svg xmlns=\"http://www.w3.org/2000/svg\" height=\"24px\"viewBox=\"0 0 24 24\"\n",
              "     width=\"24px\">\n",
              "    <g>\n",
              "        <path d=\"M19 3H5c-1.1 0-2 .9-2 2v14c0 1.1.9 2 2 2h14c1.1 0 2-.9 2-2V5c0-1.1-.9-2-2-2zM9 17H7v-7h2v7zm4 0h-2V7h2v10zm4 0h-2v-4h2v4z\"/>\n",
              "    </g>\n",
              "</svg>\n",
              "      </button>\n",
              "    </div>\n",
              "\n",
              "<style>\n",
              "  .colab-df-quickchart {\n",
              "    background-color: #E8F0FE;\n",
              "    border: none;\n",
              "    border-radius: 50%;\n",
              "    cursor: pointer;\n",
              "    display: none;\n",
              "    fill: #1967D2;\n",
              "    height: 32px;\n",
              "    padding: 0 0 0 0;\n",
              "    width: 32px;\n",
              "  }\n",
              "\n",
              "  .colab-df-quickchart:hover {\n",
              "    background-color: #E2EBFA;\n",
              "    box-shadow: 0px 1px 2px rgba(60, 64, 67, 0.3), 0px 1px 3px 1px rgba(60, 64, 67, 0.15);\n",
              "    fill: #174EA6;\n",
              "  }\n",
              "\n",
              "  [theme=dark] .colab-df-quickchart {\n",
              "    background-color: #3B4455;\n",
              "    fill: #D2E3FC;\n",
              "  }\n",
              "\n",
              "  [theme=dark] .colab-df-quickchart:hover {\n",
              "    background-color: #434B5C;\n",
              "    box-shadow: 0px 1px 3px 1px rgba(0, 0, 0, 0.15);\n",
              "    filter: drop-shadow(0px 1px 2px rgba(0, 0, 0, 0.3));\n",
              "    fill: #FFFFFF;\n",
              "  }\n",
              "</style>\n",
              "\n",
              "    <script>\n",
              "      async function quickchart(key) {\n",
              "        const containerElement = document.querySelector('#' + key);\n",
              "        const charts = await google.colab.kernel.invokeFunction(\n",
              "            'suggestCharts', [key], {});\n",
              "      }\n",
              "    </script>\n",
              "\n",
              "      <script>\n",
              "\n",
              "function displayQuickchartButton(domScope) {\n",
              "  let quickchartButtonEl =\n",
              "    domScope.querySelector('#df-dd515c31-fa92-48cf-b9fc-6f5a3c69bc5c button.colab-df-quickchart');\n",
              "  quickchartButtonEl.style.display =\n",
              "    google.colab.kernel.accessAllowed ? 'block' : 'none';\n",
              "}\n",
              "\n",
              "        displayQuickchartButton(document);\n",
              "      </script>\n",
              "      <style>\n",
              "    .colab-df-container {\n",
              "      display:flex;\n",
              "      flex-wrap:wrap;\n",
              "      gap: 12px;\n",
              "    }\n",
              "\n",
              "    .colab-df-convert {\n",
              "      background-color: #E8F0FE;\n",
              "      border: none;\n",
              "      border-radius: 50%;\n",
              "      cursor: pointer;\n",
              "      display: none;\n",
              "      fill: #1967D2;\n",
              "      height: 32px;\n",
              "      padding: 0 0 0 0;\n",
              "      width: 32px;\n",
              "    }\n",
              "\n",
              "    .colab-df-convert:hover {\n",
              "      background-color: #E2EBFA;\n",
              "      box-shadow: 0px 1px 2px rgba(60, 64, 67, 0.3), 0px 1px 3px 1px rgba(60, 64, 67, 0.15);\n",
              "      fill: #174EA6;\n",
              "    }\n",
              "\n",
              "    [theme=dark] .colab-df-convert {\n",
              "      background-color: #3B4455;\n",
              "      fill: #D2E3FC;\n",
              "    }\n",
              "\n",
              "    [theme=dark] .colab-df-convert:hover {\n",
              "      background-color: #434B5C;\n",
              "      box-shadow: 0px 1px 3px 1px rgba(0, 0, 0, 0.15);\n",
              "      filter: drop-shadow(0px 1px 2px rgba(0, 0, 0, 0.3));\n",
              "      fill: #FFFFFF;\n",
              "    }\n",
              "  </style>\n",
              "\n",
              "      <script>\n",
              "        const buttonEl =\n",
              "          document.querySelector('#df-fb2da7a0-72ba-46a0-af23-e748674eb0ab button.colab-df-convert');\n",
              "        buttonEl.style.display =\n",
              "          google.colab.kernel.accessAllowed ? 'block' : 'none';\n",
              "\n",
              "        async function convertToInteractive(key) {\n",
              "          const element = document.querySelector('#df-fb2da7a0-72ba-46a0-af23-e748674eb0ab');\n",
              "          const dataTable =\n",
              "            await google.colab.kernel.invokeFunction('convertToInteractive',\n",
              "                                                     [key], {});\n",
              "          if (!dataTable) return;\n",
              "\n",
              "          const docLinkHtml = 'Like what you see? Visit the ' +\n",
              "            '<a target=\"_blank\" href=https://colab.research.google.com/notebooks/data_table.ipynb>data table notebook</a>'\n",
              "            + ' to learn more about interactive tables.';\n",
              "          element.innerHTML = '';\n",
              "          dataTable['output_type'] = 'display_data';\n",
              "          await google.colab.output.renderOutput(dataTable, element);\n",
              "          const docLink = document.createElement('div');\n",
              "          docLink.innerHTML = docLinkHtml;\n",
              "          element.appendChild(docLink);\n",
              "        }\n",
              "      </script>\n",
              "    </div>\n",
              "  </div>\n"
            ]
          },
          "metadata": {},
          "execution_count": 4
        }
      ],
      "source": [
        "# query = '\"Manolo Jiménez Salinas\" OR manolojim OR manolojimenezs OR Manolo.Jimenez.Salinas'\n",
        "###################################################\n",
        "##                                               ##\n",
        "## TODO: change id_hash256 below for dataset 1   ##\n",
        "##                                               ##\n",
        "###################################################\n",
        "df1=load_data('d61687f2c0331da95655a8fd00d6f45e2f5e3703e1e624f4cbe76fda11435747') #id\n",
        "df1.head()"
      ]
    },
    {
      "cell_type": "code",
      "execution_count": 5,
      "metadata": {
        "colab": {
          "base_uri": "https://localhost:8080/",
          "height": 258
        },
        "id": "GJXQ-88gk08d",
        "outputId": "a678c25b-9122-43b1-d617-3a9249346719"
      },
      "outputs": [
        {
          "output_type": "stream",
          "name": "stdout",
          "text": [
            "shape of df: (1992, 7)\n",
            "source category: ['user']\n",
            "target category ['hashtag']\n"
          ]
        },
        {
          "output_type": "execute_result",
          "data": {
            "text/plain": [
              "                   source               target    weight source_cat  \\\n",
              "0  VOA Indonesia facebook               #sudan  6.347389       user   \n",
              "1  VOA Indonesia facebook                 #rsf  6.347389       user   \n",
              "2  VOA Indonesia facebook  #rapidsupportforces  6.347389       user   \n",
              "3         The Sun youtube                 #war  4.204693       user   \n",
              "4         The Sun youtube               #sudan  6.887553       user   \n",
              "\n",
              "  target_cat     source_datetime     target_datetime  \n",
              "0    hashtag 2023-04-18 00:00:01 2023-04-18 00:00:01  \n",
              "1    hashtag 2023-04-18 00:00:01 2023-04-18 00:00:01  \n",
              "2    hashtag 2023-04-18 00:00:01 2023-04-18 00:00:01  \n",
              "3    hashtag 2023-04-18 00:00:02 2023-04-18 00:00:02  \n",
              "4    hashtag 2023-04-18 00:00:02 2023-04-18 00:00:01  "
            ],
            "text/html": [
              "\n",
              "\n",
              "  <div id=\"df-4785ff3a-f216-4880-b45d-4769a40c47ef\">\n",
              "    <div class=\"colab-df-container\">\n",
              "      <div>\n",
              "<style scoped>\n",
              "    .dataframe tbody tr th:only-of-type {\n",
              "        vertical-align: middle;\n",
              "    }\n",
              "\n",
              "    .dataframe tbody tr th {\n",
              "        vertical-align: top;\n",
              "    }\n",
              "\n",
              "    .dataframe thead th {\n",
              "        text-align: right;\n",
              "    }\n",
              "</style>\n",
              "<table border=\"1\" class=\"dataframe\">\n",
              "  <thead>\n",
              "    <tr style=\"text-align: right;\">\n",
              "      <th></th>\n",
              "      <th>source</th>\n",
              "      <th>target</th>\n",
              "      <th>weight</th>\n",
              "      <th>source_cat</th>\n",
              "      <th>target_cat</th>\n",
              "      <th>source_datetime</th>\n",
              "      <th>target_datetime</th>\n",
              "    </tr>\n",
              "  </thead>\n",
              "  <tbody>\n",
              "    <tr>\n",
              "      <th>0</th>\n",
              "      <td>VOA Indonesia facebook</td>\n",
              "      <td>#sudan</td>\n",
              "      <td>6.347389</td>\n",
              "      <td>user</td>\n",
              "      <td>hashtag</td>\n",
              "      <td>2023-04-18 00:00:01</td>\n",
              "      <td>2023-04-18 00:00:01</td>\n",
              "    </tr>\n",
              "    <tr>\n",
              "      <th>1</th>\n",
              "      <td>VOA Indonesia facebook</td>\n",
              "      <td>#rsf</td>\n",
              "      <td>6.347389</td>\n",
              "      <td>user</td>\n",
              "      <td>hashtag</td>\n",
              "      <td>2023-04-18 00:00:01</td>\n",
              "      <td>2023-04-18 00:00:01</td>\n",
              "    </tr>\n",
              "    <tr>\n",
              "      <th>2</th>\n",
              "      <td>VOA Indonesia facebook</td>\n",
              "      <td>#rapidsupportforces</td>\n",
              "      <td>6.347389</td>\n",
              "      <td>user</td>\n",
              "      <td>hashtag</td>\n",
              "      <td>2023-04-18 00:00:01</td>\n",
              "      <td>2023-04-18 00:00:01</td>\n",
              "    </tr>\n",
              "    <tr>\n",
              "      <th>3</th>\n",
              "      <td>The Sun youtube</td>\n",
              "      <td>#war</td>\n",
              "      <td>4.204693</td>\n",
              "      <td>user</td>\n",
              "      <td>hashtag</td>\n",
              "      <td>2023-04-18 00:00:02</td>\n",
              "      <td>2023-04-18 00:00:02</td>\n",
              "    </tr>\n",
              "    <tr>\n",
              "      <th>4</th>\n",
              "      <td>The Sun youtube</td>\n",
              "      <td>#sudan</td>\n",
              "      <td>6.887553</td>\n",
              "      <td>user</td>\n",
              "      <td>hashtag</td>\n",
              "      <td>2023-04-18 00:00:02</td>\n",
              "      <td>2023-04-18 00:00:01</td>\n",
              "    </tr>\n",
              "  </tbody>\n",
              "</table>\n",
              "</div>\n",
              "      <button class=\"colab-df-convert\" onclick=\"convertToInteractive('df-4785ff3a-f216-4880-b45d-4769a40c47ef')\"\n",
              "              title=\"Convert this dataframe to an interactive table.\"\n",
              "              style=\"display:none;\">\n",
              "\n",
              "  <svg xmlns=\"http://www.w3.org/2000/svg\" height=\"24px\"viewBox=\"0 0 24 24\"\n",
              "       width=\"24px\">\n",
              "    <path d=\"M0 0h24v24H0V0z\" fill=\"none\"/>\n",
              "    <path d=\"M18.56 5.44l.94 2.06.94-2.06 2.06-.94-2.06-.94-.94-2.06-.94 2.06-2.06.94zm-11 1L8.5 8.5l.94-2.06 2.06-.94-2.06-.94L8.5 2.5l-.94 2.06-2.06.94zm10 10l.94 2.06.94-2.06 2.06-.94-2.06-.94-.94-2.06-.94 2.06-2.06.94z\"/><path d=\"M17.41 7.96l-1.37-1.37c-.4-.4-.92-.59-1.43-.59-.52 0-1.04.2-1.43.59L10.3 9.45l-7.72 7.72c-.78.78-.78 2.05 0 2.83L4 21.41c.39.39.9.59 1.41.59.51 0 1.02-.2 1.41-.59l7.78-7.78 2.81-2.81c.8-.78.8-2.07 0-2.86zM5.41 20L4 18.59l7.72-7.72 1.47 1.35L5.41 20z\"/>\n",
              "  </svg>\n",
              "      </button>\n",
              "\n",
              "\n",
              "\n",
              "    <div id=\"df-c7dbe06b-e12d-4669-a452-1171704da5a3\">\n",
              "      <button class=\"colab-df-quickchart\" onclick=\"quickchart('df-c7dbe06b-e12d-4669-a452-1171704da5a3')\"\n",
              "              title=\"Suggest charts.\"\n",
              "              style=\"display:none;\">\n",
              "\n",
              "<svg xmlns=\"http://www.w3.org/2000/svg\" height=\"24px\"viewBox=\"0 0 24 24\"\n",
              "     width=\"24px\">\n",
              "    <g>\n",
              "        <path d=\"M19 3H5c-1.1 0-2 .9-2 2v14c0 1.1.9 2 2 2h14c1.1 0 2-.9 2-2V5c0-1.1-.9-2-2-2zM9 17H7v-7h2v7zm4 0h-2V7h2v10zm4 0h-2v-4h2v4z\"/>\n",
              "    </g>\n",
              "</svg>\n",
              "      </button>\n",
              "    </div>\n",
              "\n",
              "<style>\n",
              "  .colab-df-quickchart {\n",
              "    background-color: #E8F0FE;\n",
              "    border: none;\n",
              "    border-radius: 50%;\n",
              "    cursor: pointer;\n",
              "    display: none;\n",
              "    fill: #1967D2;\n",
              "    height: 32px;\n",
              "    padding: 0 0 0 0;\n",
              "    width: 32px;\n",
              "  }\n",
              "\n",
              "  .colab-df-quickchart:hover {\n",
              "    background-color: #E2EBFA;\n",
              "    box-shadow: 0px 1px 2px rgba(60, 64, 67, 0.3), 0px 1px 3px 1px rgba(60, 64, 67, 0.15);\n",
              "    fill: #174EA6;\n",
              "  }\n",
              "\n",
              "  [theme=dark] .colab-df-quickchart {\n",
              "    background-color: #3B4455;\n",
              "    fill: #D2E3FC;\n",
              "  }\n",
              "\n",
              "  [theme=dark] .colab-df-quickchart:hover {\n",
              "    background-color: #434B5C;\n",
              "    box-shadow: 0px 1px 3px 1px rgba(0, 0, 0, 0.15);\n",
              "    filter: drop-shadow(0px 1px 2px rgba(0, 0, 0, 0.3));\n",
              "    fill: #FFFFFF;\n",
              "  }\n",
              "</style>\n",
              "\n",
              "    <script>\n",
              "      async function quickchart(key) {\n",
              "        const containerElement = document.querySelector('#' + key);\n",
              "        const charts = await google.colab.kernel.invokeFunction(\n",
              "            'suggestCharts', [key], {});\n",
              "      }\n",
              "    </script>\n",
              "\n",
              "      <script>\n",
              "\n",
              "function displayQuickchartButton(domScope) {\n",
              "  let quickchartButtonEl =\n",
              "    domScope.querySelector('#df-c7dbe06b-e12d-4669-a452-1171704da5a3 button.colab-df-quickchart');\n",
              "  quickchartButtonEl.style.display =\n",
              "    google.colab.kernel.accessAllowed ? 'block' : 'none';\n",
              "}\n",
              "\n",
              "        displayQuickchartButton(document);\n",
              "      </script>\n",
              "      <style>\n",
              "    .colab-df-container {\n",
              "      display:flex;\n",
              "      flex-wrap:wrap;\n",
              "      gap: 12px;\n",
              "    }\n",
              "\n",
              "    .colab-df-convert {\n",
              "      background-color: #E8F0FE;\n",
              "      border: none;\n",
              "      border-radius: 50%;\n",
              "      cursor: pointer;\n",
              "      display: none;\n",
              "      fill: #1967D2;\n",
              "      height: 32px;\n",
              "      padding: 0 0 0 0;\n",
              "      width: 32px;\n",
              "    }\n",
              "\n",
              "    .colab-df-convert:hover {\n",
              "      background-color: #E2EBFA;\n",
              "      box-shadow: 0px 1px 2px rgba(60, 64, 67, 0.3), 0px 1px 3px 1px rgba(60, 64, 67, 0.15);\n",
              "      fill: #174EA6;\n",
              "    }\n",
              "\n",
              "    [theme=dark] .colab-df-convert {\n",
              "      background-color: #3B4455;\n",
              "      fill: #D2E3FC;\n",
              "    }\n",
              "\n",
              "    [theme=dark] .colab-df-convert:hover {\n",
              "      background-color: #434B5C;\n",
              "      box-shadow: 0px 1px 3px 1px rgba(0, 0, 0, 0.15);\n",
              "      filter: drop-shadow(0px 1px 2px rgba(0, 0, 0, 0.3));\n",
              "      fill: #FFFFFF;\n",
              "    }\n",
              "  </style>\n",
              "\n",
              "      <script>\n",
              "        const buttonEl =\n",
              "          document.querySelector('#df-4785ff3a-f216-4880-b45d-4769a40c47ef button.colab-df-convert');\n",
              "        buttonEl.style.display =\n",
              "          google.colab.kernel.accessAllowed ? 'block' : 'none';\n",
              "\n",
              "        async function convertToInteractive(key) {\n",
              "          const element = document.querySelector('#df-4785ff3a-f216-4880-b45d-4769a40c47ef');\n",
              "          const dataTable =\n",
              "            await google.colab.kernel.invokeFunction('convertToInteractive',\n",
              "                                                     [key], {});\n",
              "          if (!dataTable) return;\n",
              "\n",
              "          const docLinkHtml = 'Like what you see? Visit the ' +\n",
              "            '<a target=\"_blank\" href=https://colab.research.google.com/notebooks/data_table.ipynb>data table notebook</a>'\n",
              "            + ' to learn more about interactive tables.';\n",
              "          element.innerHTML = '';\n",
              "          dataTable['output_type'] = 'display_data';\n",
              "          await google.colab.output.renderOutput(dataTable, element);\n",
              "          const docLink = document.createElement('div');\n",
              "          docLink.innerHTML = docLinkHtml;\n",
              "          element.appendChild(docLink);\n",
              "        }\n",
              "      </script>\n",
              "    </div>\n",
              "  </div>\n"
            ]
          },
          "metadata": {},
          "execution_count": 5
        }
      ],
      "source": [
        "# query = '\"download crypto\" OR \"forextrader\" OR \"free coupon\"'\n",
        "###################################################\n",
        "##                                               ##\n",
        "## TODO: change id_hash256 below for dataset 2   ##\n",
        "##                                               ##\n",
        "###################################################\n",
        "df2=load_data(\"e0bf16efe00e86d641bd41d14bb8f07b7c79580fbd5dba8a8be956e006e24d93\")\n",
        "df2.head()"
      ]
    },
    {
      "cell_type": "markdown",
      "metadata": {
        "id": "TQDIcS0_MDy3"
      },
      "source": [
        "a node can be a user / hashtag / url"
      ]
    },
    {
      "cell_type": "markdown",
      "metadata": {
        "id": "5rniAlHA9Mx9"
      },
      "source": [
        "# Network Analysis"
      ]
    },
    {
      "cell_type": "code",
      "execution_count": null,
      "metadata": {
        "colab": {
          "background_save": true
        },
        "id": "DjmwvElh2w9K"
      },
      "outputs": [],
      "source": [
        "# create a graph object\n",
        "G1=nx.from_pandas_edgelist(df1,source='source',target='target',edge_attr='weight',create_using=nx.DiGraph())\n",
        "G2=nx.from_pandas_edgelist(df2,source='source',target='target',edge_attr='weight',create_using=nx.DiGraph())"
      ]
    },
    {
      "cell_type": "code",
      "execution_count": null,
      "metadata": {
        "colab": {
          "background_save": true,
          "base_uri": "https://localhost:8080/",
          "height": 834
        },
        "id": "kDH_H6X4CtU_",
        "outputId": "b65861a7-5a46-4065-a777-5d726b276f21"
      },
      "outputs": [
        {
          "data": {
            "application/javascript": [
              "(function(root) {\n",
              "  function now() {\n",
              "    return new Date();\n",
              "  }\n",
              "\n",
              "  const force = true;\n",
              "\n",
              "  if (typeof root._bokeh_onload_callbacks === \"undefined\" || force === true) {\n",
              "    root._bokeh_onload_callbacks = [];\n",
              "    root._bokeh_is_loading = undefined;\n",
              "  }\n",
              "\n",
              "const JS_MIME_TYPE = 'application/javascript';\n",
              "  const HTML_MIME_TYPE = 'text/html';\n",
              "  const EXEC_MIME_TYPE = 'application/vnd.bokehjs_exec.v0+json';\n",
              "  const CLASS_NAME = 'output_bokeh rendered_html';\n",
              "\n",
              "  /**\n",
              "   * Render data to the DOM node\n",
              "   */\n",
              "  function render(props, node) {\n",
              "    const script = document.createElement(\"script\");\n",
              "    node.appendChild(script);\n",
              "  }\n",
              "\n",
              "  /**\n",
              "   * Handle when an output is cleared or removed\n",
              "   */\n",
              "  function handleClearOutput(event, handle) {\n",
              "    const cell = handle.cell;\n",
              "\n",
              "    const id = cell.output_area._bokeh_element_id;\n",
              "    const server_id = cell.output_area._bokeh_server_id;\n",
              "    // Clean up Bokeh references\n",
              "    if (id != null && id in Bokeh.index) {\n",
              "      Bokeh.index[id].model.document.clear();\n",
              "      delete Bokeh.index[id];\n",
              "    }\n",
              "\n",
              "    if (server_id !== undefined) {\n",
              "      // Clean up Bokeh references\n",
              "      const cmd_clean = \"from bokeh.io.state import curstate; print(curstate().uuid_to_server['\" + server_id + \"'].get_sessions()[0].document.roots[0]._id)\";\n",
              "      cell.notebook.kernel.execute(cmd_clean, {\n",
              "        iopub: {\n",
              "          output: function(msg) {\n",
              "            const id = msg.content.text.trim();\n",
              "            if (id in Bokeh.index) {\n",
              "              Bokeh.index[id].model.document.clear();\n",
              "              delete Bokeh.index[id];\n",
              "            }\n",
              "          }\n",
              "        }\n",
              "      });\n",
              "      // Destroy server and session\n",
              "      const cmd_destroy = \"import bokeh.io.notebook as ion; ion.destroy_server('\" + server_id + \"')\";\n",
              "      cell.notebook.kernel.execute(cmd_destroy);\n",
              "    }\n",
              "  }\n",
              "\n",
              "  /**\n",
              "   * Handle when a new output is added\n",
              "   */\n",
              "  function handleAddOutput(event, handle) {\n",
              "    const output_area = handle.output_area;\n",
              "    const output = handle.output;\n",
              "\n",
              "    // limit handleAddOutput to display_data with EXEC_MIME_TYPE content only\n",
              "    if ((output.output_type != \"display_data\") || (!Object.prototype.hasOwnProperty.call(output.data, EXEC_MIME_TYPE))) {\n",
              "      return\n",
              "    }\n",
              "\n",
              "    const toinsert = output_area.element.find(\".\" + CLASS_NAME.split(' ')[0]);\n",
              "\n",
              "    if (output.metadata[EXEC_MIME_TYPE][\"id\"] !== undefined) {\n",
              "      toinsert[toinsert.length - 1].firstChild.textContent = output.data[JS_MIME_TYPE];\n",
              "      // store reference to embed id on output_area\n",
              "      output_area._bokeh_element_id = output.metadata[EXEC_MIME_TYPE][\"id\"];\n",
              "    }\n",
              "    if (output.metadata[EXEC_MIME_TYPE][\"server_id\"] !== undefined) {\n",
              "      const bk_div = document.createElement(\"div\");\n",
              "      bk_div.innerHTML = output.data[HTML_MIME_TYPE];\n",
              "      const script_attrs = bk_div.children[0].attributes;\n",
              "      for (let i = 0; i < script_attrs.length; i++) {\n",
              "        toinsert[toinsert.length - 1].firstChild.setAttribute(script_attrs[i].name, script_attrs[i].value);\n",
              "        toinsert[toinsert.length - 1].firstChild.textContent = bk_div.children[0].textContent\n",
              "      }\n",
              "      // store reference to server id on output_area\n",
              "      output_area._bokeh_server_id = output.metadata[EXEC_MIME_TYPE][\"server_id\"];\n",
              "    }\n",
              "  }\n",
              "\n",
              "  function register_renderer(events, OutputArea) {\n",
              "\n",
              "    function append_mime(data, metadata, element) {\n",
              "      // create a DOM node to render to\n",
              "      const toinsert = this.create_output_subarea(\n",
              "        metadata,\n",
              "        CLASS_NAME,\n",
              "        EXEC_MIME_TYPE\n",
              "      );\n",
              "      this.keyboard_manager.register_events(toinsert);\n",
              "      // Render to node\n",
              "      const props = {data: data, metadata: metadata[EXEC_MIME_TYPE]};\n",
              "      render(props, toinsert[toinsert.length - 1]);\n",
              "      element.append(toinsert);\n",
              "      return toinsert\n",
              "    }\n",
              "\n",
              "    /* Handle when an output is cleared or removed */\n",
              "    events.on('clear_output.CodeCell', handleClearOutput);\n",
              "    events.on('delete.Cell', handleClearOutput);\n",
              "\n",
              "    /* Handle when a new output is added */\n",
              "    events.on('output_added.OutputArea', handleAddOutput);\n",
              "\n",
              "    /**\n",
              "     * Register the mime type and append_mime function with output_area\n",
              "     */\n",
              "    OutputArea.prototype.register_mime_type(EXEC_MIME_TYPE, append_mime, {\n",
              "      /* Is output safe? */\n",
              "      safe: true,\n",
              "      /* Index of renderer in `output_area.display_order` */\n",
              "      index: 0\n",
              "    });\n",
              "  }\n",
              "\n",
              "  // register the mime type if in Jupyter Notebook environment and previously unregistered\n",
              "  if (root.Jupyter !== undefined) {\n",
              "    const events = require('base/js/events');\n",
              "    const OutputArea = require('notebook/js/outputarea').OutputArea;\n",
              "\n",
              "    if (OutputArea.prototype.mime_types().indexOf(EXEC_MIME_TYPE) == -1) {\n",
              "      register_renderer(events, OutputArea);\n",
              "    }\n",
              "  }\n",
              "  if (typeof (root._bokeh_timeout) === \"undefined\" || force === true) {\n",
              "    root._bokeh_timeout = Date.now() + 5000;\n",
              "    root._bokeh_failed_load = false;\n",
              "  }\n",
              "\n",
              "  const NB_LOAD_WARNING = {'data': {'text/html':\n",
              "     \"<div style='background-color: #fdd'>\\n\"+\n",
              "     \"<p>\\n\"+\n",
              "     \"BokehJS does not appear to have successfully loaded. If loading BokehJS from CDN, this \\n\"+\n",
              "     \"may be due to a slow or bad network connection. Possible fixes:\\n\"+\n",
              "     \"</p>\\n\"+\n",
              "     \"<ul>\\n\"+\n",
              "     \"<li>re-rerun `output_notebook()` to attempt to load from CDN again, or</li>\\n\"+\n",
              "     \"<li>use INLINE resources instead, as so:</li>\\n\"+\n",
              "     \"</ul>\\n\"+\n",
              "     \"<code>\\n\"+\n",
              "     \"from bokeh.resources import INLINE\\n\"+\n",
              "     \"output_notebook(resources=INLINE)\\n\"+\n",
              "     \"</code>\\n\"+\n",
              "     \"</div>\"}};\n",
              "\n",
              "  function display_loaded() {\n",
              "    const el = document.getElementById(null);\n",
              "    if (el != null) {\n",
              "      el.textContent = \"BokehJS is loading...\";\n",
              "    }\n",
              "    if (root.Bokeh !== undefined) {\n",
              "      if (el != null) {\n",
              "        el.textContent = \"BokehJS \" + root.Bokeh.version + \" successfully loaded.\";\n",
              "      }\n",
              "    } else if (Date.now() < root._bokeh_timeout) {\n",
              "      setTimeout(display_loaded, 100)\n",
              "    }\n",
              "  }\n",
              "\n",
              "  function run_callbacks() {\n",
              "    try {\n",
              "      root._bokeh_onload_callbacks.forEach(function(callback) {\n",
              "        if (callback != null)\n",
              "          callback();\n",
              "      });\n",
              "    } finally {\n",
              "      delete root._bokeh_onload_callbacks\n",
              "    }\n",
              "    console.debug(\"Bokeh: all callbacks have finished\");\n",
              "  }\n",
              "\n",
              "  function load_libs(css_urls, js_urls, callback) {\n",
              "    if (css_urls == null) css_urls = [];\n",
              "    if (js_urls == null) js_urls = [];\n",
              "\n",
              "    root._bokeh_onload_callbacks.push(callback);\n",
              "    if (root._bokeh_is_loading > 0) {\n",
              "      console.debug(\"Bokeh: BokehJS is being loaded, scheduling callback at\", now());\n",
              "      return null;\n",
              "    }\n",
              "    if (js_urls == null || js_urls.length === 0) {\n",
              "      run_callbacks();\n",
              "      return null;\n",
              "    }\n",
              "    console.debug(\"Bokeh: BokehJS not loaded, scheduling load and callback at\", now());\n",
              "    root._bokeh_is_loading = css_urls.length + js_urls.length;\n",
              "\n",
              "    function on_load() {\n",
              "      root._bokeh_is_loading--;\n",
              "      if (root._bokeh_is_loading === 0) {\n",
              "        console.debug(\"Bokeh: all BokehJS libraries/stylesheets loaded\");\n",
              "        run_callbacks()\n",
              "      }\n",
              "    }\n",
              "\n",
              "    function on_error(url) {\n",
              "      console.error(\"failed to load \" + url);\n",
              "    }\n",
              "\n",
              "    for (let i = 0; i < css_urls.length; i++) {\n",
              "      const url = css_urls[i];\n",
              "      const element = document.createElement(\"link\");\n",
              "      element.onload = on_load;\n",
              "      element.onerror = on_error.bind(null, url);\n",
              "      element.rel = \"stylesheet\";\n",
              "      element.type = \"text/css\";\n",
              "      element.href = url;\n",
              "      console.debug(\"Bokeh: injecting link tag for BokehJS stylesheet: \", url);\n",
              "      document.body.appendChild(element);\n",
              "    }\n",
              "\n",
              "    for (let i = 0; i < js_urls.length; i++) {\n",
              "      const url = js_urls[i];\n",
              "      const element = document.createElement('script');\n",
              "      element.onload = on_load;\n",
              "      element.onerror = on_error.bind(null, url);\n",
              "      element.async = false;\n",
              "      element.src = url;\n",
              "      console.debug(\"Bokeh: injecting script tag for BokehJS library: \", url);\n",
              "      document.head.appendChild(element);\n",
              "    }\n",
              "  };\n",
              "\n",
              "  function inject_raw_css(css) {\n",
              "    const element = document.createElement(\"style\");\n",
              "    element.appendChild(document.createTextNode(css));\n",
              "    document.body.appendChild(element);\n",
              "  }\n",
              "\n",
              "  const js_urls = [\"https://cdn.bokeh.org/bokeh/release/bokeh-2.4.3.min.js\", \"https://cdn.bokeh.org/bokeh/release/bokeh-gl-2.4.3.min.js\", \"https://cdn.bokeh.org/bokeh/release/bokeh-widgets-2.4.3.min.js\", \"https://cdn.bokeh.org/bokeh/release/bokeh-tables-2.4.3.min.js\", \"https://cdn.bokeh.org/bokeh/release/bokeh-mathjax-2.4.3.min.js\"];\n",
              "  const css_urls = [];\n",
              "\n",
              "  const inline_js = [    function(Bokeh) {\n",
              "      Bokeh.set_log_level(\"info\");\n",
              "    },\n",
              "function(Bokeh) {\n",
              "    }\n",
              "  ];\n",
              "\n",
              "  function run_inline_js() {\n",
              "    if (root.Bokeh !== undefined || force === true) {\n",
              "          for (let i = 0; i < inline_js.length; i++) {\n",
              "      inline_js[i].call(root, root.Bokeh);\n",
              "    }\n",
              "} else if (Date.now() < root._bokeh_timeout) {\n",
              "      setTimeout(run_inline_js, 100);\n",
              "    } else if (!root._bokeh_failed_load) {\n",
              "      console.log(\"Bokeh: BokehJS failed to load within specified timeout.\");\n",
              "      root._bokeh_failed_load = true;\n",
              "    } else if (force !== true) {\n",
              "      const cell = $(document.getElementById(null)).parents('.cell').data().cell;\n",
              "      cell.output_area.append_execute_result(NB_LOAD_WARNING)\n",
              "    }\n",
              "  }\n",
              "\n",
              "  if (root._bokeh_is_loading === 0) {\n",
              "    console.debug(\"Bokeh: BokehJS loaded, going straight to plotting\");\n",
              "    run_inline_js();\n",
              "  } else {\n",
              "    load_libs(css_urls, js_urls, function() {\n",
              "      console.debug(\"Bokeh: BokehJS plotting callback run at\", now());\n",
              "      run_inline_js();\n",
              "    });\n",
              "  }\n",
              "}(window));"
            ],
            "application/vnd.bokehjs_load.v0+json": "(function(root) {\n  function now() {\n    return new Date();\n  }\n\n  const force = true;\n\n  if (typeof root._bokeh_onload_callbacks === \"undefined\" || force === true) {\n    root._bokeh_onload_callbacks = [];\n    root._bokeh_is_loading = undefined;\n  }\n\n\n  if (typeof (root._bokeh_timeout) === \"undefined\" || force === true) {\n    root._bokeh_timeout = Date.now() + 5000;\n    root._bokeh_failed_load = false;\n  }\n\n  const NB_LOAD_WARNING = {'data': {'text/html':\n     \"<div style='background-color: #fdd'>\\n\"+\n     \"<p>\\n\"+\n     \"BokehJS does not appear to have successfully loaded. If loading BokehJS from CDN, this \\n\"+\n     \"may be due to a slow or bad network connection. Possible fixes:\\n\"+\n     \"</p>\\n\"+\n     \"<ul>\\n\"+\n     \"<li>re-rerun `output_notebook()` to attempt to load from CDN again, or</li>\\n\"+\n     \"<li>use INLINE resources instead, as so:</li>\\n\"+\n     \"</ul>\\n\"+\n     \"<code>\\n\"+\n     \"from bokeh.resources import INLINE\\n\"+\n     \"output_notebook(resources=INLINE)\\n\"+\n     \"</code>\\n\"+\n     \"</div>\"}};\n\n  function display_loaded() {\n    const el = document.getElementById(null);\n    if (el != null) {\n      el.textContent = \"BokehJS is loading...\";\n    }\n    if (root.Bokeh !== undefined) {\n      if (el != null) {\n        el.textContent = \"BokehJS \" + root.Bokeh.version + \" successfully loaded.\";\n      }\n    } else if (Date.now() < root._bokeh_timeout) {\n      setTimeout(display_loaded, 100)\n    }\n  }\n\n  function run_callbacks() {\n    try {\n      root._bokeh_onload_callbacks.forEach(function(callback) {\n        if (callback != null)\n          callback();\n      });\n    } finally {\n      delete root._bokeh_onload_callbacks\n    }\n    console.debug(\"Bokeh: all callbacks have finished\");\n  }\n\n  function load_libs(css_urls, js_urls, callback) {\n    if (css_urls == null) css_urls = [];\n    if (js_urls == null) js_urls = [];\n\n    root._bokeh_onload_callbacks.push(callback);\n    if (root._bokeh_is_loading > 0) {\n      console.debug(\"Bokeh: BokehJS is being loaded, scheduling callback at\", now());\n      return null;\n    }\n    if (js_urls == null || js_urls.length === 0) {\n      run_callbacks();\n      return null;\n    }\n    console.debug(\"Bokeh: BokehJS not loaded, scheduling load and callback at\", now());\n    root._bokeh_is_loading = css_urls.length + js_urls.length;\n\n    function on_load() {\n      root._bokeh_is_loading--;\n      if (root._bokeh_is_loading === 0) {\n        console.debug(\"Bokeh: all BokehJS libraries/stylesheets loaded\");\n        run_callbacks()\n      }\n    }\n\n    function on_error(url) {\n      console.error(\"failed to load \" + url);\n    }\n\n    for (let i = 0; i < css_urls.length; i++) {\n      const url = css_urls[i];\n      const element = document.createElement(\"link\");\n      element.onload = on_load;\n      element.onerror = on_error.bind(null, url);\n      element.rel = \"stylesheet\";\n      element.type = \"text/css\";\n      element.href = url;\n      console.debug(\"Bokeh: injecting link tag for BokehJS stylesheet: \", url);\n      document.body.appendChild(element);\n    }\n\n    for (let i = 0; i < js_urls.length; i++) {\n      const url = js_urls[i];\n      const element = document.createElement('script');\n      element.onload = on_load;\n      element.onerror = on_error.bind(null, url);\n      element.async = false;\n      element.src = url;\n      console.debug(\"Bokeh: injecting script tag for BokehJS library: \", url);\n      document.head.appendChild(element);\n    }\n  };\n\n  function inject_raw_css(css) {\n    const element = document.createElement(\"style\");\n    element.appendChild(document.createTextNode(css));\n    document.body.appendChild(element);\n  }\n\n  const js_urls = [\"https://cdn.bokeh.org/bokeh/release/bokeh-2.4.3.min.js\", \"https://cdn.bokeh.org/bokeh/release/bokeh-gl-2.4.3.min.js\", \"https://cdn.bokeh.org/bokeh/release/bokeh-widgets-2.4.3.min.js\", \"https://cdn.bokeh.org/bokeh/release/bokeh-tables-2.4.3.min.js\", \"https://cdn.bokeh.org/bokeh/release/bokeh-mathjax-2.4.3.min.js\"];\n  const css_urls = [];\n\n  const inline_js = [    function(Bokeh) {\n      Bokeh.set_log_level(\"info\");\n    },\nfunction(Bokeh) {\n    }\n  ];\n\n  function run_inline_js() {\n    if (root.Bokeh !== undefined || force === true) {\n          for (let i = 0; i < inline_js.length; i++) {\n      inline_js[i].call(root, root.Bokeh);\n    }\n} else if (Date.now() < root._bokeh_timeout) {\n      setTimeout(run_inline_js, 100);\n    } else if (!root._bokeh_failed_load) {\n      console.log(\"Bokeh: BokehJS failed to load within specified timeout.\");\n      root._bokeh_failed_load = true;\n    } else if (force !== true) {\n      const cell = $(document.getElementById(null)).parents('.cell').data().cell;\n      cell.output_area.append_execute_result(NB_LOAD_WARNING)\n    }\n  }\n\n  if (root._bokeh_is_loading === 0) {\n    console.debug(\"Bokeh: BokehJS loaded, going straight to plotting\");\n    run_inline_js();\n  } else {\n    load_libs(css_urls, js_urls, function() {\n      console.debug(\"Bokeh: BokehJS plotting callback run at\", now());\n      run_inline_js();\n    });\n  }\n}(window));"
          },
          "metadata": {},
          "output_type": "display_data"
        },
        {
          "data": {
            "text/html": [
              "\n",
              "  <div class=\"bk-root\" id=\"1bbe363c-0f01-4de4-a9d7-11e273830d74\" data-root-id=\"1033\"></div>\n"
            ]
          },
          "metadata": {},
          "output_type": "display_data"
        },
        {
          "data": {
            "application/javascript": [
              "(function(root) {\n",
              "  function embed_document(root) {\n",
              "  const docs_json = {\"9ae486f9-f84a-4f4f-8a2d-c7d16a938de3\":{\"defs\":[],\"roots\":{\"references\":[{\"attributes\":{\"below\":[{\"id\":\"1044\"}],\"center\":[{\"id\":\"1047\"},{\"id\":\"1051\"},{\"id\":\"1126\"},{\"id\":\"1127\"},{\"id\":\"1128\"},{\"id\":\"1129\"},{\"id\":\"1130\"},{\"id\":\"1131\"},{\"id\":\"1132\"},{\"id\":\"1133\"},{\"id\":\"1134\"},{\"id\":\"1135\"},{\"id\":\"1136\"},{\"id\":\"1137\"},{\"id\":\"1138\"},{\"id\":\"1139\"},{\"id\":\"1140\"},{\"id\":\"1141\"},{\"id\":\"1142\"},{\"id\":\"1143\"},{\"id\":\"1144\"},{\"id\":\"1145\"},{\"id\":\"1146\"},{\"id\":\"1147\"},{\"id\":\"1148\"},{\"id\":\"1149\"},{\"id\":\"1150\"},{\"id\":\"1151\"},{\"id\":\"1152\"},{\"id\":\"1153\"},{\"id\":\"1154\"},{\"id\":\"1155\"},{\"id\":\"1156\"},{\"id\":\"1157\"},{\"id\":\"1158\"},{\"id\":\"1159\"},{\"id\":\"1160\"},{\"id\":\"1161\"},{\"id\":\"1162\"},{\"id\":\"1163\"},{\"id\":\"1164\"},{\"id\":\"1165\"},{\"id\":\"1166\"},{\"id\":\"1167\"},{\"id\":\"1168\"},{\"id\":\"1169\"},{\"id\":\"1170\"},{\"id\":\"1171\"},{\"id\":\"1172\"},{\"id\":\"1173\"},{\"id\":\"1174\"},{\"id\":\"1175\"},{\"id\":\"1176\"},{\"id\":\"1177\"},{\"id\":\"1178\"},{\"id\":\"1179\"},{\"id\":\"1180\"},{\"id\":\"1181\"},{\"id\":\"1182\"},{\"id\":\"1183\"},{\"id\":\"1184\"},{\"id\":\"1185\"},{\"id\":\"1186\"},{\"id\":\"1187\"},{\"id\":\"1188\"},{\"id\":\"1189\"},{\"id\":\"1190\"},{\"id\":\"1191\"},{\"id\":\"1192\"},{\"id\":\"1193\"},{\"id\":\"1194\"},{\"id\":\"1195\"},{\"id\":\"1196\"},{\"id\":\"1197\"},{\"id\":\"1198\"},{\"id\":\"1199\"},{\"id\":\"1200\"},{\"id\":\"1201\"},{\"id\":\"1202\"},{\"id\":\"1203\"},{\"id\":\"1204\"}],\"height\":800,\"left\":[{\"id\":\"1048\"}],\"renderers\":[{\"id\":\"1066\"}],\"title\":{\"id\":\"1034\"},\"toolbar\":{\"id\":\"1059\"},\"width\":800,\"x_range\":{\"id\":\"1036\"},\"x_scale\":{\"id\":\"1040\"},\"y_range\":{\"id\":\"1038\"},\"y_scale\":{\"id\":\"1042\"}},\"id\":\"1033\",\"subtype\":\"Figure\",\"type\":\"Plot\"},{\"attributes\":{\"source\":{\"id\":\"1072\"}},\"id\":\"1074\",\"type\":\"CDSView\"},{\"attributes\":{\"coordinates\":null,\"group\":null,\"text\":\"desantis\",\"text_font_size\":\"10pt\",\"x\":-0.6464603021490998,\"x_offset\":5,\"y\":0.6568495654990466,\"y_offset\":5},\"id\":\"1168\",\"type\":\"Label\"},{\"attributes\":{\"line_alpha\":{\"value\":0.8}},\"id\":\"1085\",\"type\":\"MultiLine\"},{\"attributes\":{\"axis\":{\"id\":\"1044\"},\"coordinates\":null,\"group\":null,\"ticker\":null},\"id\":\"1047\",\"type\":\"Grid\"},{\"attributes\":{\"coordinates\":null,\"group\":null,\"text\":\"concealedcarry\",\"text_font_size\":\"10pt\",\"x\":0.14150725060535194,\"x_offset\":5,\"y\":-0.8715109620377001,\"y_offset\":5},\"id\":\"1149\",\"type\":\"Label\"},{\"attributes\":{\"coordinates\":null,\"group\":null,\"text\":\"money\",\"text_font_size\":\"10pt\",\"x\":0.5055848510300014,\"x_offset\":5,\"y\":-0.8103489331378702,\"y_offset\":5},\"id\":\"1184\",\"type\":\"Label\"},{\"attributes\":{\"callback\":null,\"renderers\":[{\"id\":\"1069\"}],\"tooltips\":[[\"node_type\",\"@node_type\"]]},\"id\":\"1118\",\"type\":\"HoverTool\"},{\"attributes\":{},\"id\":\"1055\",\"type\":\"SaveTool\"},{\"attributes\":{\"coordinates\":null,\"group\":null,\"text\":\"fe\",\"text_font_size\":\"10pt\",\"x\":-0.07361443203426753,\"x_offset\":5,\"y\":0.866386510424791,\"y_offset\":5},\"id\":\"1197\",\"type\":\"Label\"},{\"attributes\":{\"line_color\":{\"value\":\"#fdae61\"},\"line_width\":{\"value\":5}},\"id\":\"1090\",\"type\":\"MultiLine\"},{\"attributes\":{},\"id\":\"1215\",\"type\":\"BasicTickFormatter\"},{\"attributes\":{},\"id\":\"1218\",\"type\":\"BasicTickFormatter\"},{\"attributes\":{},\"id\":\"1219\",\"type\":\"AllLabels\"},{\"attributes\":{\"coordinates\":null,\"group\":null,\"text\":\"tourmuslim\",\"text_font_size\":\"10pt\",\"x\":-0.056977482595701644,\"x_offset\":5,\"y\":0.16459113202998787,\"y_offset\":5},\"id\":\"1130\",\"type\":\"Label\"},{\"attributes\":{\"coordinates\":null,\"group\":null,\"text\":\"winning\",\"text_font_size\":\"10pt\",\"x\":0.25017263730421707,\"x_offset\":5,\"y\":0.894794869615271,\"y_offset\":5},\"id\":\"1165\",\"type\":\"Label\"},{\"attributes\":{\"coordinates\":null,\"group\":null,\"text\":\"ar15\",\"text_font_size\":\"10pt\",\"x\":-0.00015425768437060826,\"x_offset\":5,\"y\":0.9828482944057808,\"y_offset\":5},\"id\":\"1158\",\"type\":\"Label\"},{\"attributes\":{\"fill_color\":{\"value\":\"#fdae61\"},\"size\":{\"value\":10}},\"id\":\"1105\",\"type\":\"Circle\"},{\"attributes\":{},\"id\":\"1057\",\"type\":\"HelpTool\"},{\"attributes\":{\"coordinates\":null,\"group\":null,\"text\":\"ak47\",\"text_font_size\":\"10pt\",\"x\":0.6701890193655223,\"x_offset\":5,\"y\":-0.7067330652638868,\"y_offset\":5},\"id\":\"1133\",\"type\":\"Label\"},{\"attributes\":{\"coordinates\":null,\"group\":null,\"text\":\"2a\",\"text_font_size\":\"10pt\",\"x\":0.34969535663477086,\"x_offset\":5,\"y\":-0.1660526053164885,\"y_offset\":5},\"id\":\"1128\",\"type\":\"Label\"},{\"attributes\":{\"coordinates\":null,\"group\":null,\"text\":\"selfimprovement\",\"text_font_size\":\"10pt\",\"x\":-0.8098612427010096,\"x_offset\":5,\"y\":-0.5568670907482478,\"y_offset\":5},\"id\":\"1164\",\"type\":\"Label\"},{\"attributes\":{\"coordinates\":null,\"group\":null,\"text\":\"dtom\",\"text_font_size\":\"10pt\",\"x\":0.19192141905014048,\"x_offset\":5,\"y\":-0.9606229042587728,\"y_offset\":5},\"id\":\"1153\",\"type\":\"Label\"},{\"attributes\":{},\"id\":\"1119\",\"type\":\"WheelZoomTool\"},{\"attributes\":{\"coordinates\":null,\"group\":null,\"text\":\"secondamendment\",\"text_font_size\":\"10pt\",\"x\":-0.6400170832237905,\"x_offset\":5,\"y\":-0.7780475461860363,\"y_offset\":5},\"id\":\"1127\",\"type\":\"Label\"},{\"attributes\":{\"coordinates\":null,\"group\":null,\"text\":\"pewpew\",\"text_font_size\":\"10pt\",\"x\":-0.27107068501158166,\"x_offset\":5,\"y\":0.8677232840972764,\"y_offset\":5},\"id\":\"1147\",\"type\":\"Label\"},{\"attributes\":{\"fill_color\":{\"field\":\"node_color\"},\"size\":{\"value\":10}},\"id\":\"1095\",\"type\":\"Circle\"},{\"attributes\":{\"source\":{\"id\":\"1068\"}},\"id\":\"1070\",\"type\":\"CDSView\"},{\"attributes\":{\"coordinates\":null,\"group\":null,\"text\":\"investing\",\"text_font_size\":\"10pt\",\"x\":-0.3316951470176782,\"x_offset\":5,\"y\":-0.7843005762738231,\"y_offset\":5},\"id\":\"1181\",\"type\":\"Label\"},{\"attributes\":{\"data\":{\"end\":[1,2,6,6,78,4,5,7,8,9,10,11,12,13,14,15,16,17,18,19,20,21,22,23,24,25,26,27,28,29,30,31,32,33,78,61,34,77,78,78,61,35,36,37,38,39,40,41,42,43,44,45,46,47,48,49,50,51,52,53,54,55,56,57,58,59,60,62,63,64,66,68,69,70,71,72,73,74,75,76],\"start\":[0,0,1,2,2,3,4,6,6,6,6,6,6,6,6,6,6,6,6,6,6,6,6,6,6,6,6,6,6,6,6,6,6,6,7,13,20,20,20,21,26,34,34,34,34,34,34,34,34,34,34,34,34,34,34,34,34,34,34,34,34,34,34,34,34,34,34,61,61,61,65,67,67,67,67,67,67,67,67,67]},\"selected\":{\"id\":\"1225\"},\"selection_policy\":{\"id\":\"1224\"}},\"id\":\"1072\",\"type\":\"ColumnDataSource\"},{\"attributes\":{},\"id\":\"1049\",\"type\":\"BasicTicker\"},{\"attributes\":{\"coordinates\":null,\"group\":null,\"text\":\"2ndamendment\",\"text_font_size\":\"10pt\",\"x\":0.5938727121320335,\"x_offset\":5,\"y\":-0.7632123370494905,\"y_offset\":5},\"id\":\"1156\",\"type\":\"Label\"},{\"attributes\":{\"coordinates\":null,\"group\":null,\"text\":\"glock19\",\"text_font_size\":\"10pt\",\"x\":0.905764861019307,\"x_offset\":5,\"y\":0.23552168540701066,\"y_offset\":5},\"id\":\"1134\",\"type\":\"Label\"},{\"attributes\":{\"overlay\":{\"id\":\"1058\"}},\"id\":\"1054\",\"type\":\"BoxZoomTool\"},{\"attributes\":{\"coordinates\":null,\"group\":null,\"text\":\"guns\",\"text_font_size\":\"10pt\",\"x\":-0.18323558095811004,\"x_offset\":5,\"y\":0.8987804718281858,\"y_offset\":5},\"id\":\"1139\",\"type\":\"Label\"},{\"attributes\":{\"coordinates\":null,\"group\":null,\"text\":\"gun\",\"text_font_size\":\"10pt\",\"x\":-0.3995007985178673,\"x_offset\":5,\"y\":0.9057158967837784,\"y_offset\":5},\"id\":\"1152\",\"type\":\"Label\"},{\"attributes\":{\"coordinates\":null,\"group\":null,\"text\":\"sanjuandeloslagos\",\"text_font_size\":\"10pt\",\"x\":0.9824161355903592,\"x_offset\":5,\"y\":-0.1836731328257855,\"y_offset\":5},\"id\":\"1201\",\"type\":\"Label\"},{\"attributes\":{\"coordinates\":null,\"group\":null,\"text\":\"selfpublished\",\"text_font_size\":\"10pt\",\"x\":0.7958442528886606,\"x_offset\":5,\"y\":0.4630211805873583,\"y_offset\":5},\"id\":\"1162\",\"type\":\"Label\"},{\"attributes\":{\"coordinates\":null,\"group\":null,\"text\":\"glockfanatics\",\"text_font_size\":\"10pt\",\"x\":0.707724560234215,\"x_offset\":5,\"y\":0.5811169174608783,\"y_offset\":5},\"id\":\"1155\",\"type\":\"Label\"},{\"attributes\":{\"coordinates\":null,\"group\":null,\"text\":\"gunporn\",\"text_font_size\":\"10pt\",\"x\":0.7857032033531519,\"x_offset\":5,\"y\":-0.45334508706538856,\"y_offset\":5},\"id\":\"1150\",\"type\":\"Label\"},{\"attributes\":{\"end\":3,\"start\":-3},\"id\":\"1038\",\"type\":\"Range1d\"},{\"attributes\":{\"coordinates\":null,\"group\":null,\"text\":\"gunchannels\",\"text_font_size\":\"10pt\",\"x\":-0.7634767409109169,\"x_offset\":5,\"y\":0.6846659517063011,\"y_offset\":5},\"id\":\"1144\",\"type\":\"Label\"},{\"attributes\":{\"coordinates\":null,\"group\":null,\"text\":\"peregrinos\",\"text_font_size\":\"10pt\",\"x\":-0.863739757336415,\"x_offset\":5,\"y\":-0.2843675468502327,\"y_offset\":5},\"id\":\"1198\",\"type\":\"Label\"},{\"attributes\":{\"coordinates\":null,\"group\":null,\"text\":\"cash\",\"text_font_size\":\"10pt\",\"x\":-0.44269875308545065,\"x_offset\":5,\"y\":0.7411720840872,\"y_offset\":5},\"id\":\"1167\",\"type\":\"Label\"},{\"attributes\":{\"overlay\":{\"id\":\"1221\"}},\"id\":\"1121\",\"type\":\"BoxSelectTool\"},{\"attributes\":{\"coordinates\":null,\"group\":null,\"text\":\"sickguns\",\"text_font_size\":\"10pt\",\"x\":0.8815303583529355,\"x_offset\":5,\"y\":-0.39511295891060516,\"y_offset\":5},\"id\":\"1138\",\"type\":\"Label\"},{\"attributes\":{\"coordinates\":null,\"group\":null,\"text\":\"oraci\\u00f3n\",\"text_font_size\":\"10pt\",\"x\":0.5335597296030143,\"x_offset\":5,\"y\":0.7325516296459181,\"y_offset\":5},\"id\":\"1196\",\"type\":\"Label\"},{\"attributes\":{\"coordinates\":null,\"data_source\":{\"id\":\"1072\"},\"glyph\":{\"id\":\"1085\"},\"group\":null,\"hover_glyph\":{\"id\":\"1080\"},\"selection_glyph\":{\"id\":\"1090\"},\"view\":{\"id\":\"1074\"}},\"id\":\"1073\",\"type\":\"GlyphRenderer\"},{\"attributes\":{\"coordinates\":null,\"edge_renderer\":{\"id\":\"1073\"},\"group\":null,\"inspection_policy\":{\"id\":\"1112\"},\"layout_provider\":{\"id\":\"1079\"},\"node_renderer\":{\"id\":\"1069\"},\"selection_policy\":{\"id\":\"1110\"}},\"id\":\"1066\",\"type\":\"GraphRenderer\"},{\"attributes\":{\"coordinates\":null,\"group\":null,\"text\":\"sanjuan\",\"text_font_size\":\"10pt\",\"x\":-0.9856055375636539,\"x_offset\":5,\"y\":-0.029696995458414716,\"y_offset\":5},\"id\":\"1200\",\"type\":\"Label\"},{\"attributes\":{\"coordinates\":null,\"group\":null,\"text\":\"triplex\",\"text_font_size\":\"10pt\",\"x\":0.8967799320411128,\"x_offset\":5,\"y\":-0.28782927849442375,\"y_offset\":5},\"id\":\"1183\",\"type\":\"Label\"},{\"attributes\":{\"coordinates\":null,\"group\":null,\"text\":\"FRANCE 24 English youtube\",\"text_font_size\":\"10pt\",\"x\":0.9670669103108305,\"x_offset\":5,\"y\":0.172196256138782,\"y_offset\":5},\"id\":\"1191\",\"type\":\"Label\"},{\"attributes\":{\"coordinates\":null,\"group\":null,\"text\":\"MIL-TEC\\u00ae USA instagram\",\"text_font_size\":\"10pt\",\"x\":-0.06419476934325943,\"x_offset\":5,\"y\":-0.14886253798561083,\"y_offset\":5},\"id\":\"1204\",\"type\":\"Label\"},{\"attributes\":{\"graph_layout\":{\"0\":[-0.4675255999130068,-0.8476928089242399],\"1\":[-0.6400170832237905,-0.7780475461860363],\"10\":[-0.1540834420180815,-0.9350609724584683],\"11\":[0.3702013285261465,0.9222871995553535],\"12\":[0.8815303583529355,-0.39511295891060516],\"13\":[-0.18323558095811004,0.8987804718281858],\"14\":[0.4220320602106548,0.7758870349948538],\"15\":[-0.690976533814503,-0.5493069101574848],\"16\":[0.29017914563168323,-0.9017586188595422],\"17\":[-0.9320651616927734,-0.10993200453354753],\"18\":[-0.7634767409109169,0.6846659517063011],\"19\":[0.9344298488447252,-0.06529992871245584],\"2\":[0.34969535663477086,-0.1660526053164885],\"20\":[-0.32242444149222177,-0.21120845618195508],\"21\":[-0.27107068501158166,0.8677232840972764],\"22\":[-0.9243178648439526,0.18776917159656545],\"23\":[0.14150725060535194,-0.8715109620377001],\"24\":[0.7857032033531519,-0.45334508706538856],\"25\":[0.8413384626146013,-0.5332435552255482],\"26\":[-0.3995007985178673,0.9057158967837784],\"27\":[0.19192141905014048,-0.9606229042587728],\"28\":[-0.8671140027907575,0.48055051510758234],\"29\":[0.707724560234215,0.5811169174608783],\"3\":[0.4039285227267902,-0.893610166974767],\"30\":[0.5938727121320335,-0.7632123370494905],\"31\":[0.8059360321682572,-0.6525552878212127],\"32\":[-0.00015425768437060826,0.9828482944057808],\"33\":[0.8810382252123041,0.5646146074503772],\"34\":[-0.012454029524431151,0.04222462170998898],\"35\":[-0.821660368475149,0.5728764266430217],\"36\":[0.7958442528886606,0.4630211805873583],\"37\":[-0.39909092580471367,-0.9099417053769174],\"38\":[-0.8098612427010096,-0.5568670907482478],\"39\":[0.25017263730421707,0.894794869615271],\"4\":[-0.056977482595701644,0.16459113202998787],\"40\":[-0.5422706464387307,0.8416577744155281],\"41\":[-0.44269875308545065,0.7411720840872],\"42\":[-0.6464603021490998,0.6568495654990466],\"43\":[-0.6655268313143791,-0.6537792563302265],\"44\":[0.15615926265910024,0.9999999999999999],\"45\":[-0.8930041060643145,-0.19469062985882066],\"46\":[-0.06281444508218818,-0.9542418759497742],\"47\":[0.6374883950213296,0.7966222411669708],\"48\":[-0.8038287382305531,-0.4347145243014912],\"49\":[-0.748214979039211,0.09228360790761667],\"5\":[-0.9409366873948183,0.28320573388512893],\"50\":[0.7548525245642601,0.6985514783002144],\"51\":[0.7347167152283568,0.303027905438213],\"52\":[0.6306424276184747,-0.5506554578585102],\"53\":[0.37129209872089197,-0.7605311378955132],\"54\":[-0.9079640295689627,0.08243754837722529],\"55\":[-0.3316951470176782,-0.7843005762738231],\"56\":[0.8929773386831416,0.055284496231058904],\"57\":[0.8967799320411128,-0.28782927849442375],\"58\":[0.5055848510300014,-0.8103489331378702],\"59\":[0.1064438129199165,0.8668202345111751],\"6\":[0.12273197002288881,-0.015720253737300613],\"60\":[0.902617086080529,0.3740105340293192],\"61\":[-0.3447485876331138,0.3034185480650651],\"62\":[-0.18075569605397637,-0.40036259530790597],\"63\":[-0.29821089298425285,-0.9001730267973037],\"64\":[-0.9088382505155432,0.3849658954471527],\"65\":[0.9670669103108305,0.172196256138782],\"66\":[-0.015223052065142352,0.38762910137583434],\"67\":[-0.20595489482712695,0.19904385327626517],\"68\":[-0.545811011755343,-0.6655350304314811],\"69\":[-0.9154828075987784,-0.36046710829655737],\"7\":[0.6701890193655223,-0.7067330652638868],\"70\":[0.5335597296030143,0.7325516296459181],\"71\":[-0.07361443203426753,0.866386510424791],\"72\":[-0.863739757336415,-0.2843675468502327],\"73\":[-0.6731596520422078,0.8168669355020145],\"74\":[-0.9856055375636539,-0.029696995458414716],\"75\":[0.9824161355903592,-0.1836731328257855],\"76\":[0.48365532437976916,0.8897497919830367],\"77\":[0.015364120504520915,-0.9319084447305386],\"78\":[-0.06419476934325943,-0.14886253798561083],\"8\":[0.905764861019307,0.23552168540701066],\"9\":[0.8594023572574401,-0.15674767210278678]}},\"id\":\"1079\",\"type\":\"StaticLayoutProvider\"},{\"attributes\":{\"coordinates\":null,\"group\":null,\"text\":\"Joseph Chantry instagram\",\"text_font_size\":\"10pt\",\"x\":-0.012454029524431151,\"x_offset\":5,\"y\":0.04222462170998898,\"y_offset\":5},\"id\":\"1160\",\"type\":\"Label\"},{\"attributes\":{\"coordinates\":null,\"group\":null,\"text\":\"virgendesanjuan\",\"text_font_size\":\"10pt\",\"x\":-0.9154828075987784,\"x_offset\":5,\"y\":-0.36046710829655737,\"y_offset\":5},\"id\":\"1195\",\"type\":\"Label\"},{\"attributes\":{\"coordinates\":null,\"group\":null,\"text\":\"personaldevelopement\",\"text_font_size\":\"10pt\",\"x\":-0.8038287382305531,\"x_offset\":5,\"y\":-0.4347145243014912,\"y_offset\":5},\"id\":\"1174\",\"type\":\"Label\"},{\"attributes\":{\"tools\":[{\"id\":\"1052\"},{\"id\":\"1053\"},{\"id\":\"1054\"},{\"id\":\"1055\"},{\"id\":\"1056\"},{\"id\":\"1057\"},{\"id\":\"1118\"},{\"id\":\"1119\"},{\"id\":\"1120\"},{\"id\":\"1121\"}]},\"id\":\"1059\",\"type\":\"Toolbar\"},{\"attributes\":{\"coordinates\":null,\"group\":null,\"text\":\"selfhelp\",\"text_font_size\":\"10pt\",\"x\":-0.748214979039211,\"x_offset\":5,\"y\":0.09228360790761667,\"y_offset\":5},\"id\":\"1175\",\"type\":\"Label\"},{\"attributes\":{\"coordinates\":null,\"group\":null,\"text\":\"Reportero Urbano (Lagos) facebook\",\"text_font_size\":\"10pt\",\"x\":-0.20595489482712695,\"x_offset\":5,\"y\":0.19904385327626517,\"y_offset\":5},\"id\":\"1193\",\"type\":\"Label\"},{\"attributes\":{\"coordinates\":null,\"group\":null,\"text\":\"economy\",\"text_font_size\":\"10pt\",\"x\":0.6374883950213296,\"x_offset\":5,\"y\":0.7966222411669708,\"y_offset\":5},\"id\":\"1173\",\"type\":\"Label\"},{\"attributes\":{},\"id\":\"1042\",\"type\":\"LinearScale\"},{\"attributes\":{\"coordinates\":null,\"group\":null,\"text\":\"andrewtate\",\"text_font_size\":\"10pt\",\"x\":0.7347167152283568,\"x_offset\":5,\"y\":0.303027905438213,\"y_offset\":5},\"id\":\"1177\",\"type\":\"Label\"},{\"attributes\":{\"end\":3,\"start\":-3},\"id\":\"1036\",\"type\":\"Range1d\"},{\"attributes\":{\"coordinates\":null,\"group\":null,\"text\":\"igmilitia\",\"text_font_size\":\"10pt\",\"x\":-0.1540834420180815,\"x_offset\":5,\"y\":-0.9350609724584683,\"y_offset\":5},\"id\":\"1136\",\"type\":\"Label\"},{\"attributes\":{\"coordinates\":null,\"group\":null,\"text\":\"Code Of Arms instagram\",\"text_font_size\":\"10pt\",\"x\":0.015364120504520915,\"x_offset\":5,\"y\":-0.9319084447305386,\"y_offset\":5},\"id\":\"1203\",\"type\":\"Label\"},{\"attributes\":{\"bottom_units\":\"screen\",\"coordinates\":null,\"fill_alpha\":0.5,\"fill_color\":\"lightgrey\",\"group\":null,\"left_units\":\"screen\",\"level\":\"overlay\",\"line_alpha\":1.0,\"line_color\":\"black\",\"line_dash\":[4,4],\"line_width\":2,\"right_units\":\"screen\",\"syncable\":false,\"top_units\":\"screen\"},\"id\":\"1221\",\"type\":\"BoxAnnotation\"},{\"attributes\":{\"coordinates\":null,\"group\":null,\"text\":\"ccw\",\"text_font_size\":\"10pt\",\"x\":0.8594023572574401,\"x_offset\":5,\"y\":-0.15674767210278678,\"y_offset\":5},\"id\":\"1135\",\"type\":\"Label\"},{\"attributes\":{},\"id\":\"1045\",\"type\":\"BasicTicker\"},{\"attributes\":{\"coordinates\":null,\"formatter\":{\"id\":\"1215\"},\"group\":null,\"major_label_policy\":{\"id\":\"1216\"},\"ticker\":{\"id\":\"1049\"}},\"id\":\"1048\",\"type\":\"LinearAxis\"},{\"attributes\":{},\"id\":\"1040\",\"type\":\"LinearScale\"},{\"attributes\":{\"axis\":{\"id\":\"1048\"},\"coordinates\":null,\"dimension\":1,\"group\":null,\"ticker\":null},\"id\":\"1051\",\"type\":\"Grid\"},{\"attributes\":{\"coordinates\":null,\"group\":null,\"text\":\"trump\",\"text_font_size\":\"10pt\",\"x\":-0.6655268313143791,\"x_offset\":5,\"y\":-0.6537792563302265,\"y_offset\":5},\"id\":\"1169\",\"type\":\"Label\"},{\"attributes\":{\"coordinates\":null,\"group\":null,\"text\":\"milagros\",\"text_font_size\":\"10pt\",\"x\":-0.6731596520422078,\"x_offset\":5,\"y\":0.8168669355020145,\"y_offset\":5},\"id\":\"1199\",\"type\":\"Label\"},{\"attributes\":{\"coordinates\":null,\"group\":null,\"text\":\"molonlabe\",\"text_font_size\":\"10pt\",\"x\":-0.9320651616927734,\"x_offset\":5,\"y\":-0.10993200453354753,\"y_offset\":5},\"id\":\"1143\",\"type\":\"Label\"},{\"attributes\":{},\"id\":\"1052\",\"type\":\"PanTool\"},{\"attributes\":{\"coordinates\":null,\"group\":null,\"text\":\"author\",\"text_font_size\":\"10pt\",\"x\":0.7548525245642601,\"x_offset\":5,\"y\":0.6985514783002144,\"y_offset\":5},\"id\":\"1176\",\"type\":\"Label\"},{\"attributes\":{\"coordinates\":null,\"group\":null,\"text\":\"stockmarket\",\"text_font_size\":\"10pt\",\"x\":-0.06281444508218818,\"x_offset\":5,\"y\":-0.9542418759497742,\"y_offset\":5},\"id\":\"1172\",\"type\":\"Label\"},{\"attributes\":{\"coordinates\":null,\"group\":null,\"text\":\"business\",\"text_font_size\":\"10pt\",\"x\":0.902617086080529,\"x_offset\":5,\"y\":0.3740105340293192,\"y_offset\":5},\"id\":\"1186\",\"type\":\"Label\"},{\"attributes\":{\"coordinates\":null,\"group\":null,\"text\":\"Tyrant CNC \\ud83c\\uddfa\\ud83c\\uddf8 instagram\",\"text_font_size\":\"10pt\",\"x\":0.12273197002288881,\"x_offset\":5,\"y\":-0.015720253737300613,\"y_offset\":5},\"id\":\"1132\",\"type\":\"Label\"},{\"attributes\":{\"coordinates\":null,\"group\":null,\"text\":\"canal37\",\"text_font_size\":\"10pt\",\"x\":0.48365532437976916,\"x_offset\":5,\"y\":0.8897497919830367,\"y_offset\":5},\"id\":\"1202\",\"type\":\"Label\"},{\"attributes\":{\"coordinates\":null,\"group\":null,\"text\":\"endgunviolence\",\"text_font_size\":\"10pt\",\"x\":-0.29821089298425285,\"x_offset\":5,\"y\":-0.9001730267973037,\"y_offset\":5},\"id\":\"1189\",\"type\":\"Label\"},{\"attributes\":{\"coordinates\":null,\"group\":null,\"text\":\"everydaycarry\",\"text_font_size\":\"10pt\",\"x\":0.8413384626146013,\"x_offset\":5,\"y\":-0.5332435552255482,\"y_offset\":5},\"id\":\"1151\",\"type\":\"Label\"},{\"attributes\":{\"coordinates\":null,\"group\":null,\"text\":\"gunlife\",\"text_font_size\":\"10pt\",\"x\":0.4220320602106548,\"x_offset\":5,\"y\":0.7758870349948538,\"y_offset\":5},\"id\":\"1140\",\"type\":\"Label\"},{\"attributes\":{},\"id\":\"1056\",\"type\":\"ResetTool\"},{\"attributes\":{\"coordinates\":null,\"group\":null,\"text\":\"gunviolence\",\"text_font_size\":\"10pt\",\"x\":-0.18075569605397637,\"x_offset\":5,\"y\":-0.40036259530790597,\"y_offset\":5},\"id\":\"1188\",\"type\":\"Label\"},{\"attributes\":{\"coordinates\":null,\"group\":null,\"text\":\"Data Graph\"},\"id\":\"1034\",\"type\":\"Title\"},{\"attributes\":{\"coordinates\":null,\"formatter\":{\"id\":\"1218\"},\"group\":null,\"major_label_policy\":{\"id\":\"1219\"},\"ticker\":{\"id\":\"1045\"}},\"id\":\"1044\",\"type\":\"LinearAxis\"},{\"attributes\":{},\"id\":\"1216\",\"type\":\"AllLabels\"},{\"attributes\":{},\"id\":\"1222\",\"type\":\"UnionRenderers\"},{\"attributes\":{\"coordinates\":null,\"group\":null,\"text\":\"nra\",\"text_font_size\":\"10pt\",\"x\":-0.32242444149222177,\"x_offset\":5,\"y\":-0.21120845618195508,\"y_offset\":5},\"id\":\"1146\",\"type\":\"Label\"},{\"attributes\":{\"coordinates\":null,\"group\":null,\"text\":\"nrainformativo\",\"text_font_size\":\"10pt\",\"x\":-0.545811011755343,\"x_offset\":5,\"y\":-0.6655350304314811,\"y_offset\":5},\"id\":\"1194\",\"type\":\"Label\"},{\"attributes\":{\"coordinates\":null,\"group\":null,\"text\":\"budlight\",\"text_font_size\":\"10pt\",\"x\":0.1064438129199165,\"x_offset\":5,\"y\":0.8668202345111751,\"y_offset\":5},\"id\":\"1185\",\"type\":\"Label\"},{\"attributes\":{},\"id\":\"1223\",\"type\":\"Selection\"},{\"attributes\":{\"coordinates\":null,\"group\":null,\"text\":\"landlord\",\"text_font_size\":\"10pt\",\"x\":0.8929773386831416,\"x_offset\":5,\"y\":0.055284496231058904,\"y_offset\":5},\"id\":\"1182\",\"type\":\"Label\"},{\"attributes\":{},\"id\":\"1112\",\"type\":\"EdgesAndLinkedNodes\"},{\"attributes\":{\"coordinates\":null,\"data_source\":{\"id\":\"1068\"},\"glyph\":{\"id\":\"1095\"},\"group\":null,\"hover_glyph\":{\"id\":\"1100\"},\"selection_glyph\":{\"id\":\"1105\"},\"view\":{\"id\":\"1070\"}},\"id\":\"1069\",\"type\":\"GlyphRenderer\"},{\"attributes\":{\"coordinates\":null,\"group\":null,\"text\":\"guncontrol\",\"text_font_size\":\"10pt\",\"x\":-0.015223052065142352,\"x_offset\":5,\"y\":0.38762910137583434,\"y_offset\":5},\"id\":\"1192\",\"type\":\"Label\"},{\"attributes\":{\"data\":{\"index\":[0,1,2,3,4,5,6,7,8,9,10,11,12,13,14,15,16,17,18,19,20,21,22,23,24,25,26,27,28,29,30,31,32,33,34,35,36,37,38,39,40,41,42,43,44,45,46,47,48,49,50,51,52,53,54,55,56,57,58,59,60,61,62,63,64,65,66,67,68,69,70,71,72,73,74,75,76,77,78],\"node_color\":[\"lightblue\",\"lightgreen\",\"lightgreen\",\"lightblue\",\"lightgreen\",\"lightblue\",\"lightblue\",\"lightgreen\",\"lightgreen\",\"lightgreen\",\"lightgreen\",\"lightgreen\",\"lightgreen\",\"lightgreen\",\"lightgreen\",\"lightgreen\",\"lightgreen\",\"lightgreen\",\"lightgreen\",\"lightgreen\",\"lightgreen\",\"lightgreen\",\"lightgreen\",\"lightgreen\",\"lightgreen\",\"lightgreen\",\"lightgreen\",\"lightgreen\",\"lightgreen\",\"lightgreen\",\"lightgreen\",\"lightgreen\",\"lightgreen\",\"lightgreen\",\"lightblue\",\"lightgreen\",\"lightgreen\",\"lightgreen\",\"lightgreen\",\"lightgreen\",\"lightgreen\",\"lightgreen\",\"lightgreen\",\"lightgreen\",\"lightgreen\",\"lightgreen\",\"lightgreen\",\"lightgreen\",\"lightgreen\",\"lightgreen\",\"lightgreen\",\"lightgreen\",\"lightgreen\",\"lightgreen\",\"lightgreen\",\"lightgreen\",\"lightgreen\",\"lightgreen\",\"lightgreen\",\"lightgreen\",\"lightgreen\",\"lightblue\",\"lightgreen\",\"lightgreen\",\"lightgreen\",\"lightblue\",\"lightgreen\",\"lightblue\",\"lightgreen\",\"lightgreen\",\"lightgreen\",\"lightgreen\",\"lightgreen\",\"lightgreen\",\"lightgreen\",\"lightgreen\",\"lightgreen\",\"lightblue\",\"lightblue\"],\"node_role\":[\"source\",\"target\",\"target\",\"source\",\"target\",\"source\",\"source\",\"target\",\"target\",\"target\",\"target\",\"target\",\"target\",\"target\",\"target\",\"target\",\"target\",\"target\",\"target\",\"target\",\"target\",\"target\",\"target\",\"target\",\"target\",\"target\",\"target\",\"target\",\"target\",\"target\",\"target\",\"target\",\"target\",\"target\",\"source\",\"target\",\"target\",\"target\",\"target\",\"target\",\"target\",\"target\",\"target\",\"target\",\"target\",\"target\",\"target\",\"target\",\"target\",\"target\",\"target\",\"target\",\"target\",\"target\",\"target\",\"target\",\"target\",\"target\",\"target\",\"target\",\"target\",\"source\",\"target\",\"target\",\"target\",\"source\",\"target\",\"source\",\"target\",\"target\",\"target\",\"target\",\"target\",\"target\",\"target\",\"target\",\"target\",\"source\",\"source\"],\"node_type\":[\"source\",\"target\",\"target\",\"source\",\"target\",\"source\",\"source\",\"target\",\"target\",\"target\",\"target\",\"target\",\"target\",\"target\",\"target\",\"target\",\"target\",\"target\",\"target\",\"target\",\"target\",\"target\",\"target\",\"target\",\"target\",\"target\",\"target\",\"target\",\"target\",\"target\",\"target\",\"target\",\"target\",\"target\",\"source\",\"target\",\"target\",\"target\",\"target\",\"target\",\"target\",\"target\",\"target\",\"target\",\"target\",\"target\",\"target\",\"target\",\"target\",\"target\",\"target\",\"target\",\"target\",\"target\",\"target\",\"target\",\"target\",\"target\",\"target\",\"target\",\"target\",\"source\",\"target\",\"target\",\"target\",\"source\",\"target\",\"source\",\"target\",\"target\",\"target\",\"target\",\"target\",\"target\",\"target\",\"target\",\"target\",\"source\",\"source\"]},\"selected\":{\"id\":\"1223\"},\"selection_policy\":{\"id\":\"1222\"}},\"id\":\"1068\",\"type\":\"ColumnDataSource\"},{\"attributes\":{\"fill_color\":{\"value\":\"#abdda4\"},\"size\":{\"value\":10}},\"id\":\"1100\",\"type\":\"Circle\"},{\"attributes\":{\"coordinates\":null,\"group\":null,\"text\":\"9mm\",\"text_font_size\":\"10pt\",\"x\":0.8059360321682572,\"x_offset\":5,\"y\":-0.6525552878212127,\"y_offset\":5},\"id\":\"1157\",\"type\":\"Label\"},{\"attributes\":{\"coordinates\":null,\"group\":null,\"text\":\"book\",\"text_font_size\":\"10pt\",\"x\":0.37129209872089197,\"x_offset\":5,\"y\":-0.7605311378955132,\"y_offset\":5},\"id\":\"1179\",\"type\":\"Label\"},{\"attributes\":{},\"id\":\"1110\",\"type\":\"NodesAndLinkedEdges\"},{\"attributes\":{\"coordinates\":null,\"group\":null,\"text\":\"entrepreneur\",\"text_font_size\":\"10pt\",\"x\":-0.821660368475149,\"x_offset\":5,\"y\":0.5728764266430217,\"y_offset\":5},\"id\":\"1161\",\"type\":\"Label\"},{\"attributes\":{\"line_color\":{\"value\":\"#abdda4\"},\"line_width\":{\"value\":5}},\"id\":\"1080\",\"type\":\"MultiLine\"},{\"attributes\":{\"coordinates\":null,\"group\":null,\"text\":\"Oregon Republican Party instagram\",\"text_font_size\":\"10pt\",\"x\":-0.4675255999130068,\"x_offset\":5,\"y\":-0.8476928089242399,\"y_offset\":5},\"id\":\"1126\",\"type\":\"Label\"},{\"attributes\":{\"coordinates\":null,\"group\":null,\"text\":\"realestate\",\"text_font_size\":\"10pt\",\"x\":-0.9079640295689627,\"x_offset\":5,\"y\":0.08243754837722529,\"y_offset\":5},\"id\":\"1180\",\"type\":\"Label\"},{\"attributes\":{\"coordinates\":null,\"group\":null,\"text\":\"NRA Tour & Travel facebook\",\"text_font_size\":\"10pt\",\"x\":0.4039285227267902,\"x_offset\":5,\"y\":-0.893610166974767,\"y_offset\":5},\"id\":\"1129\",\"type\":\"Label\"},{\"attributes\":{\"coordinates\":null,\"group\":null,\"text\":\"glock\",\"text_font_size\":\"10pt\",\"x\":0.29017914563168323,\"x_offset\":5,\"y\":-0.9017586188595422,\"y_offset\":5},\"id\":\"1142\",\"type\":\"Label\"},{\"attributes\":{\"callback\":null},\"id\":\"1120\",\"type\":\"TapTool\"},{\"attributes\":{\"coordinates\":null,\"group\":null,\"text\":\"NRA Group Official instagram\",\"text_font_size\":\"10pt\",\"x\":-0.9409366873948183,\"x_offset\":5,\"y\":0.28320573388512893,\"y_offset\":5},\"id\":\"1131\",\"type\":\"Label\"},{\"attributes\":{},\"id\":\"1053\",\"type\":\"WheelZoomTool\"},{\"attributes\":{\"coordinates\":null,\"group\":null,\"text\":\"LIVE FREE USA instagram\",\"text_font_size\":\"10pt\",\"x\":-0.3447485876331138,\"x_offset\":5,\"y\":0.3034185480650651,\"y_offset\":5},\"id\":\"1187\",\"type\":\"Label\"},{\"attributes\":{},\"id\":\"1224\",\"type\":\"UnionRenderers\"},{\"attributes\":{},\"id\":\"1225\",\"type\":\"Selection\"},{\"attributes\":{\"coordinates\":null,\"group\":null,\"text\":\"biden\",\"text_font_size\":\"10pt\",\"x\":0.6306424276184747,\"x_offset\":5,\"y\":-0.5506554578585102,\"y_offset\":5},\"id\":\"1178\",\"type\":\"Label\"},{\"attributes\":{\"coordinates\":null,\"group\":null,\"text\":\"banassaultweapons\",\"text_font_size\":\"10pt\",\"x\":-0.9088382505155432,\"x_offset\":5,\"y\":0.3849658954471527,\"y_offset\":5},\"id\":\"1190\",\"type\":\"Label\"},{\"attributes\":{\"coordinates\":null,\"group\":null,\"text\":\"personalfinance\",\"text_font_size\":\"10pt\",\"x\":-0.8930041060643145,\"x_offset\":5,\"y\":-0.19469062985882066,\"y_offset\":5},\"id\":\"1171\",\"type\":\"Label\"},{\"attributes\":{\"coordinates\":null,\"group\":null,\"text\":\"weaponsdaily\",\"text_font_size\":\"10pt\",\"x\":0.8810382252123041,\"x_offset\":5,\"y\":0.5646146074503772,\"y_offset\":5},\"id\":\"1159\",\"type\":\"Label\"},{\"attributes\":{\"coordinates\":null,\"group\":null,\"text\":\"pewpewlife\",\"text_font_size\":\"10pt\",\"x\":-0.9243178648439526,\"x_offset\":5,\"y\":0.18776917159656545,\"y_offset\":5},\"id\":\"1148\",\"type\":\"Label\"},{\"attributes\":{\"coordinates\":null,\"group\":null,\"text\":\"glockporn\",\"text_font_size\":\"10pt\",\"x\":-0.8671140027907575,\"x_offset\":5,\"y\":0.48055051510758234,\"y_offset\":5},\"id\":\"1154\",\"type\":\"Label\"},{\"attributes\":{\"coordinates\":null,\"group\":null,\"text\":\"handgun\",\"text_font_size\":\"10pt\",\"x\":0.9344298488447252,\"x_offset\":5,\"y\":-0.06529992871245584,\"y_offset\":5},\"id\":\"1145\",\"type\":\"Label\"},{\"attributes\":{\"coordinates\":null,\"group\":null,\"text\":\"mentor\",\"text_font_size\":\"10pt\",\"x\":0.15615926265910024,\"x_offset\":5,\"y\":0.9999999999999999,\"y_offset\":5},\"id\":\"1170\",\"type\":\"Label\"},{\"attributes\":{\"coordinates\":null,\"group\":null,\"text\":\"gunsdaily\",\"text_font_size\":\"10pt\",\"x\":-0.690976533814503,\"x_offset\":5,\"y\":-0.5493069101574848,\"y_offset\":5},\"id\":\"1141\",\"type\":\"Label\"},{\"attributes\":{\"coordinates\":null,\"group\":null,\"text\":\"pistol\",\"text_font_size\":\"10pt\",\"x\":0.3702013285261465,\"x_offset\":5,\"y\":0.9222871995553535,\"y_offset\":5},\"id\":\"1137\",\"type\":\"Label\"},{\"attributes\":{\"coordinates\":null,\"group\":null,\"text\":\"finance\",\"text_font_size\":\"10pt\",\"x\":-0.5422706464387307,\"x_offset\":5,\"y\":0.8416577744155281,\"y_offset\":5},\"id\":\"1166\",\"type\":\"Label\"},{\"attributes\":{\"bottom_units\":\"screen\",\"coordinates\":null,\"fill_alpha\":0.5,\"fill_color\":\"lightgrey\",\"group\":null,\"left_units\":\"screen\",\"level\":\"overlay\",\"line_alpha\":1.0,\"line_color\":\"black\",\"line_dash\":[4,4],\"line_width\":2,\"right_units\":\"screen\",\"syncable\":false,\"top_units\":\"screen\"},\"id\":\"1058\",\"type\":\"BoxAnnotation\"},{\"attributes\":{\"coordinates\":null,\"group\":null,\"text\":\"success\",\"text_font_size\":\"10pt\",\"x\":-0.39909092580471367,\"x_offset\":5,\"y\":-0.9099417053769174,\"y_offset\":5},\"id\":\"1163\",\"type\":\"Label\"}],\"root_ids\":[\"1033\"]},\"title\":\"Bokeh Application\",\"version\":\"2.4.3\"}};\n",
              "  const render_items = [{\"docid\":\"9ae486f9-f84a-4f4f-8a2d-c7d16a938de3\",\"root_ids\":[\"1033\"],\"roots\":{\"1033\":\"1bbe363c-0f01-4de4-a9d7-11e273830d74\"}}];\n",
              "  root.Bokeh.embed.embed_items_notebook(docs_json, render_items);\n",
              "  }\n",
              "  if (root.Bokeh !== undefined) {\n",
              "    embed_document(root);\n",
              "  } else {\n",
              "    let attempts = 0;\n",
              "    const timer = setInterval(function(root) {\n",
              "      if (root.Bokeh !== undefined) {\n",
              "        clearInterval(timer);\n",
              "        embed_document(root);\n",
              "      } else {\n",
              "        attempts++;\n",
              "        if (attempts > 100) {\n",
              "          clearInterval(timer);\n",
              "          console.log(\"Bokeh: ERROR: Unable to run BokehJS code because BokehJS library is missing\");\n",
              "        }\n",
              "      }\n",
              "    }, 10, root)\n",
              "  }\n",
              "})(window);"
            ],
            "application/vnd.bokehjs_exec.v0+json": ""
          },
          "metadata": {
            "application/vnd.bokehjs_exec.v0+json": {
              "id": "1033"
            }
          },
          "output_type": "display_data"
        },
        {
          "data": {
            "text/html": [
              "<div style=\"display: table;\"><div style=\"display: table-row;\"><div style=\"display: table-cell;\"><b title=\"bokeh.plotting.figure.Figure\">Figure</b>(</div><div style=\"display: table-cell;\">id&nbsp;=&nbsp;'1033', <span id=\"1344\" style=\"cursor: pointer;\">&hellip;)</span></div></div><div class=\"1343\" style=\"display: none;\"><div style=\"display: table-cell;\"></div><div style=\"display: table-cell;\">above&nbsp;=&nbsp;[],</div></div><div class=\"1343\" style=\"display: none;\"><div style=\"display: table-cell;\"></div><div style=\"display: table-cell;\">align&nbsp;=&nbsp;'start',</div></div><div class=\"1343\" style=\"display: none;\"><div style=\"display: table-cell;\"></div><div style=\"display: table-cell;\">aspect_ratio&nbsp;=&nbsp;None,</div></div><div class=\"1343\" style=\"display: none;\"><div style=\"display: table-cell;\"></div><div style=\"display: table-cell;\">aspect_scale&nbsp;=&nbsp;1,</div></div><div class=\"1343\" style=\"display: none;\"><div style=\"display: table-cell;\"></div><div style=\"display: table-cell;\">background&nbsp;=&nbsp;None,</div></div><div class=\"1343\" style=\"display: none;\"><div style=\"display: table-cell;\"></div><div style=\"display: table-cell;\">background_fill_alpha&nbsp;=&nbsp;1.0,</div></div><div class=\"1343\" style=\"display: none;\"><div style=\"display: table-cell;\"></div><div style=\"display: table-cell;\">background_fill_color&nbsp;=&nbsp;'#ffffff',</div></div><div class=\"1343\" style=\"display: none;\"><div style=\"display: table-cell;\"></div><div style=\"display: table-cell;\">below&nbsp;=&nbsp;[LinearAxis(id='1044', ...)],</div></div><div class=\"1343\" style=\"display: none;\"><div style=\"display: table-cell;\"></div><div style=\"display: table-cell;\">border_fill_alpha&nbsp;=&nbsp;1.0,</div></div><div class=\"1343\" style=\"display: none;\"><div style=\"display: table-cell;\"></div><div style=\"display: table-cell;\">border_fill_color&nbsp;=&nbsp;'#ffffff',</div></div><div class=\"1343\" style=\"display: none;\"><div style=\"display: table-cell;\"></div><div style=\"display: table-cell;\">center&nbsp;=&nbsp;[Grid(id='1047', ...), Grid(id='1051', ...), Label(id='1126', ...), Label(id='1127', ...), Label(id='1128', ...), Label(id='1129', ...), Label(id='1130', ...), Label(id='1131', ...), Label(id='1132', ...), Label(id='1133', ...), Label(id='1134', ...), Label(id='1135', ...), Label(id='1136', ...), Label(id='1137', ...), Label(id='1138', ...), Label(id='1139', ...), Label(id='1140', ...), Label(id='1141', ...), Label(id='1142', ...), Label(id='1143', ...), Label(id='1144', ...), Label(id='1145', ...), Label(id='1146', ...), Label(id='1147', ...), Label(id='1148', ...), Label(id='1149', ...), Label(id='1150', ...), Label(id='1151', ...), Label(id='1152', ...), Label(id='1153', ...), Label(id='1154', ...), Label(id='1155', ...), Label(id='1156', ...), Label(id='1157', ...), Label(id='1158', ...), Label(id='1159', ...), Label(id='1160', ...), Label(id='1161', ...), Label(id='1162', ...), Label(id='1163', ...), Label(id='1164', ...), Label(id='1165', ...), Label(id='1166', ...), Label(id='1167', ...), Label(id='1168', ...), Label(id='1169', ...), Label(id='1170', ...), Label(id='1171', ...), Label(id='1172', ...), Label(id='1173', ...), Label(id='1174', ...), Label(id='1175', ...), Label(id='1176', ...), Label(id='1177', ...), Label(id='1178', ...), Label(id='1179', ...), Label(id='1180', ...), Label(id='1181', ...), Label(id='1182', ...), Label(id='1183', ...), Label(id='1184', ...), Label(id='1185', ...), Label(id='1186', ...), Label(id='1187', ...), Label(id='1188', ...), Label(id='1189', ...), Label(id='1190', ...), Label(id='1191', ...), Label(id='1192', ...), Label(id='1193', ...), Label(id='1194', ...), Label(id='1195', ...), Label(id='1196', ...), Label(id='1197', ...), Label(id='1198', ...), Label(id='1199', ...), Label(id='1200', ...), Label(id='1201', ...), Label(id='1202', ...), Label(id='1203', ...), Label(id='1204', ...)],</div></div><div class=\"1343\" style=\"display: none;\"><div style=\"display: table-cell;\"></div><div style=\"display: table-cell;\">css_classes&nbsp;=&nbsp;[],</div></div><div class=\"1343\" style=\"display: none;\"><div style=\"display: table-cell;\"></div><div style=\"display: table-cell;\">disabled&nbsp;=&nbsp;False,</div></div><div class=\"1343\" style=\"display: none;\"><div style=\"display: table-cell;\"></div><div style=\"display: table-cell;\">extra_x_ranges&nbsp;=&nbsp;{},</div></div><div class=\"1343\" style=\"display: none;\"><div style=\"display: table-cell;\"></div><div style=\"display: table-cell;\">extra_x_scales&nbsp;=&nbsp;{},</div></div><div class=\"1343\" style=\"display: none;\"><div style=\"display: table-cell;\"></div><div style=\"display: table-cell;\">extra_y_ranges&nbsp;=&nbsp;{},</div></div><div class=\"1343\" style=\"display: none;\"><div style=\"display: table-cell;\"></div><div style=\"display: table-cell;\">extra_y_scales&nbsp;=&nbsp;{},</div></div><div class=\"1343\" style=\"display: none;\"><div style=\"display: table-cell;\"></div><div style=\"display: table-cell;\">frame_height&nbsp;=&nbsp;None,</div></div><div class=\"1343\" style=\"display: none;\"><div style=\"display: table-cell;\"></div><div style=\"display: table-cell;\">frame_width&nbsp;=&nbsp;None,</div></div><div class=\"1343\" style=\"display: none;\"><div style=\"display: table-cell;\"></div><div style=\"display: table-cell;\">height&nbsp;=&nbsp;800,</div></div><div class=\"1343\" style=\"display: none;\"><div style=\"display: table-cell;\"></div><div style=\"display: table-cell;\">height_policy&nbsp;=&nbsp;'auto',</div></div><div class=\"1343\" style=\"display: none;\"><div style=\"display: table-cell;\"></div><div style=\"display: table-cell;\">hidpi&nbsp;=&nbsp;True,</div></div><div class=\"1343\" style=\"display: none;\"><div style=\"display: table-cell;\"></div><div style=\"display: table-cell;\">inner_height&nbsp;=&nbsp;0,</div></div><div class=\"1343\" style=\"display: none;\"><div style=\"display: table-cell;\"></div><div style=\"display: table-cell;\">inner_width&nbsp;=&nbsp;0,</div></div><div class=\"1343\" style=\"display: none;\"><div style=\"display: table-cell;\"></div><div style=\"display: table-cell;\">js_event_callbacks&nbsp;=&nbsp;{},</div></div><div class=\"1343\" style=\"display: none;\"><div style=\"display: table-cell;\"></div><div style=\"display: table-cell;\">js_property_callbacks&nbsp;=&nbsp;{},</div></div><div class=\"1343\" style=\"display: none;\"><div style=\"display: table-cell;\"></div><div style=\"display: table-cell;\">left&nbsp;=&nbsp;[LinearAxis(id='1048', ...)],</div></div><div class=\"1343\" style=\"display: none;\"><div style=\"display: table-cell;\"></div><div style=\"display: table-cell;\">lod_factor&nbsp;=&nbsp;10,</div></div><div class=\"1343\" style=\"display: none;\"><div style=\"display: table-cell;\"></div><div style=\"display: table-cell;\">lod_interval&nbsp;=&nbsp;300,</div></div><div class=\"1343\" style=\"display: none;\"><div style=\"display: table-cell;\"></div><div style=\"display: table-cell;\">lod_threshold&nbsp;=&nbsp;2000,</div></div><div class=\"1343\" style=\"display: none;\"><div style=\"display: table-cell;\"></div><div style=\"display: table-cell;\">lod_timeout&nbsp;=&nbsp;500,</div></div><div class=\"1343\" style=\"display: none;\"><div style=\"display: table-cell;\"></div><div style=\"display: table-cell;\">margin&nbsp;=&nbsp;(0, 0, 0, 0),</div></div><div class=\"1343\" style=\"display: none;\"><div style=\"display: table-cell;\"></div><div style=\"display: table-cell;\">match_aspect&nbsp;=&nbsp;False,</div></div><div class=\"1343\" style=\"display: none;\"><div style=\"display: table-cell;\"></div><div style=\"display: table-cell;\">max_height&nbsp;=&nbsp;None,</div></div><div class=\"1343\" style=\"display: none;\"><div style=\"display: table-cell;\"></div><div style=\"display: table-cell;\">max_width&nbsp;=&nbsp;None,</div></div><div class=\"1343\" style=\"display: none;\"><div style=\"display: table-cell;\"></div><div style=\"display: table-cell;\">min_border&nbsp;=&nbsp;5,</div></div><div class=\"1343\" style=\"display: none;\"><div style=\"display: table-cell;\"></div><div style=\"display: table-cell;\">min_border_bottom&nbsp;=&nbsp;None,</div></div><div class=\"1343\" style=\"display: none;\"><div style=\"display: table-cell;\"></div><div style=\"display: table-cell;\">min_border_left&nbsp;=&nbsp;None,</div></div><div class=\"1343\" style=\"display: none;\"><div style=\"display: table-cell;\"></div><div style=\"display: table-cell;\">min_border_right&nbsp;=&nbsp;None,</div></div><div class=\"1343\" style=\"display: none;\"><div style=\"display: table-cell;\"></div><div style=\"display: table-cell;\">min_border_top&nbsp;=&nbsp;None,</div></div><div class=\"1343\" style=\"display: none;\"><div style=\"display: table-cell;\"></div><div style=\"display: table-cell;\">min_height&nbsp;=&nbsp;None,</div></div><div class=\"1343\" style=\"display: none;\"><div style=\"display: table-cell;\"></div><div style=\"display: table-cell;\">min_width&nbsp;=&nbsp;None,</div></div><div class=\"1343\" style=\"display: none;\"><div style=\"display: table-cell;\"></div><div style=\"display: table-cell;\">name&nbsp;=&nbsp;None,</div></div><div class=\"1343\" style=\"display: none;\"><div style=\"display: table-cell;\"></div><div style=\"display: table-cell;\">outer_height&nbsp;=&nbsp;0,</div></div><div class=\"1343\" style=\"display: none;\"><div style=\"display: table-cell;\"></div><div style=\"display: table-cell;\">outer_width&nbsp;=&nbsp;0,</div></div><div class=\"1343\" style=\"display: none;\"><div style=\"display: table-cell;\"></div><div style=\"display: table-cell;\">outline_line_alpha&nbsp;=&nbsp;1.0,</div></div><div class=\"1343\" style=\"display: none;\"><div style=\"display: table-cell;\"></div><div style=\"display: table-cell;\">outline_line_cap&nbsp;=&nbsp;'butt',</div></div><div class=\"1343\" style=\"display: none;\"><div style=\"display: table-cell;\"></div><div style=\"display: table-cell;\">outline_line_color&nbsp;=&nbsp;'#e5e5e5',</div></div><div class=\"1343\" style=\"display: none;\"><div style=\"display: table-cell;\"></div><div style=\"display: table-cell;\">outline_line_dash&nbsp;=&nbsp;[],</div></div><div class=\"1343\" style=\"display: none;\"><div style=\"display: table-cell;\"></div><div style=\"display: table-cell;\">outline_line_dash_offset&nbsp;=&nbsp;0,</div></div><div class=\"1343\" style=\"display: none;\"><div style=\"display: table-cell;\"></div><div style=\"display: table-cell;\">outline_line_join&nbsp;=&nbsp;'bevel',</div></div><div class=\"1343\" style=\"display: none;\"><div style=\"display: table-cell;\"></div><div style=\"display: table-cell;\">outline_line_width&nbsp;=&nbsp;1,</div></div><div class=\"1343\" style=\"display: none;\"><div style=\"display: table-cell;\"></div><div style=\"display: table-cell;\">output_backend&nbsp;=&nbsp;'canvas',</div></div><div class=\"1343\" style=\"display: none;\"><div style=\"display: table-cell;\"></div><div style=\"display: table-cell;\">renderers&nbsp;=&nbsp;[GraphRenderer(id='1066', ...)],</div></div><div class=\"1343\" style=\"display: none;\"><div style=\"display: table-cell;\"></div><div style=\"display: table-cell;\">reset_policy&nbsp;=&nbsp;'standard',</div></div><div class=\"1343\" style=\"display: none;\"><div style=\"display: table-cell;\"></div><div style=\"display: table-cell;\">right&nbsp;=&nbsp;[],</div></div><div class=\"1343\" style=\"display: none;\"><div style=\"display: table-cell;\"></div><div style=\"display: table-cell;\">sizing_mode&nbsp;=&nbsp;None,</div></div><div class=\"1343\" style=\"display: none;\"><div style=\"display: table-cell;\"></div><div style=\"display: table-cell;\">subscribed_events&nbsp;=&nbsp;[],</div></div><div class=\"1343\" style=\"display: none;\"><div style=\"display: table-cell;\"></div><div style=\"display: table-cell;\">syncable&nbsp;=&nbsp;True,</div></div><div class=\"1343\" style=\"display: none;\"><div style=\"display: table-cell;\"></div><div style=\"display: table-cell;\">tags&nbsp;=&nbsp;[],</div></div><div class=\"1343\" style=\"display: none;\"><div style=\"display: table-cell;\"></div><div style=\"display: table-cell;\">title&nbsp;=&nbsp;Title(id='1034', ...),</div></div><div class=\"1343\" style=\"display: none;\"><div style=\"display: table-cell;\"></div><div style=\"display: table-cell;\">title_location&nbsp;=&nbsp;'above',</div></div><div class=\"1343\" style=\"display: none;\"><div style=\"display: table-cell;\"></div><div style=\"display: table-cell;\">toolbar&nbsp;=&nbsp;Toolbar(id='1059', ...),</div></div><div class=\"1343\" style=\"display: none;\"><div style=\"display: table-cell;\"></div><div style=\"display: table-cell;\">toolbar_location&nbsp;=&nbsp;'right',</div></div><div class=\"1343\" style=\"display: none;\"><div style=\"display: table-cell;\"></div><div style=\"display: table-cell;\">toolbar_sticky&nbsp;=&nbsp;True,</div></div><div class=\"1343\" style=\"display: none;\"><div style=\"display: table-cell;\"></div><div style=\"display: table-cell;\">visible&nbsp;=&nbsp;True,</div></div><div class=\"1343\" style=\"display: none;\"><div style=\"display: table-cell;\"></div><div style=\"display: table-cell;\">width&nbsp;=&nbsp;800,</div></div><div class=\"1343\" style=\"display: none;\"><div style=\"display: table-cell;\"></div><div style=\"display: table-cell;\">width_policy&nbsp;=&nbsp;'auto',</div></div><div class=\"1343\" style=\"display: none;\"><div style=\"display: table-cell;\"></div><div style=\"display: table-cell;\">x_range&nbsp;=&nbsp;Range1d(id='1036', ...),</div></div><div class=\"1343\" style=\"display: none;\"><div style=\"display: table-cell;\"></div><div style=\"display: table-cell;\">x_scale&nbsp;=&nbsp;LinearScale(id='1040', ...),</div></div><div class=\"1343\" style=\"display: none;\"><div style=\"display: table-cell;\"></div><div style=\"display: table-cell;\">y_range&nbsp;=&nbsp;Range1d(id='1038', ...),</div></div><div class=\"1343\" style=\"display: none;\"><div style=\"display: table-cell;\"></div><div style=\"display: table-cell;\">y_scale&nbsp;=&nbsp;LinearScale(id='1042', ...))</div></div></div>\n",
              "<script>\n",
              "(function() {\n",
              "  let expanded = false;\n",
              "  const ellipsis = document.getElementById(\"1344\");\n",
              "  ellipsis.addEventListener(\"click\", function() {\n",
              "    const rows = document.getElementsByClassName(\"1343\");\n",
              "    for (let i = 0; i < rows.length; i++) {\n",
              "      const el = rows[i];\n",
              "      el.style.display = expanded ? \"none\" : \"table-row\";\n",
              "    }\n",
              "    ellipsis.innerHTML = expanded ? \"&hellip;)\" : \"&lsaquo;&lsaquo;&lsaquo;\";\n",
              "    expanded = !expanded;\n",
              "  });\n",
              "})();\n",
              "</script>\n"
            ],
            "text/plain": [
              "Figure(id='1033', ...)"
            ]
          },
          "execution_count": 10,
          "metadata": {},
          "output_type": "execute_result"
        }
      ],
      "source": [
        "# visualize a small network (first 80 nodes and their connections)\n",
        "df1.head(80).mp_plot.network(\n",
        "    source_col=\"source\",\n",
        "    target_col=\"target\",\n",
        "    # edge_attrs=[\"weight\"],\n",
        "    # source_attrs=['source_cat','source_datetime'],\n",
        "    # target_attrs=['target_cat','target_datetime'],\n",
        "    graph_type='digraph',\n",
        "    node_size=10,\n",
        "    k=1,\n",
        "    scale=5\n",
        ")"
      ]
    },
    {
      "cell_type": "code",
      "execution_count": null,
      "metadata": {
        "colab": {
          "background_save": true,
          "base_uri": "https://localhost:8080/",
          "height": 834
        },
        "id": "pXgUBcgdlKO9",
        "outputId": "614c600f-cddb-4d3e-d027-c94c5226ece6"
      },
      "outputs": [
        {
          "data": {
            "application/javascript": [
              "(function(root) {\n",
              "  function now() {\n",
              "    return new Date();\n",
              "  }\n",
              "\n",
              "  const force = true;\n",
              "\n",
              "  if (typeof root._bokeh_onload_callbacks === \"undefined\" || force === true) {\n",
              "    root._bokeh_onload_callbacks = [];\n",
              "    root._bokeh_is_loading = undefined;\n",
              "  }\n",
              "\n",
              "const JS_MIME_TYPE = 'application/javascript';\n",
              "  const HTML_MIME_TYPE = 'text/html';\n",
              "  const EXEC_MIME_TYPE = 'application/vnd.bokehjs_exec.v0+json';\n",
              "  const CLASS_NAME = 'output_bokeh rendered_html';\n",
              "\n",
              "  /**\n",
              "   * Render data to the DOM node\n",
              "   */\n",
              "  function render(props, node) {\n",
              "    const script = document.createElement(\"script\");\n",
              "    node.appendChild(script);\n",
              "  }\n",
              "\n",
              "  /**\n",
              "   * Handle when an output is cleared or removed\n",
              "   */\n",
              "  function handleClearOutput(event, handle) {\n",
              "    const cell = handle.cell;\n",
              "\n",
              "    const id = cell.output_area._bokeh_element_id;\n",
              "    const server_id = cell.output_area._bokeh_server_id;\n",
              "    // Clean up Bokeh references\n",
              "    if (id != null && id in Bokeh.index) {\n",
              "      Bokeh.index[id].model.document.clear();\n",
              "      delete Bokeh.index[id];\n",
              "    }\n",
              "\n",
              "    if (server_id !== undefined) {\n",
              "      // Clean up Bokeh references\n",
              "      const cmd_clean = \"from bokeh.io.state import curstate; print(curstate().uuid_to_server['\" + server_id + \"'].get_sessions()[0].document.roots[0]._id)\";\n",
              "      cell.notebook.kernel.execute(cmd_clean, {\n",
              "        iopub: {\n",
              "          output: function(msg) {\n",
              "            const id = msg.content.text.trim();\n",
              "            if (id in Bokeh.index) {\n",
              "              Bokeh.index[id].model.document.clear();\n",
              "              delete Bokeh.index[id];\n",
              "            }\n",
              "          }\n",
              "        }\n",
              "      });\n",
              "      // Destroy server and session\n",
              "      const cmd_destroy = \"import bokeh.io.notebook as ion; ion.destroy_server('\" + server_id + \"')\";\n",
              "      cell.notebook.kernel.execute(cmd_destroy);\n",
              "    }\n",
              "  }\n",
              "\n",
              "  /**\n",
              "   * Handle when a new output is added\n",
              "   */\n",
              "  function handleAddOutput(event, handle) {\n",
              "    const output_area = handle.output_area;\n",
              "    const output = handle.output;\n",
              "\n",
              "    // limit handleAddOutput to display_data with EXEC_MIME_TYPE content only\n",
              "    if ((output.output_type != \"display_data\") || (!Object.prototype.hasOwnProperty.call(output.data, EXEC_MIME_TYPE))) {\n",
              "      return\n",
              "    }\n",
              "\n",
              "    const toinsert = output_area.element.find(\".\" + CLASS_NAME.split(' ')[0]);\n",
              "\n",
              "    if (output.metadata[EXEC_MIME_TYPE][\"id\"] !== undefined) {\n",
              "      toinsert[toinsert.length - 1].firstChild.textContent = output.data[JS_MIME_TYPE];\n",
              "      // store reference to embed id on output_area\n",
              "      output_area._bokeh_element_id = output.metadata[EXEC_MIME_TYPE][\"id\"];\n",
              "    }\n",
              "    if (output.metadata[EXEC_MIME_TYPE][\"server_id\"] !== undefined) {\n",
              "      const bk_div = document.createElement(\"div\");\n",
              "      bk_div.innerHTML = output.data[HTML_MIME_TYPE];\n",
              "      const script_attrs = bk_div.children[0].attributes;\n",
              "      for (let i = 0; i < script_attrs.length; i++) {\n",
              "        toinsert[toinsert.length - 1].firstChild.setAttribute(script_attrs[i].name, script_attrs[i].value);\n",
              "        toinsert[toinsert.length - 1].firstChild.textContent = bk_div.children[0].textContent\n",
              "      }\n",
              "      // store reference to server id on output_area\n",
              "      output_area._bokeh_server_id = output.metadata[EXEC_MIME_TYPE][\"server_id\"];\n",
              "    }\n",
              "  }\n",
              "\n",
              "  function register_renderer(events, OutputArea) {\n",
              "\n",
              "    function append_mime(data, metadata, element) {\n",
              "      // create a DOM node to render to\n",
              "      const toinsert = this.create_output_subarea(\n",
              "        metadata,\n",
              "        CLASS_NAME,\n",
              "        EXEC_MIME_TYPE\n",
              "      );\n",
              "      this.keyboard_manager.register_events(toinsert);\n",
              "      // Render to node\n",
              "      const props = {data: data, metadata: metadata[EXEC_MIME_TYPE]};\n",
              "      render(props, toinsert[toinsert.length - 1]);\n",
              "      element.append(toinsert);\n",
              "      return toinsert\n",
              "    }\n",
              "\n",
              "    /* Handle when an output is cleared or removed */\n",
              "    events.on('clear_output.CodeCell', handleClearOutput);\n",
              "    events.on('delete.Cell', handleClearOutput);\n",
              "\n",
              "    /* Handle when a new output is added */\n",
              "    events.on('output_added.OutputArea', handleAddOutput);\n",
              "\n",
              "    /**\n",
              "     * Register the mime type and append_mime function with output_area\n",
              "     */\n",
              "    OutputArea.prototype.register_mime_type(EXEC_MIME_TYPE, append_mime, {\n",
              "      /* Is output safe? */\n",
              "      safe: true,\n",
              "      /* Index of renderer in `output_area.display_order` */\n",
              "      index: 0\n",
              "    });\n",
              "  }\n",
              "\n",
              "  // register the mime type if in Jupyter Notebook environment and previously unregistered\n",
              "  if (root.Jupyter !== undefined) {\n",
              "    const events = require('base/js/events');\n",
              "    const OutputArea = require('notebook/js/outputarea').OutputArea;\n",
              "\n",
              "    if (OutputArea.prototype.mime_types().indexOf(EXEC_MIME_TYPE) == -1) {\n",
              "      register_renderer(events, OutputArea);\n",
              "    }\n",
              "  }\n",
              "  if (typeof (root._bokeh_timeout) === \"undefined\" || force === true) {\n",
              "    root._bokeh_timeout = Date.now() + 5000;\n",
              "    root._bokeh_failed_load = false;\n",
              "  }\n",
              "\n",
              "  const NB_LOAD_WARNING = {'data': {'text/html':\n",
              "     \"<div style='background-color: #fdd'>\\n\"+\n",
              "     \"<p>\\n\"+\n",
              "     \"BokehJS does not appear to have successfully loaded. If loading BokehJS from CDN, this \\n\"+\n",
              "     \"may be due to a slow or bad network connection. Possible fixes:\\n\"+\n",
              "     \"</p>\\n\"+\n",
              "     \"<ul>\\n\"+\n",
              "     \"<li>re-rerun `output_notebook()` to attempt to load from CDN again, or</li>\\n\"+\n",
              "     \"<li>use INLINE resources instead, as so:</li>\\n\"+\n",
              "     \"</ul>\\n\"+\n",
              "     \"<code>\\n\"+\n",
              "     \"from bokeh.resources import INLINE\\n\"+\n",
              "     \"output_notebook(resources=INLINE)\\n\"+\n",
              "     \"</code>\\n\"+\n",
              "     \"</div>\"}};\n",
              "\n",
              "  function display_loaded() {\n",
              "    const el = document.getElementById(null);\n",
              "    if (el != null) {\n",
              "      el.textContent = \"BokehJS is loading...\";\n",
              "    }\n",
              "    if (root.Bokeh !== undefined) {\n",
              "      if (el != null) {\n",
              "        el.textContent = \"BokehJS \" + root.Bokeh.version + \" successfully loaded.\";\n",
              "      }\n",
              "    } else if (Date.now() < root._bokeh_timeout) {\n",
              "      setTimeout(display_loaded, 100)\n",
              "    }\n",
              "  }\n",
              "\n",
              "  function run_callbacks() {\n",
              "    try {\n",
              "      root._bokeh_onload_callbacks.forEach(function(callback) {\n",
              "        if (callback != null)\n",
              "          callback();\n",
              "      });\n",
              "    } finally {\n",
              "      delete root._bokeh_onload_callbacks\n",
              "    }\n",
              "    console.debug(\"Bokeh: all callbacks have finished\");\n",
              "  }\n",
              "\n",
              "  function load_libs(css_urls, js_urls, callback) {\n",
              "    if (css_urls == null) css_urls = [];\n",
              "    if (js_urls == null) js_urls = [];\n",
              "\n",
              "    root._bokeh_onload_callbacks.push(callback);\n",
              "    if (root._bokeh_is_loading > 0) {\n",
              "      console.debug(\"Bokeh: BokehJS is being loaded, scheduling callback at\", now());\n",
              "      return null;\n",
              "    }\n",
              "    if (js_urls == null || js_urls.length === 0) {\n",
              "      run_callbacks();\n",
              "      return null;\n",
              "    }\n",
              "    console.debug(\"Bokeh: BokehJS not loaded, scheduling load and callback at\", now());\n",
              "    root._bokeh_is_loading = css_urls.length + js_urls.length;\n",
              "\n",
              "    function on_load() {\n",
              "      root._bokeh_is_loading--;\n",
              "      if (root._bokeh_is_loading === 0) {\n",
              "        console.debug(\"Bokeh: all BokehJS libraries/stylesheets loaded\");\n",
              "        run_callbacks()\n",
              "      }\n",
              "    }\n",
              "\n",
              "    function on_error(url) {\n",
              "      console.error(\"failed to load \" + url);\n",
              "    }\n",
              "\n",
              "    for (let i = 0; i < css_urls.length; i++) {\n",
              "      const url = css_urls[i];\n",
              "      const element = document.createElement(\"link\");\n",
              "      element.onload = on_load;\n",
              "      element.onerror = on_error.bind(null, url);\n",
              "      element.rel = \"stylesheet\";\n",
              "      element.type = \"text/css\";\n",
              "      element.href = url;\n",
              "      console.debug(\"Bokeh: injecting link tag for BokehJS stylesheet: \", url);\n",
              "      document.body.appendChild(element);\n",
              "    }\n",
              "\n",
              "    for (let i = 0; i < js_urls.length; i++) {\n",
              "      const url = js_urls[i];\n",
              "      const element = document.createElement('script');\n",
              "      element.onload = on_load;\n",
              "      element.onerror = on_error.bind(null, url);\n",
              "      element.async = false;\n",
              "      element.src = url;\n",
              "      console.debug(\"Bokeh: injecting script tag for BokehJS library: \", url);\n",
              "      document.head.appendChild(element);\n",
              "    }\n",
              "  };\n",
              "\n",
              "  function inject_raw_css(css) {\n",
              "    const element = document.createElement(\"style\");\n",
              "    element.appendChild(document.createTextNode(css));\n",
              "    document.body.appendChild(element);\n",
              "  }\n",
              "\n",
              "  const js_urls = [\"https://cdn.bokeh.org/bokeh/release/bokeh-2.4.3.min.js\", \"https://cdn.bokeh.org/bokeh/release/bokeh-gl-2.4.3.min.js\", \"https://cdn.bokeh.org/bokeh/release/bokeh-widgets-2.4.3.min.js\", \"https://cdn.bokeh.org/bokeh/release/bokeh-tables-2.4.3.min.js\", \"https://cdn.bokeh.org/bokeh/release/bokeh-mathjax-2.4.3.min.js\"];\n",
              "  const css_urls = [];\n",
              "\n",
              "  const inline_js = [    function(Bokeh) {\n",
              "      Bokeh.set_log_level(\"info\");\n",
              "    },\n",
              "function(Bokeh) {\n",
              "    }\n",
              "  ];\n",
              "\n",
              "  function run_inline_js() {\n",
              "    if (root.Bokeh !== undefined || force === true) {\n",
              "          for (let i = 0; i < inline_js.length; i++) {\n",
              "      inline_js[i].call(root, root.Bokeh);\n",
              "    }\n",
              "} else if (Date.now() < root._bokeh_timeout) {\n",
              "      setTimeout(run_inline_js, 100);\n",
              "    } else if (!root._bokeh_failed_load) {\n",
              "      console.log(\"Bokeh: BokehJS failed to load within specified timeout.\");\n",
              "      root._bokeh_failed_load = true;\n",
              "    } else if (force !== true) {\n",
              "      const cell = $(document.getElementById(null)).parents('.cell').data().cell;\n",
              "      cell.output_area.append_execute_result(NB_LOAD_WARNING)\n",
              "    }\n",
              "  }\n",
              "\n",
              "  if (root._bokeh_is_loading === 0) {\n",
              "    console.debug(\"Bokeh: BokehJS loaded, going straight to plotting\");\n",
              "    run_inline_js();\n",
              "  } else {\n",
              "    load_libs(css_urls, js_urls, function() {\n",
              "      console.debug(\"Bokeh: BokehJS plotting callback run at\", now());\n",
              "      run_inline_js();\n",
              "    });\n",
              "  }\n",
              "}(window));"
            ],
            "application/vnd.bokehjs_load.v0+json": "(function(root) {\n  function now() {\n    return new Date();\n  }\n\n  const force = true;\n\n  if (typeof root._bokeh_onload_callbacks === \"undefined\" || force === true) {\n    root._bokeh_onload_callbacks = [];\n    root._bokeh_is_loading = undefined;\n  }\n\n\n  if (typeof (root._bokeh_timeout) === \"undefined\" || force === true) {\n    root._bokeh_timeout = Date.now() + 5000;\n    root._bokeh_failed_load = false;\n  }\n\n  const NB_LOAD_WARNING = {'data': {'text/html':\n     \"<div style='background-color: #fdd'>\\n\"+\n     \"<p>\\n\"+\n     \"BokehJS does not appear to have successfully loaded. If loading BokehJS from CDN, this \\n\"+\n     \"may be due to a slow or bad network connection. Possible fixes:\\n\"+\n     \"</p>\\n\"+\n     \"<ul>\\n\"+\n     \"<li>re-rerun `output_notebook()` to attempt to load from CDN again, or</li>\\n\"+\n     \"<li>use INLINE resources instead, as so:</li>\\n\"+\n     \"</ul>\\n\"+\n     \"<code>\\n\"+\n     \"from bokeh.resources import INLINE\\n\"+\n     \"output_notebook(resources=INLINE)\\n\"+\n     \"</code>\\n\"+\n     \"</div>\"}};\n\n  function display_loaded() {\n    const el = document.getElementById(null);\n    if (el != null) {\n      el.textContent = \"BokehJS is loading...\";\n    }\n    if (root.Bokeh !== undefined) {\n      if (el != null) {\n        el.textContent = \"BokehJS \" + root.Bokeh.version + \" successfully loaded.\";\n      }\n    } else if (Date.now() < root._bokeh_timeout) {\n      setTimeout(display_loaded, 100)\n    }\n  }\n\n  function run_callbacks() {\n    try {\n      root._bokeh_onload_callbacks.forEach(function(callback) {\n        if (callback != null)\n          callback();\n      });\n    } finally {\n      delete root._bokeh_onload_callbacks\n    }\n    console.debug(\"Bokeh: all callbacks have finished\");\n  }\n\n  function load_libs(css_urls, js_urls, callback) {\n    if (css_urls == null) css_urls = [];\n    if (js_urls == null) js_urls = [];\n\n    root._bokeh_onload_callbacks.push(callback);\n    if (root._bokeh_is_loading > 0) {\n      console.debug(\"Bokeh: BokehJS is being loaded, scheduling callback at\", now());\n      return null;\n    }\n    if (js_urls == null || js_urls.length === 0) {\n      run_callbacks();\n      return null;\n    }\n    console.debug(\"Bokeh: BokehJS not loaded, scheduling load and callback at\", now());\n    root._bokeh_is_loading = css_urls.length + js_urls.length;\n\n    function on_load() {\n      root._bokeh_is_loading--;\n      if (root._bokeh_is_loading === 0) {\n        console.debug(\"Bokeh: all BokehJS libraries/stylesheets loaded\");\n        run_callbacks()\n      }\n    }\n\n    function on_error(url) {\n      console.error(\"failed to load \" + url);\n    }\n\n    for (let i = 0; i < css_urls.length; i++) {\n      const url = css_urls[i];\n      const element = document.createElement(\"link\");\n      element.onload = on_load;\n      element.onerror = on_error.bind(null, url);\n      element.rel = \"stylesheet\";\n      element.type = \"text/css\";\n      element.href = url;\n      console.debug(\"Bokeh: injecting link tag for BokehJS stylesheet: \", url);\n      document.body.appendChild(element);\n    }\n\n    for (let i = 0; i < js_urls.length; i++) {\n      const url = js_urls[i];\n      const element = document.createElement('script');\n      element.onload = on_load;\n      element.onerror = on_error.bind(null, url);\n      element.async = false;\n      element.src = url;\n      console.debug(\"Bokeh: injecting script tag for BokehJS library: \", url);\n      document.head.appendChild(element);\n    }\n  };\n\n  function inject_raw_css(css) {\n    const element = document.createElement(\"style\");\n    element.appendChild(document.createTextNode(css));\n    document.body.appendChild(element);\n  }\n\n  const js_urls = [\"https://cdn.bokeh.org/bokeh/release/bokeh-2.4.3.min.js\", \"https://cdn.bokeh.org/bokeh/release/bokeh-gl-2.4.3.min.js\", \"https://cdn.bokeh.org/bokeh/release/bokeh-widgets-2.4.3.min.js\", \"https://cdn.bokeh.org/bokeh/release/bokeh-tables-2.4.3.min.js\", \"https://cdn.bokeh.org/bokeh/release/bokeh-mathjax-2.4.3.min.js\"];\n  const css_urls = [];\n\n  const inline_js = [    function(Bokeh) {\n      Bokeh.set_log_level(\"info\");\n    },\nfunction(Bokeh) {\n    }\n  ];\n\n  function run_inline_js() {\n    if (root.Bokeh !== undefined || force === true) {\n          for (let i = 0; i < inline_js.length; i++) {\n      inline_js[i].call(root, root.Bokeh);\n    }\n} else if (Date.now() < root._bokeh_timeout) {\n      setTimeout(run_inline_js, 100);\n    } else if (!root._bokeh_failed_load) {\n      console.log(\"Bokeh: BokehJS failed to load within specified timeout.\");\n      root._bokeh_failed_load = true;\n    } else if (force !== true) {\n      const cell = $(document.getElementById(null)).parents('.cell').data().cell;\n      cell.output_area.append_execute_result(NB_LOAD_WARNING)\n    }\n  }\n\n  if (root._bokeh_is_loading === 0) {\n    console.debug(\"Bokeh: BokehJS loaded, going straight to plotting\");\n    run_inline_js();\n  } else {\n    load_libs(css_urls, js_urls, function() {\n      console.debug(\"Bokeh: BokehJS plotting callback run at\", now());\n      run_inline_js();\n    });\n  }\n}(window));"
          },
          "metadata": {},
          "output_type": "display_data"
        },
        {
          "data": {
            "text/html": [
              "\n",
              "  <div class=\"bk-root\" id=\"de4cfee2-f2e8-4cb7-98e9-e7b06bf11bd1\" data-root-id=\"1377\"></div>\n"
            ]
          },
          "metadata": {},
          "output_type": "display_data"
        },
        {
          "data": {
            "application/javascript": [
              "(function(root) {\n",
              "  function embed_document(root) {\n",
              "  const docs_json = {\"0d5d4cb6-d532-4e93-a37e-885fd3cf27fc\":{\"defs\":[],\"roots\":{\"references\":[{\"attributes\":{\"below\":[{\"id\":\"1388\"}],\"center\":[{\"id\":\"1391\"},{\"id\":\"1395\"},{\"id\":\"1470\"},{\"id\":\"1471\"},{\"id\":\"1472\"},{\"id\":\"1473\"},{\"id\":\"1474\"},{\"id\":\"1475\"},{\"id\":\"1476\"},{\"id\":\"1477\"},{\"id\":\"1478\"},{\"id\":\"1479\"},{\"id\":\"1480\"},{\"id\":\"1481\"},{\"id\":\"1482\"},{\"id\":\"1483\"},{\"id\":\"1484\"},{\"id\":\"1485\"},{\"id\":\"1486\"},{\"id\":\"1487\"},{\"id\":\"1488\"},{\"id\":\"1489\"},{\"id\":\"1490\"},{\"id\":\"1491\"},{\"id\":\"1492\"},{\"id\":\"1493\"},{\"id\":\"1494\"},{\"id\":\"1495\"},{\"id\":\"1496\"},{\"id\":\"1497\"},{\"id\":\"1498\"},{\"id\":\"1499\"},{\"id\":\"1500\"},{\"id\":\"1501\"},{\"id\":\"1502\"},{\"id\":\"1503\"},{\"id\":\"1504\"},{\"id\":\"1505\"},{\"id\":\"1506\"},{\"id\":\"1507\"},{\"id\":\"1508\"},{\"id\":\"1509\"},{\"id\":\"1510\"},{\"id\":\"1511\"},{\"id\":\"1512\"},{\"id\":\"1513\"},{\"id\":\"1514\"},{\"id\":\"1515\"},{\"id\":\"1516\"},{\"id\":\"1517\"},{\"id\":\"1518\"},{\"id\":\"1519\"},{\"id\":\"1520\"},{\"id\":\"1521\"}],\"height\":800,\"left\":[{\"id\":\"1392\"}],\"renderers\":[{\"id\":\"1410\"}],\"title\":{\"id\":\"1378\"},\"toolbar\":{\"id\":\"1403\"},\"width\":800,\"x_range\":{\"id\":\"1380\"},\"x_scale\":{\"id\":\"1384\"},\"y_range\":{\"id\":\"1382\"},\"y_scale\":{\"id\":\"1386\"}},\"id\":\"1377\",\"subtype\":\"Figure\",\"type\":\"Plot\"},{\"attributes\":{\"source\":{\"id\":\"1416\"}},\"id\":\"1418\",\"type\":\"CDSView\"},{\"attributes\":{\"source\":{\"id\":\"1412\"}},\"id\":\"1414\",\"type\":\"CDSView\"},{\"attributes\":{\"line_color\":{\"value\":\"#fdae61\"},\"line_width\":{\"value\":5}},\"id\":\"1434\",\"type\":\"MultiLine\"},{\"attributes\":{\"data\":{\"end\":[1,2,3,6,8,30,37,39,40,43,48,50,30,48,50,51,4,5,7,9,10,11,12,13,14,15,16,17,18,19,20,21,22,23,24,25,26,27,28,29,42,42,30,31,42,42,31,37,41,42,42,42,42,42,44,44,42,44,42,44,42,30,31,37,41,42,32,33,34,36,37,40,38,41,44,45,46,47,49,50],\"start\":[0,0,1,1,1,1,1,1,1,1,1,1,2,2,2,2,3,3,6,8,8,8,8,8,8,8,8,8,8,8,8,8,8,8,8,8,8,8,8,8,9,10,11,11,12,13,14,16,16,16,17,19,20,21,21,22,24,24,25,26,27,29,29,29,29,29,31,31,31,35,36,36,37,38,38,44,44,44,48,49]},\"selected\":{\"id\":\"1563\"},\"selection_policy\":{\"id\":\"1562\"}},\"id\":\"1416\",\"type\":\"ColumnDataSource\"},{\"attributes\":{\"coordinates\":null,\"edge_renderer\":{\"id\":\"1417\"},\"group\":null,\"inspection_policy\":{\"id\":\"1456\"},\"layout_provider\":{\"id\":\"1423\"},\"node_renderer\":{\"id\":\"1413\"},\"selection_policy\":{\"id\":\"1454\"}},\"id\":\"1410\",\"type\":\"GraphRenderer\"},{\"attributes\":{\"coordinates\":null,\"data_source\":{\"id\":\"1412\"},\"glyph\":{\"id\":\"1439\"},\"group\":null,\"hover_glyph\":{\"id\":\"1444\"},\"selection_glyph\":{\"id\":\"1449\"},\"view\":{\"id\":\"1414\"}},\"id\":\"1413\",\"type\":\"GlyphRenderer\"},{\"attributes\":{\"tools\":[{\"id\":\"1396\"},{\"id\":\"1397\"},{\"id\":\"1398\"},{\"id\":\"1399\"},{\"id\":\"1400\"},{\"id\":\"1401\"},{\"id\":\"1462\"},{\"id\":\"1463\"},{\"id\":\"1464\"},{\"id\":\"1465\"}]},\"id\":\"1403\",\"type\":\"Toolbar\"},{\"attributes\":{\"coordinates\":null,\"formatter\":{\"id\":\"1556\"},\"group\":null,\"major_label_policy\":{\"id\":\"1557\"},\"ticker\":{\"id\":\"1389\"}},\"id\":\"1388\",\"type\":\"LinearAxis\"},{\"attributes\":{},\"id\":\"1386\",\"type\":\"LinearScale\"},{\"attributes\":{\"fill_color\":{\"field\":\"node_color\"},\"size\":{\"value\":10}},\"id\":\"1439\",\"type\":\"Circle\"},{\"attributes\":{\"coordinates\":null,\"group\":null,\"text\":\"\\u0633\\u0648\\u062f\\u0627\\u0646\\u064a\\u0647\",\"text_font_size\":\"10pt\",\"x\":0.3968774592079782,\"x_offset\":5,\"y\":-0.31942985382229183,\"y_offset\":5},\"id\":\"1491\",\"type\":\"Label\"},{\"attributes\":{},\"id\":\"1400\",\"type\":\"ResetTool\"},{\"attributes\":{\"end\":3,\"start\":-3},\"id\":\"1382\",\"type\":\"Range1d\"},{\"attributes\":{\"overlay\":{\"id\":\"1402\"}},\"id\":\"1398\",\"type\":\"BoxZoomTool\"},{\"attributes\":{},\"id\":\"1396\",\"type\":\"PanTool\"},{\"attributes\":{\"coordinates\":null,\"group\":null,\"text\":\"Eagle News instagram\",\"text_font_size\":\"10pt\",\"x\":-0.9461794227764134,\"x_offset\":5,\"y\":-0.05432949261554008,\"y_offset\":5},\"id\":\"1476\",\"type\":\"Label\"},{\"attributes\":{\"coordinates\":null,\"group\":null,\"text\":\"keepeyesonsudan\",\"text_font_size\":\"10pt\",\"x\":0.8793329816618554,\"x_offset\":5,\"y\":-0.26237968906563,\"y_offset\":5},\"id\":\"1481\",\"type\":\"Label\"},{\"attributes\":{},\"id\":\"1393\",\"type\":\"BasicTicker\"},{\"attributes\":{\"coordinates\":null,\"group\":null,\"text\":\"sudanuprising\",\"text_font_size\":\"10pt\",\"x\":0.5105236433991678,\"x_offset\":5,\"y\":-0.8916525744852528,\"y_offset\":5},\"id\":\"1484\",\"type\":\"Label\"},{\"attributes\":{\"coordinates\":null,\"group\":null,\"text\":\"\\u0627\\u0645\\u062f\\u0631\\u0645\\u0627\\u0646\",\"text_font_size\":\"10pt\",\"x\":-0.6278419868656677,\"x_offset\":5,\"y\":-0.7429555419905417,\"y_offset\":5},\"id\":\"1488\",\"type\":\"Label\"},{\"attributes\":{\"coordinates\":null,\"group\":null,\"text\":\"Sudani \\ud83c\\uddf8\\ud83c\\udde9 instagram\",\"text_font_size\":\"10pt\",\"x\":-0.11837777396986143,\"x_offset\":5,\"y\":-0.14288138220721702,\"y_offset\":5},\"id\":\"1478\",\"type\":\"Label\"},{\"attributes\":{\"coordinates\":null,\"group\":null,\"text\":\"khartoum\",\"text_font_size\":\"10pt\",\"x\":0.4053953088369534,\"x_offset\":5,\"y\":-0.0730564127889765,\"y_offset\":5},\"id\":\"1499\",\"type\":\"Label\"},{\"attributes\":{\"coordinates\":null,\"group\":null,\"text\":\"\\u0627\\u0644\\u062e\\u0631\\u0637\\u0648\\u0645\",\"text_font_size\":\"10pt\",\"x\":0.49045202770100355,\"x_offset\":5,\"y\":0.04657900506090688,\"y_offset\":5},\"id\":\"1486\",\"type\":\"Label\"},{\"attributes\":{\"coordinates\":null,\"data_source\":{\"id\":\"1416\"},\"glyph\":{\"id\":\"1429\"},\"group\":null,\"hover_glyph\":{\"id\":\"1424\"},\"selection_glyph\":{\"id\":\"1434\"},\"view\":{\"id\":\"1418\"}},\"id\":\"1417\",\"type\":\"GlyphRenderer\"},{\"attributes\":{},\"id\":\"1463\",\"type\":\"WheelZoomTool\"},{\"attributes\":{\"coordinates\":null,\"group\":null,\"text\":\"VOA Indonesia facebook\",\"text_font_size\":\"10pt\",\"x\":0.31363515548630444,\"x_offset\":5,\"y\":0.9078702683936678,\"y_offset\":5},\"id\":\"1470\",\"type\":\"Label\"},{\"attributes\":{},\"id\":\"1456\",\"type\":\"EdgesAndLinkedNodes\"},{\"attributes\":{\"coordinates\":null,\"group\":null,\"text\":\"BBC News Swahili instagram\",\"text_font_size\":\"10pt\",\"x\":-0.16789282910877593,\"x_offset\":5,\"y\":1.0,\"y_offset\":5},\"id\":\"1518\",\"type\":\"Label\"},{\"attributes\":{\"coordinates\":null,\"group\":null,\"text\":\"\\u0633\\u0648\\u062f\\u0627\\u0646\\u064a\\u0632\",\"text_font_size\":\"10pt\",\"x\":-0.7101798098775556,\"x_offset\":5,\"y\":-0.564294752184758,\"y_offset\":5},\"id\":\"1517\",\"type\":\"Label\"},{\"attributes\":{\"coordinates\":null,\"group\":null,\"text\":\"\\u0633\\u0648\\u062f\\u0627\\u0646\\u064a\\u0629\",\"text_font_size\":\"10pt\",\"x\":-0.8676234262362484,\"x_offset\":5,\"y\":0.3153471655003564,\"y_offset\":5},\"id\":\"1516\",\"type\":\"Label\"},{\"attributes\":{\"coordinates\":null,\"group\":null,\"text\":\"iamthesudanrevolution\",\"text_font_size\":\"10pt\",\"x\":0.17900258844924638,\"x_offset\":5,\"y\":0.9641609010919768,\"y_offset\":5},\"id\":\"1515\",\"type\":\"Label\"},{\"attributes\":{\"coordinates\":null,\"group\":null,\"text\":\"My Views On News youtube\",\"text_font_size\":\"10pt\",\"x\":0.9839301233436503,\"x_offset\":5,\"y\":0.15519791677823525,\"y_offset\":5},\"id\":\"1521\",\"type\":\"Label\"},{\"attributes\":{\"coordinates\":null,\"group\":null,\"text\":\"BBC Swahili facebook\",\"text_font_size\":\"10pt\",\"x\":-0.5326190088424235,\"x_offset\":5,\"y\":0.42234130799763825,\"y_offset\":5},\"id\":\"1520\",\"type\":\"Label\"},{\"attributes\":{},\"id\":\"1401\",\"type\":\"HelpTool\"},{\"attributes\":{\"coordinates\":null,\"formatter\":{\"id\":\"1553\"},\"group\":null,\"major_label_policy\":{\"id\":\"1554\"},\"ticker\":{\"id\":\"1393\"}},\"id\":\"1392\",\"type\":\"LinearAxis\"},{\"attributes\":{\"coordinates\":null,\"group\":null,\"text\":\"rsf\",\"text_font_size\":\"10pt\",\"x\":0.26457806265794553,\"x_offset\":5,\"y\":0.5201133024690395,\"y_offset\":5},\"id\":\"1472\",\"type\":\"Label\"},{\"attributes\":{\"callback\":null},\"id\":\"1464\",\"type\":\"TapTool\"},{\"attributes\":{\"coordinates\":null,\"group\":null,\"text\":\"\\u0647\\u0646\\u0627_\\u0627\\u0644\\u0633\\u0648\\u062f\\u0627\\u0646\",\"text_font_size\":\"10pt\",\"x\":-0.8449402836190784,\"x_offset\":5,\"y\":0.4445046914329326,\"y_offset\":5},\"id\":\"1487\",\"type\":\"Label\"},{\"attributes\":{\"coordinates\":null,\"group\":null,\"text\":\"sudanese_shoutout\",\"text_font_size\":\"10pt\",\"x\":0.08646353289558234,\"x_offset\":5,\"y\":-0.9777420099987035,\"y_offset\":5},\"id\":\"1492\",\"type\":\"Label\"},{\"attributes\":{\"coordinates\":null,\"group\":null,\"text\":\"\\u0633\\u0648\\u062f\\u0627\\u0646\\u064a\\u0627\\u062a\",\"text_font_size\":\"10pt\",\"x\":-0.8828170387137819,\"x_offset\":5,\"y\":-0.30804890660141504,\"y_offset\":5},\"id\":\"1489\",\"type\":\"Label\"},{\"attributes\":{},\"id\":\"1389\",\"type\":\"BasicTicker\"},{\"attributes\":{},\"id\":\"1384\",\"type\":\"LinearScale\"},{\"attributes\":{\"axis\":{\"id\":\"1388\"},\"coordinates\":null,\"group\":null,\"ticker\":null},\"id\":\"1391\",\"type\":\"Grid\"},{\"attributes\":{\"coordinates\":null,\"group\":null,\"text\":\"Data Graph\"},\"id\":\"1378\",\"type\":\"Title\"},{\"attributes\":{\"end\":3,\"start\":-3},\"id\":\"1380\",\"type\":\"Range1d\"},{\"attributes\":{},\"id\":\"1454\",\"type\":\"NodesAndLinkedEdges\"},{\"attributes\":{\"coordinates\":null,\"group\":null,\"text\":\"\\u0642\\u0646\\u0627\\u0629 \\u0627\\u0644\\u063a\\u062f Alghad TV instagram\",\"text_font_size\":\"10pt\",\"x\":0.022927493930988814,\"x_offset\":5,\"y\":0.3327351715530353,\"y_offset\":5},\"id\":\"1507\",\"type\":\"Label\"},{\"attributes\":{\"bottom_units\":\"screen\",\"coordinates\":null,\"fill_alpha\":0.5,\"fill_color\":\"lightgrey\",\"group\":null,\"left_units\":\"screen\",\"level\":\"overlay\",\"line_alpha\":1.0,\"line_color\":\"black\",\"line_dash\":[4,4],\"line_width\":2,\"right_units\":\"screen\",\"syncable\":false,\"top_units\":\"screen\"},\"id\":\"1559\",\"type\":\"BoxAnnotation\"},{\"attributes\":{\"coordinates\":null,\"group\":null,\"text\":\"war\",\"text_font_size\":\"10pt\",\"x\":0.008105448067201272,\"x_offset\":5,\"y\":-0.9208930747698978,\"y_offset\":5},\"id\":\"1475\",\"type\":\"Label\"},{\"attributes\":{\"coordinates\":null,\"group\":null,\"text\":\"Free Malaysia Today (FMT News) instagram\",\"text_font_size\":\"10pt\",\"x\":0.5287947659530348,\"x_offset\":5,\"y\":0.7796782858294294,\"y_offset\":5},\"id\":\"1509\",\"type\":\"Label\"},{\"attributes\":{\"coordinates\":null,\"group\":null,\"text\":\"blueforsudan\",\"text_font_size\":\"10pt\",\"x\":0.9176478841129602,\"x_offset\":5,\"y\":-0.5590404645280768,\"y_offset\":5},\"id\":\"1502\",\"type\":\"Label\"},{\"attributes\":{\"coordinates\":null,\"group\":null,\"text\":\"\\u0634\\u0628\\u0627\\u0628_\\u0627\\u0644\\u0633\\u0648\\u062f\\u0627\\u0646\",\"text_font_size\":\"10pt\",\"x\":0.11710617276968058,\"x_offset\":5,\"y\":-0.7790128024719465,\"y_offset\":5},\"id\":\"1495\",\"type\":\"Label\"},{\"attributes\":{\"coordinates\":null,\"group\":null,\"text\":\"prayforsudan\",\"text_font_size\":\"10pt\",\"x\":-0.009880597534861145,\"x_offset\":5,\"y\":-0.3105748340752407,\"y_offset\":5},\"id\":\"1503\",\"type\":\"Label\"},{\"attributes\":{\"coordinates\":null,\"group\":null,\"text\":\"news\",\"text_font_size\":\"10pt\",\"x\":-0.21710447771915561,\"x_offset\":5,\"y\":0.47699332201148664,\"y_offset\":5},\"id\":\"1506\",\"type\":\"Label\"},{\"attributes\":{\"coordinates\":null,\"group\":null,\"text\":\"The Sun youtube\",\"text_font_size\":\"10pt\",\"x\":0.6051737499145811,\"x_offset\":5,\"y\":-0.33529885422368655,\"y_offset\":5},\"id\":\"1473\",\"type\":\"Label\"},{\"attributes\":{\"coordinates\":null,\"group\":null,\"text\":\"_sudani196\",\"text_font_size\":\"10pt\",\"x\":-0.0012876355437647282,\"x_offset\":5,\"y\":0.9471135613181721,\"y_offset\":5},\"id\":\"1493\",\"type\":\"Label\"},{\"attributes\":{\"coordinates\":null,\"group\":null,\"text\":\"_sudani106#_\\u0633\\u0648\\u062f\\u0627\\u0646\\u064a\\u0661\\u0669\\u0666#\\u0633\\u0648\\u062f\\u0627\\u0646\\u064a\\u0632_\\u0627\\u0644\\u0632\\u064a\\u062a\\ud83d\\ude0d\",\"text_font_size\":\"10pt\",\"x\":-0.5519280715549101,\"x_offset\":5,\"y\":0.8114395334631828,\"y_offset\":5},\"id\":\"1498\",\"type\":\"Label\"},{\"attributes\":{\"fill_color\":{\"value\":\"#abdda4\"},\"size\":{\"value\":10}},\"id\":\"1444\",\"type\":\"Circle\"},{\"attributes\":{\"coordinates\":null,\"group\":null,\"text\":\"\\ud80c\\udc80\\u0639\\u0628\\u0648\\u062f\\u064a \\u2708\\ufe0f \\u0637\\u064a\\u0631\\u0627\\u0646\\ud80c\\udc79 instagram\",\"text_font_size\":\"10pt\",\"x\":-0.16051734430706607,\"x_offset\":5,\"y\":-0.03714771327299197,\"y_offset\":5},\"id\":\"1512\",\"type\":\"Label\"},{\"attributes\":{\"coordinates\":null,\"group\":null,\"text\":\"\\u0627\\u0644\\u0633\\u0646\\u063a\\u0644 \\u0627\\u0644\\u0633\\u0648\\u062f\\u0627\\u0646\\u064a\\u060c\\ud83d\\udc94\\ud83d\\udc94 instagram\",\"text_font_size\":\"10pt\",\"x\":-0.038587584427227394,\"x_offset\":5,\"y\":-0.0868215863390036,\"y_offset\":5},\"id\":\"1514\",\"type\":\"Label\"},{\"attributes\":{},\"id\":\"1560\",\"type\":\"UnionRenderers\"},{\"attributes\":{\"coordinates\":null,\"group\":null,\"text\":\"conflict\",\"text_font_size\":\"10pt\",\"x\":-0.5685790957629632,\"x_offset\":5,\"y\":0.6226318484750898,\"y_offset\":5},\"id\":\"1477\",\"type\":\"Label\"},{\"attributes\":{\"coordinates\":null,\"group\":null,\"text\":\"\\u0628\\u0644\\u0627\\u0643 \\u0633\\u0648\\u062f\\u0627\\u0646 | Black sd \\ud83e\\udd77\\ud83d\\udda4\\ud83d\\udcff\\ud83e\\udee6 instagram\",\"text_font_size\":\"10pt\",\"x\":0.7825293255161938,\"x_offset\":5,\"y\":-0.6472791677478216,\"y_offset\":5},\"id\":\"1511\",\"type\":\"Label\"},{\"attributes\":{\"coordinates\":null,\"group\":null,\"text\":\"Sinar Harian instagram\",\"text_font_size\":\"10pt\",\"x\":-0.9281018978692542,\"x_offset\":5,\"y\":0.17711513973038695,\"y_offset\":5},\"id\":\"1513\",\"type\":\"Label\"},{\"attributes\":{},\"id\":\"1561\",\"type\":\"Selection\"},{\"attributes\":{\"coordinates\":null,\"group\":null,\"text\":\"africa\",\"text_font_size\":\"10pt\",\"x\":0.8139833772479592,\"x_offset\":5,\"y\":0.37213052457177515,\"y_offset\":5},\"id\":\"1474\",\"type\":\"Label\"},{\"attributes\":{\"coordinates\":null,\"group\":null,\"text\":\"sudanese_video\",\"text_font_size\":\"10pt\",\"x\":-0.29565294826982336,\"x_offset\":5,\"y\":-0.8661743133238197,\"y_offset\":5},\"id\":\"1479\",\"type\":\"Label\"},{\"attributes\":{\"coordinates\":null,\"group\":null,\"text\":\"bbcswahili\",\"text_font_size\":\"10pt\",\"x\":-0.15606026466062636,\"x_offset\":5,\"y\":0.8328556551413044,\"y_offset\":5},\"id\":\"1519\",\"type\":\"Label\"},{\"attributes\":{\"coordinates\":null,\"group\":null,\"text\":\"sudan_music\",\"text_font_size\":\"10pt\",\"x\":-0.9574288012539326,\"x_offset\":5,\"y\":0.02328626374504476,\"y_offset\":5},\"id\":\"1480\",\"type\":\"Label\"},{\"attributes\":{\"coordinates\":null,\"group\":null,\"text\":\"sudanese_musically\",\"text_font_size\":\"10pt\",\"x\":-0.4235489015273802,\"x_offset\":5,\"y\":0.31842337786597685,\"y_offset\":5},\"id\":\"1494\",\"type\":\"Label\"},{\"attributes\":{\"coordinates\":null,\"group\":null,\"text\":\"\\u0633\\u0648\\u062f\\u0627\\u0646\\u064a\",\"text_font_size\":\"10pt\",\"x\":0.7545261257394998,\"x_offset\":5,\"y\":0.22841490529745256,\"y_offset\":5},\"id\":\"1490\",\"type\":\"Label\"},{\"attributes\":{\"data\":{\"index\":[0,1,2,3,4,5,6,7,8,9,10,11,12,13,14,15,16,17,18,19,20,21,22,23,24,25,26,27,28,29,30,31,32,33,34,35,36,37,38,39,40,41,42,43,44,45,46,47,48,49,50,51],\"node_color\":[\"lightblue\",\"lightgreen\",\"lightgreen\",\"lightblue\",\"lightgreen\",\"lightgreen\",\"lightblue\",\"lightgreen\",\"lightblue\",\"lightgreen\",\"lightgreen\",\"lightgreen\",\"lightgreen\",\"lightgreen\",\"lightgreen\",\"lightgreen\",\"lightgreen\",\"lightgreen\",\"lightgreen\",\"lightgreen\",\"lightgreen\",\"lightgreen\",\"lightgreen\",\"lightgreen\",\"lightgreen\",\"lightgreen\",\"lightgreen\",\"lightgreen\",\"lightgreen\",\"lightgreen\",\"lightblue\",\"lightblue\",\"lightgreen\",\"lightgreen\",\"lightgreen\",\"lightblue\",\"lightgreen\",\"lightblue\",\"lightgreen\",\"lightblue\",\"lightblue\",\"lightblue\",\"lightblue\",\"lightblue\",\"lightblue\",\"lightgreen\",\"lightgreen\",\"lightgreen\",\"lightblue\",\"lightgreen\",\"lightblue\",\"lightblue\"],\"node_role\":[\"source\",\"target\",\"target\",\"source\",\"target\",\"target\",\"source\",\"target\",\"source\",\"target\",\"target\",\"target\",\"target\",\"target\",\"target\",\"target\",\"target\",\"target\",\"target\",\"target\",\"target\",\"target\",\"target\",\"target\",\"target\",\"target\",\"target\",\"target\",\"target\",\"target\",\"source\",\"source\",\"target\",\"target\",\"target\",\"source\",\"target\",\"source\",\"target\",\"source\",\"source\",\"source\",\"source\",\"source\",\"source\",\"target\",\"target\",\"target\",\"source\",\"target\",\"source\",\"source\"],\"node_type\":[\"source\",\"target\",\"target\",\"source\",\"target\",\"target\",\"source\",\"target\",\"source\",\"target\",\"target\",\"target\",\"target\",\"target\",\"target\",\"target\",\"target\",\"target\",\"target\",\"target\",\"target\",\"target\",\"target\",\"target\",\"target\",\"target\",\"target\",\"target\",\"target\",\"target\",\"source\",\"source\",\"target\",\"target\",\"target\",\"source\",\"target\",\"source\",\"target\",\"source\",\"source\",\"source\",\"source\",\"source\",\"source\",\"target\",\"target\",\"target\",\"source\",\"target\",\"source\",\"source\"]},\"selected\":{\"id\":\"1561\"},\"selection_policy\":{\"id\":\"1560\"}},\"id\":\"1412\",\"type\":\"ColumnDataSource\"},{\"attributes\":{\"coordinates\":null,\"group\":null,\"text\":\"\\u0628\\u0646\\u0627\\u062a_\\u0627\\u0644\\u0633\\u0648\\u062f\\u0627\\u0646\",\"text_font_size\":\"10pt\",\"x\":0.5342166299139337,\"x_offset\":5,\"y\":0.4602361650268919,\"y_offset\":5},\"id\":\"1497\",\"type\":\"Label\"},{\"attributes\":{\"fill_color\":{\"value\":\"#fdae61\"},\"size\":{\"value\":10}},\"id\":\"1449\",\"type\":\"Circle\"},{\"attributes\":{\"line_color\":{\"value\":\"#abdda4\"},\"line_width\":{\"value\":5}},\"id\":\"1424\",\"type\":\"MultiLine\"},{\"attributes\":{\"overlay\":{\"id\":\"1559\"}},\"id\":\"1465\",\"type\":\"BoxSelectTool\"},{\"attributes\":{},\"id\":\"1399\",\"type\":\"SaveTool\"},{\"attributes\":{\"graph_layout\":{\"0\":[0.31363515548630444,0.9078702683936678],\"1\":[-0.10316108285483594,0.2153711729853291],\"10\":[-0.9574288012539326,0.02328626374504476],\"11\":[0.8793329816618554,-0.26237968906563],\"12\":[-0.3724481149572655,0.7102885235593742],\"13\":[-0.45932206713483253,-0.804983758097829],\"14\":[0.5105236433991678,-0.8916525744852528],\"15\":[-0.8548514477137652,-0.5133794007376954],\"16\":[0.49045202770100355,0.04657900506090688],\"17\":[-0.8449402836190784,0.4445046914329326],\"18\":[-0.6278419868656677,-0.7429555419905417],\"19\":[-0.8828170387137819,-0.30804890660141504],\"2\":[0.26457806265794553,0.5201133024690395],\"20\":[0.7545261257394998,0.22841490529745256],\"21\":[0.3968774592079782,-0.31942985382229183],\"22\":[0.08646353289558234,-0.9777420099987035],\"23\":[-0.0012876355437647282,0.9471135613181721],\"24\":[-0.4235489015273802,0.31842337786597685],\"25\":[0.11710617276968058,-0.7790128024719465],\"26\":[0.42353803678979013,-0.6520921705570749],\"27\":[0.5342166299139337,0.4602361650268919],\"28\":[-0.5519280715549101,0.8114395334631828],\"29\":[0.4053953088369534,-0.0730564127889765],\"3\":[0.6051737499145811,-0.33529885422368655],\"30\":[0.1808087079926238,-0.3060367941754547],\"31\":[0.8124901516042334,-0.49378316059878813],\"32\":[0.9176478841129602,-0.5590404645280768],\"33\":[-0.009880597534861145,-0.3105748340752407],\"34\":[0.3730473483300877,-0.7820969914629575],\"35\":[-0.5746626747238751,-0.4073996807257094],\"36\":[-0.21710447771915561,0.47699332201148664],\"37\":[0.022927493930988814,0.3327351715530353],\"38\":[0.5370048568092534,-0.15369270055359271],\"39\":[0.5287947659530348,0.7796782858294294],\"4\":[0.8139833772479592,0.37213052457177515],\"40\":[0.4495036294936369,0.9076500741232262],\"41\":[0.7825293255161938,-0.6472791677478216],\"42\":[-0.16051734430706607,-0.03714771327299197],\"43\":[-0.9281018978692542,0.17711513973038695],\"44\":[-0.038587584427227394,-0.0868215863390036],\"45\":[0.17900258844924638,0.9641609010919768],\"46\":[-0.8676234262362484,0.3153471655003564],\"47\":[-0.7101798098775556,-0.564294752184758],\"48\":[-0.16789282910877593,1.0],\"49\":[-0.15606026466062636,0.8328556551413044],\"5\":[0.008105448067201272,-0.9208930747698978],\"50\":[-0.5326190088424235,0.42234130799763825],\"51\":[0.9839301233436503,0.15519791677823525],\"6\":[-0.9461794227764134,-0.05432949261554008],\"7\":[-0.5685790957629632,0.6226318484750898],\"8\":[-0.11837777396986143,-0.14288138220721702],\"9\":[-0.29565294826982336,-0.8661743133238197]}},\"id\":\"1423\",\"type\":\"StaticLayoutProvider\"},{\"attributes\":{\"coordinates\":null,\"group\":null,\"text\":\"sudanese_song\",\"text_font_size\":\"10pt\",\"x\":-0.3724481149572655,\"x_offset\":5,\"y\":0.7102885235593742,\"y_offset\":5},\"id\":\"1482\",\"type\":\"Label\"},{\"attributes\":{},\"id\":\"1562\",\"type\":\"UnionRenderers\"},{\"attributes\":{\"coordinates\":null,\"group\":null,\"text\":\"sudan\",\"text_font_size\":\"10pt\",\"x\":-0.10316108285483594,\"x_offset\":5,\"y\":0.2153711729853291,\"y_offset\":5},\"id\":\"1471\",\"type\":\"Label\"},{\"attributes\":{},\"id\":\"1563\",\"type\":\"Selection\"},{\"attributes\":{\"coordinates\":null,\"group\":null,\"text\":\"sudanese_photographers\",\"text_font_size\":\"10pt\",\"x\":0.42353803678979013,\"x_offset\":5,\"y\":-0.6520921705570749,\"y_offset\":5},\"id\":\"1496\",\"type\":\"Label\"},{\"attributes\":{\"coordinates\":null,\"group\":null,\"text\":\"\\u0627\\u0648\\u0643\\u0633\\u062c\\u064a\\u0646\\ud83c\\uddf8\\ud83c\\udde9\",\"text_font_size\":\"10pt\",\"x\":-0.8548514477137652,\"x_offset\":5,\"y\":-0.5133794007376954,\"y_offset\":5},\"id\":\"1485\",\"type\":\"Label\"},{\"attributes\":{\"coordinates\":null,\"group\":null,\"text\":\"sudancrisis\",\"text_font_size\":\"10pt\",\"x\":0.3730473483300877,\"x_offset\":5,\"y\":-0.7820969914629575,\"y_offset\":5},\"id\":\"1504\",\"type\":\"Label\"},{\"attributes\":{},\"id\":\"1557\",\"type\":\"AllLabels\"},{\"attributes\":{\"coordinates\":null,\"group\":null,\"text\":\"Life w/ Tai \\u2728\\u270a\\ud83c\\udffd\\ud83e\\uddd8\\ud83c\\udffd\\u200d\\u2640\\ufe0f\\ud83c\\udf31\\ud83c\\uddf8\\ud83c\\udde9 \\ud83e\\uddff instagram\",\"text_font_size\":\"10pt\",\"x\":0.8124901516042334,\"x_offset\":5,\"y\":-0.49378316059878813,\"y_offset\":5},\"id\":\"1501\",\"type\":\"Label\"},{\"attributes\":{},\"id\":\"1556\",\"type\":\"BasicTickFormatter\"},{\"attributes\":{\"bottom_units\":\"screen\",\"coordinates\":null,\"fill_alpha\":0.5,\"fill_color\":\"lightgrey\",\"group\":null,\"left_units\":\"screen\",\"level\":\"overlay\",\"line_alpha\":1.0,\"line_color\":\"black\",\"line_dash\":[4,4],\"line_width\":2,\"right_units\":\"screen\",\"syncable\":false,\"top_units\":\"screen\"},\"id\":\"1402\",\"type\":\"BoxAnnotation\"},{\"attributes\":{},\"id\":\"1554\",\"type\":\"AllLabels\"},{\"attributes\":{\"coordinates\":null,\"group\":null,\"text\":\"Reuters youtube\",\"text_font_size\":\"10pt\",\"x\":-0.5746626747238751,\"x_offset\":5,\"y\":-0.4073996807257094,\"y_offset\":5},\"id\":\"1505\",\"type\":\"Label\"},{\"attributes\":{},\"id\":\"1553\",\"type\":\"BasicTickFormatter\"},{\"attributes\":{\"coordinates\":null,\"group\":null,\"text\":\"\\u0627\\u0644\\u0633\\u0648\\u062f\\u0627\\u0646\",\"text_font_size\":\"10pt\",\"x\":0.5370048568092534,\"x_offset\":5,\"y\":-0.15369270055359271,\"y_offset\":5},\"id\":\"1508\",\"type\":\"Label\"},{\"attributes\":{\"callback\":null,\"renderers\":[{\"id\":\"1413\"}],\"tooltips\":[[\"node_type\",\"@node_type\"]]},\"id\":\"1462\",\"type\":\"HoverTool\"},{\"attributes\":{\"coordinates\":null,\"group\":null,\"text\":\"War_Mapper twitter\",\"text_font_size\":\"10pt\",\"x\":0.1808087079926238,\"x_offset\":5,\"y\":-0.3060367941754547,\"y_offset\":5},\"id\":\"1500\",\"type\":\"Label\"},{\"attributes\":{\"coordinates\":null,\"group\":null,\"text\":\"Military Chess24 instagram\",\"text_font_size\":\"10pt\",\"x\":0.4495036294936369,\"x_offset\":5,\"y\":0.9076500741232262,\"y_offset\":5},\"id\":\"1510\",\"type\":\"Label\"},{\"attributes\":{\"line_alpha\":{\"value\":0.8}},\"id\":\"1429\",\"type\":\"MultiLine\"},{\"attributes\":{\"axis\":{\"id\":\"1392\"},\"coordinates\":null,\"dimension\":1,\"group\":null,\"ticker\":null},\"id\":\"1395\",\"type\":\"Grid\"},{\"attributes\":{},\"id\":\"1397\",\"type\":\"WheelZoomTool\"},{\"attributes\":{\"coordinates\":null,\"group\":null,\"text\":\"\\u0627\\u063a\\u0627\\u0646\\u064a_\\u0633\\u0648\\u062f\\u0627\\u0646\\u064a\\u0647\",\"text_font_size\":\"10pt\",\"x\":-0.45932206713483253,\"x_offset\":5,\"y\":-0.804983758097829,\"y_offset\":5},\"id\":\"1483\",\"type\":\"Label\"}],\"root_ids\":[\"1377\"]},\"title\":\"Bokeh Application\",\"version\":\"2.4.3\"}};\n",
              "  const render_items = [{\"docid\":\"0d5d4cb6-d532-4e93-a37e-885fd3cf27fc\",\"root_ids\":[\"1377\"],\"roots\":{\"1377\":\"de4cfee2-f2e8-4cb7-98e9-e7b06bf11bd1\"}}];\n",
              "  root.Bokeh.embed.embed_items_notebook(docs_json, render_items);\n",
              "  }\n",
              "  if (root.Bokeh !== undefined) {\n",
              "    embed_document(root);\n",
              "  } else {\n",
              "    let attempts = 0;\n",
              "    const timer = setInterval(function(root) {\n",
              "      if (root.Bokeh !== undefined) {\n",
              "        clearInterval(timer);\n",
              "        embed_document(root);\n",
              "      } else {\n",
              "        attempts++;\n",
              "        if (attempts > 100) {\n",
              "          clearInterval(timer);\n",
              "          console.log(\"Bokeh: ERROR: Unable to run BokehJS code because BokehJS library is missing\");\n",
              "        }\n",
              "      }\n",
              "    }, 10, root)\n",
              "  }\n",
              "})(window);"
            ],
            "application/vnd.bokehjs_exec.v0+json": ""
          },
          "metadata": {
            "application/vnd.bokehjs_exec.v0+json": {
              "id": "1377"
            }
          },
          "output_type": "display_data"
        },
        {
          "data": {
            "text/html": [
              "<div style=\"display: table;\"><div style=\"display: table-row;\"><div style=\"display: table-cell;\"><b title=\"bokeh.plotting.figure.Figure\">Figure</b>(</div><div style=\"display: table-cell;\">id&nbsp;=&nbsp;'1377', <span id=\"1682\" style=\"cursor: pointer;\">&hellip;)</span></div></div><div class=\"1681\" style=\"display: none;\"><div style=\"display: table-cell;\"></div><div style=\"display: table-cell;\">above&nbsp;=&nbsp;[],</div></div><div class=\"1681\" style=\"display: none;\"><div style=\"display: table-cell;\"></div><div style=\"display: table-cell;\">align&nbsp;=&nbsp;'start',</div></div><div class=\"1681\" style=\"display: none;\"><div style=\"display: table-cell;\"></div><div style=\"display: table-cell;\">aspect_ratio&nbsp;=&nbsp;None,</div></div><div class=\"1681\" style=\"display: none;\"><div style=\"display: table-cell;\"></div><div style=\"display: table-cell;\">aspect_scale&nbsp;=&nbsp;1,</div></div><div class=\"1681\" style=\"display: none;\"><div style=\"display: table-cell;\"></div><div style=\"display: table-cell;\">background&nbsp;=&nbsp;None,</div></div><div class=\"1681\" style=\"display: none;\"><div style=\"display: table-cell;\"></div><div style=\"display: table-cell;\">background_fill_alpha&nbsp;=&nbsp;1.0,</div></div><div class=\"1681\" style=\"display: none;\"><div style=\"display: table-cell;\"></div><div style=\"display: table-cell;\">background_fill_color&nbsp;=&nbsp;'#ffffff',</div></div><div class=\"1681\" style=\"display: none;\"><div style=\"display: table-cell;\"></div><div style=\"display: table-cell;\">below&nbsp;=&nbsp;[LinearAxis(id='1388', ...)],</div></div><div class=\"1681\" style=\"display: none;\"><div style=\"display: table-cell;\"></div><div style=\"display: table-cell;\">border_fill_alpha&nbsp;=&nbsp;1.0,</div></div><div class=\"1681\" style=\"display: none;\"><div style=\"display: table-cell;\"></div><div style=\"display: table-cell;\">border_fill_color&nbsp;=&nbsp;'#ffffff',</div></div><div class=\"1681\" style=\"display: none;\"><div style=\"display: table-cell;\"></div><div style=\"display: table-cell;\">center&nbsp;=&nbsp;[Grid(id='1391', ...), Grid(id='1395', ...), Label(id='1470', ...), Label(id='1471', ...), Label(id='1472', ...), Label(id='1473', ...), Label(id='1474', ...), Label(id='1475', ...), Label(id='1476', ...), Label(id='1477', ...), Label(id='1478', ...), Label(id='1479', ...), Label(id='1480', ...), Label(id='1481', ...), Label(id='1482', ...), Label(id='1483', ...), Label(id='1484', ...), Label(id='1485', ...), Label(id='1486', ...), Label(id='1487', ...), Label(id='1488', ...), Label(id='1489', ...), Label(id='1490', ...), Label(id='1491', ...), Label(id='1492', ...), Label(id='1493', ...), Label(id='1494', ...), Label(id='1495', ...), Label(id='1496', ...), Label(id='1497', ...), Label(id='1498', ...), Label(id='1499', ...), Label(id='1500', ...), Label(id='1501', ...), Label(id='1502', ...), Label(id='1503', ...), Label(id='1504', ...), Label(id='1505', ...), Label(id='1506', ...), Label(id='1507', ...), Label(id='1508', ...), Label(id='1509', ...), Label(id='1510', ...), Label(id='1511', ...), Label(id='1512', ...), Label(id='1513', ...), Label(id='1514', ...), Label(id='1515', ...), Label(id='1516', ...), Label(id='1517', ...), Label(id='1518', ...), Label(id='1519', ...), Label(id='1520', ...), Label(id='1521', ...)],</div></div><div class=\"1681\" style=\"display: none;\"><div style=\"display: table-cell;\"></div><div style=\"display: table-cell;\">css_classes&nbsp;=&nbsp;[],</div></div><div class=\"1681\" style=\"display: none;\"><div style=\"display: table-cell;\"></div><div style=\"display: table-cell;\">disabled&nbsp;=&nbsp;False,</div></div><div class=\"1681\" style=\"display: none;\"><div style=\"display: table-cell;\"></div><div style=\"display: table-cell;\">extra_x_ranges&nbsp;=&nbsp;{},</div></div><div class=\"1681\" style=\"display: none;\"><div style=\"display: table-cell;\"></div><div style=\"display: table-cell;\">extra_x_scales&nbsp;=&nbsp;{},</div></div><div class=\"1681\" style=\"display: none;\"><div style=\"display: table-cell;\"></div><div style=\"display: table-cell;\">extra_y_ranges&nbsp;=&nbsp;{},</div></div><div class=\"1681\" style=\"display: none;\"><div style=\"display: table-cell;\"></div><div style=\"display: table-cell;\">extra_y_scales&nbsp;=&nbsp;{},</div></div><div class=\"1681\" style=\"display: none;\"><div style=\"display: table-cell;\"></div><div style=\"display: table-cell;\">frame_height&nbsp;=&nbsp;None,</div></div><div class=\"1681\" style=\"display: none;\"><div style=\"display: table-cell;\"></div><div style=\"display: table-cell;\">frame_width&nbsp;=&nbsp;None,</div></div><div class=\"1681\" style=\"display: none;\"><div style=\"display: table-cell;\"></div><div style=\"display: table-cell;\">height&nbsp;=&nbsp;800,</div></div><div class=\"1681\" style=\"display: none;\"><div style=\"display: table-cell;\"></div><div style=\"display: table-cell;\">height_policy&nbsp;=&nbsp;'auto',</div></div><div class=\"1681\" style=\"display: none;\"><div style=\"display: table-cell;\"></div><div style=\"display: table-cell;\">hidpi&nbsp;=&nbsp;True,</div></div><div class=\"1681\" style=\"display: none;\"><div style=\"display: table-cell;\"></div><div style=\"display: table-cell;\">inner_height&nbsp;=&nbsp;0,</div></div><div class=\"1681\" style=\"display: none;\"><div style=\"display: table-cell;\"></div><div style=\"display: table-cell;\">inner_width&nbsp;=&nbsp;0,</div></div><div class=\"1681\" style=\"display: none;\"><div style=\"display: table-cell;\"></div><div style=\"display: table-cell;\">js_event_callbacks&nbsp;=&nbsp;{},</div></div><div class=\"1681\" style=\"display: none;\"><div style=\"display: table-cell;\"></div><div style=\"display: table-cell;\">js_property_callbacks&nbsp;=&nbsp;{},</div></div><div class=\"1681\" style=\"display: none;\"><div style=\"display: table-cell;\"></div><div style=\"display: table-cell;\">left&nbsp;=&nbsp;[LinearAxis(id='1392', ...)],</div></div><div class=\"1681\" style=\"display: none;\"><div style=\"display: table-cell;\"></div><div style=\"display: table-cell;\">lod_factor&nbsp;=&nbsp;10,</div></div><div class=\"1681\" style=\"display: none;\"><div style=\"display: table-cell;\"></div><div style=\"display: table-cell;\">lod_interval&nbsp;=&nbsp;300,</div></div><div class=\"1681\" style=\"display: none;\"><div style=\"display: table-cell;\"></div><div style=\"display: table-cell;\">lod_threshold&nbsp;=&nbsp;2000,</div></div><div class=\"1681\" style=\"display: none;\"><div style=\"display: table-cell;\"></div><div style=\"display: table-cell;\">lod_timeout&nbsp;=&nbsp;500,</div></div><div class=\"1681\" style=\"display: none;\"><div style=\"display: table-cell;\"></div><div style=\"display: table-cell;\">margin&nbsp;=&nbsp;(0, 0, 0, 0),</div></div><div class=\"1681\" style=\"display: none;\"><div style=\"display: table-cell;\"></div><div style=\"display: table-cell;\">match_aspect&nbsp;=&nbsp;False,</div></div><div class=\"1681\" style=\"display: none;\"><div style=\"display: table-cell;\"></div><div style=\"display: table-cell;\">max_height&nbsp;=&nbsp;None,</div></div><div class=\"1681\" style=\"display: none;\"><div style=\"display: table-cell;\"></div><div style=\"display: table-cell;\">max_width&nbsp;=&nbsp;None,</div></div><div class=\"1681\" style=\"display: none;\"><div style=\"display: table-cell;\"></div><div style=\"display: table-cell;\">min_border&nbsp;=&nbsp;5,</div></div><div class=\"1681\" style=\"display: none;\"><div style=\"display: table-cell;\"></div><div style=\"display: table-cell;\">min_border_bottom&nbsp;=&nbsp;None,</div></div><div class=\"1681\" style=\"display: none;\"><div style=\"display: table-cell;\"></div><div style=\"display: table-cell;\">min_border_left&nbsp;=&nbsp;None,</div></div><div class=\"1681\" style=\"display: none;\"><div style=\"display: table-cell;\"></div><div style=\"display: table-cell;\">min_border_right&nbsp;=&nbsp;None,</div></div><div class=\"1681\" style=\"display: none;\"><div style=\"display: table-cell;\"></div><div style=\"display: table-cell;\">min_border_top&nbsp;=&nbsp;None,</div></div><div class=\"1681\" style=\"display: none;\"><div style=\"display: table-cell;\"></div><div style=\"display: table-cell;\">min_height&nbsp;=&nbsp;None,</div></div><div class=\"1681\" style=\"display: none;\"><div style=\"display: table-cell;\"></div><div style=\"display: table-cell;\">min_width&nbsp;=&nbsp;None,</div></div><div class=\"1681\" style=\"display: none;\"><div style=\"display: table-cell;\"></div><div style=\"display: table-cell;\">name&nbsp;=&nbsp;None,</div></div><div class=\"1681\" style=\"display: none;\"><div style=\"display: table-cell;\"></div><div style=\"display: table-cell;\">outer_height&nbsp;=&nbsp;0,</div></div><div class=\"1681\" style=\"display: none;\"><div style=\"display: table-cell;\"></div><div style=\"display: table-cell;\">outer_width&nbsp;=&nbsp;0,</div></div><div class=\"1681\" style=\"display: none;\"><div style=\"display: table-cell;\"></div><div style=\"display: table-cell;\">outline_line_alpha&nbsp;=&nbsp;1.0,</div></div><div class=\"1681\" style=\"display: none;\"><div style=\"display: table-cell;\"></div><div style=\"display: table-cell;\">outline_line_cap&nbsp;=&nbsp;'butt',</div></div><div class=\"1681\" style=\"display: none;\"><div style=\"display: table-cell;\"></div><div style=\"display: table-cell;\">outline_line_color&nbsp;=&nbsp;'#e5e5e5',</div></div><div class=\"1681\" style=\"display: none;\"><div style=\"display: table-cell;\"></div><div style=\"display: table-cell;\">outline_line_dash&nbsp;=&nbsp;[],</div></div><div class=\"1681\" style=\"display: none;\"><div style=\"display: table-cell;\"></div><div style=\"display: table-cell;\">outline_line_dash_offset&nbsp;=&nbsp;0,</div></div><div class=\"1681\" style=\"display: none;\"><div style=\"display: table-cell;\"></div><div style=\"display: table-cell;\">outline_line_join&nbsp;=&nbsp;'bevel',</div></div><div class=\"1681\" style=\"display: none;\"><div style=\"display: table-cell;\"></div><div style=\"display: table-cell;\">outline_line_width&nbsp;=&nbsp;1,</div></div><div class=\"1681\" style=\"display: none;\"><div style=\"display: table-cell;\"></div><div style=\"display: table-cell;\">output_backend&nbsp;=&nbsp;'canvas',</div></div><div class=\"1681\" style=\"display: none;\"><div style=\"display: table-cell;\"></div><div style=\"display: table-cell;\">renderers&nbsp;=&nbsp;[GraphRenderer(id='1410', ...)],</div></div><div class=\"1681\" style=\"display: none;\"><div style=\"display: table-cell;\"></div><div style=\"display: table-cell;\">reset_policy&nbsp;=&nbsp;'standard',</div></div><div class=\"1681\" style=\"display: none;\"><div style=\"display: table-cell;\"></div><div style=\"display: table-cell;\">right&nbsp;=&nbsp;[],</div></div><div class=\"1681\" style=\"display: none;\"><div style=\"display: table-cell;\"></div><div style=\"display: table-cell;\">sizing_mode&nbsp;=&nbsp;None,</div></div><div class=\"1681\" style=\"display: none;\"><div style=\"display: table-cell;\"></div><div style=\"display: table-cell;\">subscribed_events&nbsp;=&nbsp;[],</div></div><div class=\"1681\" style=\"display: none;\"><div style=\"display: table-cell;\"></div><div style=\"display: table-cell;\">syncable&nbsp;=&nbsp;True,</div></div><div class=\"1681\" style=\"display: none;\"><div style=\"display: table-cell;\"></div><div style=\"display: table-cell;\">tags&nbsp;=&nbsp;[],</div></div><div class=\"1681\" style=\"display: none;\"><div style=\"display: table-cell;\"></div><div style=\"display: table-cell;\">title&nbsp;=&nbsp;Title(id='1378', ...),</div></div><div class=\"1681\" style=\"display: none;\"><div style=\"display: table-cell;\"></div><div style=\"display: table-cell;\">title_location&nbsp;=&nbsp;'above',</div></div><div class=\"1681\" style=\"display: none;\"><div style=\"display: table-cell;\"></div><div style=\"display: table-cell;\">toolbar&nbsp;=&nbsp;Toolbar(id='1403', ...),</div></div><div class=\"1681\" style=\"display: none;\"><div style=\"display: table-cell;\"></div><div style=\"display: table-cell;\">toolbar_location&nbsp;=&nbsp;'right',</div></div><div class=\"1681\" style=\"display: none;\"><div style=\"display: table-cell;\"></div><div style=\"display: table-cell;\">toolbar_sticky&nbsp;=&nbsp;True,</div></div><div class=\"1681\" style=\"display: none;\"><div style=\"display: table-cell;\"></div><div style=\"display: table-cell;\">visible&nbsp;=&nbsp;True,</div></div><div class=\"1681\" style=\"display: none;\"><div style=\"display: table-cell;\"></div><div style=\"display: table-cell;\">width&nbsp;=&nbsp;800,</div></div><div class=\"1681\" style=\"display: none;\"><div style=\"display: table-cell;\"></div><div style=\"display: table-cell;\">width_policy&nbsp;=&nbsp;'auto',</div></div><div class=\"1681\" style=\"display: none;\"><div style=\"display: table-cell;\"></div><div style=\"display: table-cell;\">x_range&nbsp;=&nbsp;Range1d(id='1380', ...),</div></div><div class=\"1681\" style=\"display: none;\"><div style=\"display: table-cell;\"></div><div style=\"display: table-cell;\">x_scale&nbsp;=&nbsp;LinearScale(id='1384', ...),</div></div><div class=\"1681\" style=\"display: none;\"><div style=\"display: table-cell;\"></div><div style=\"display: table-cell;\">y_range&nbsp;=&nbsp;Range1d(id='1382', ...),</div></div><div class=\"1681\" style=\"display: none;\"><div style=\"display: table-cell;\"></div><div style=\"display: table-cell;\">y_scale&nbsp;=&nbsp;LinearScale(id='1386', ...))</div></div></div>\n",
              "<script>\n",
              "(function() {\n",
              "  let expanded = false;\n",
              "  const ellipsis = document.getElementById(\"1682\");\n",
              "  ellipsis.addEventListener(\"click\", function() {\n",
              "    const rows = document.getElementsByClassName(\"1681\");\n",
              "    for (let i = 0; i < rows.length; i++) {\n",
              "      const el = rows[i];\n",
              "      el.style.display = expanded ? \"none\" : \"table-row\";\n",
              "    }\n",
              "    ellipsis.innerHTML = expanded ? \"&hellip;)\" : \"&lsaquo;&lsaquo;&lsaquo;\";\n",
              "    expanded = !expanded;\n",
              "  });\n",
              "})();\n",
              "</script>\n"
            ],
            "text/plain": [
              "Figure(id='1377', ...)"
            ]
          },
          "execution_count": 11,
          "metadata": {},
          "output_type": "execute_result"
        }
      ],
      "source": [
        "# visualize\n",
        "df2.head(80).mp_plot.network(\n",
        "    source_col=\"source\",\n",
        "    target_col=\"target\",\n",
        "    # edge_attrs=[\"weight\"],\n",
        "    # source_attrs=['source_cat','source_datetime'],\n",
        "    # target_attrs=['target_cat','target_datetime'],\n",
        "    graph_type='digraph',\n",
        "    node_size=10,\n",
        "    k=1,\n",
        "    scale=5\n",
        ")"
      ]
    },
    {
      "cell_type": "markdown",
      "metadata": {
        "id": "GD3x0vDwLrzd"
      },
      "source": [
        "### Which network is larger?\n",
        "To understand the size of network, we can look at the number of nodes and edges within it. Larger networks tend to be more nodes and edges and is harder to analyze."
      ]
    },
    {
      "cell_type": "code",
      "execution_count": null,
      "metadata": {
        "colab": {
          "background_save": true,
          "base_uri": "https://localhost:8080/"
        },
        "id": "D4Wg4VUbFa-a",
        "outputId": "06e7199d-053f-4985-a1f4-2debf633ee1c"
      },
      "outputs": [
        {
          "name": "stdout",
          "output_type": "stream",
          "text": [
            "G1\n",
            "num of nodes 404\n",
            "num of edges 997\n"
          ]
        }
      ],
      "source": [
        "print('G1')\n",
        "print('num of nodes',G1.number_of_nodes())\n",
        "print('num of edges',G1.number_of_edges())"
      ]
    },
    {
      "cell_type": "code",
      "execution_count": null,
      "metadata": {
        "colab": {
          "background_save": true,
          "base_uri": "https://localhost:8080/"
        },
        "id": "VGRUCWTOlN1x",
        "outputId": "4c645018-9349-490e-f967-857d80047f3e"
      },
      "outputs": [
        {
          "name": "stdout",
          "output_type": "stream",
          "text": [
            "G2\n",
            "num of nodes 694\n",
            "num of edges 1728\n"
          ]
        }
      ],
      "source": [
        "print('G2')\n",
        "print('num of nodes',G2.number_of_nodes())\n",
        "print('num of edges',G2.number_of_edges())"
      ]
    },
    {
      "cell_type": "markdown",
      "metadata": {
        "id": "8FSpCpJyXLsm"
      },
      "source": [
        "## Is the network connected?\n",
        "A network is said to be connected if there is a path between every pair of nodes. If a network is not connected, it may have multiple sub-networks that are connected."
      ]
    },
    {
      "cell_type": "code",
      "execution_count": null,
      "metadata": {
        "colab": {
          "background_save": true,
          "base_uri": "https://localhost:8080/"
        },
        "id": "iPLtqKGSXk_-",
        "outputId": "68926b0e-5d07-4c61-e58f-97c24573d4d0"
      },
      "outputs": [
        {
          "name": "stdout",
          "output_type": "stream",
          "text": [
            "False\n"
          ]
        }
      ],
      "source": [
        "# the full network is connected\n",
        "print(nx.is_connected(G1.to_undirected()))"
      ]
    },
    {
      "cell_type": "code",
      "execution_count": null,
      "metadata": {
        "colab": {
          "base_uri": "https://localhost:8080/"
        },
        "id": "dCp95mOQX0l8",
        "outputId": "feefd978-93e9-424a-a55c-248a7f580150"
      },
      "outputs": [
        {
          "name": "stdout",
          "output_type": "stream",
          "text": [
            "False\n"
          ]
        }
      ],
      "source": [
        "# the sub network below is not connected\n",
        "sub_G=nx.from_pandas_edgelist(df1.head(80),source='source',target='target',edge_attr='weight',create_using=nx.DiGraph())\n",
        "print(nx.is_connected(sub_G.to_undirected()))"
      ]
    },
    {
      "cell_type": "markdown",
      "metadata": {
        "id": "b1UYbIepYT8i"
      },
      "source": [
        "![image.png](data:image/png;base64,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)"
      ]
    },
    {
      "cell_type": "code",
      "execution_count": null,
      "metadata": {
        "colab": {
          "base_uri": "https://localhost:8080/"
        },
        "id": "Yk9Nt8-XmGt9",
        "outputId": "a7687f6b-0a28-48ca-92c3-c0a638008ec7"
      },
      "outputs": [
        {
          "name": "stdout",
          "output_type": "stream",
          "text": [
            "True\n"
          ]
        }
      ],
      "source": [
        "print(nx.is_connected(G2.to_undirected()))"
      ]
    },
    {
      "cell_type": "code",
      "execution_count": null,
      "metadata": {
        "colab": {
          "base_uri": "https://localhost:8080/"
        },
        "id": "s-qBmB_8pdNs",
        "outputId": "cf1472c4-d657-4ecc-b333-5db01ef27afb"
      },
      "outputs": [
        {
          "name": "stdout",
          "output_type": "stream",
          "text": [
            "True\n"
          ]
        }
      ],
      "source": [
        "# the sub network below is connected\n",
        "sub_G=nx.from_pandas_edgelist(df2.head(80),source='source',target='target',edge_attr='weight',create_using=nx.DiGraph())\n",
        "print(nx.is_connected(sub_G.to_undirected()))"
      ]
    },
    {
      "cell_type": "markdown",
      "metadata": {
        "id": "s99wzgjGpttr"
      },
      "source": [
        "![image.png](data:image/png;base64,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)"
      ]
    },
    {
      "cell_type": "markdown",
      "metadata": {
        "id": "u1ZctiT4XLv2"
      },
      "source": [
        "## What are most connected users and hashtags?\n",
        "Degree is the number of edges connected to a node. Nodes with high degree are more connected and may have a greater influence on the network."
      ]
    },
    {
      "cell_type": "code",
      "execution_count": null,
      "metadata": {
        "colab": {
          "base_uri": "https://localhost:8080/"
        },
        "id": "5I4oeOtdXMeD",
        "outputId": "b0ff3dab-f71e-42e7-e127-931956abe541"
      },
      "outputs": [
        {
          "name": "stdout",
          "output_type": "stream",
          "text": [
            "G1\n",
            "Average degree: 4.02\n"
          ]
        }
      ],
      "source": [
        "# Compute the degree of each node\n",
        "print('G1')\n",
        "degrees1 = dict(G1.degree())\n",
        "\n",
        "# Compute the average degree\n",
        "avg_degree1 = sum(degrees1.values()) / len(degrees1)\n",
        "print(f\"Average degree: {avg_degree1:.2f}\")\n"
      ]
    },
    {
      "cell_type": "code",
      "execution_count": null,
      "metadata": {
        "colab": {
          "base_uri": "https://localhost:8080/"
        },
        "id": "CDYoh_1Ambt1",
        "outputId": "3f8e32f5-15a6-40af-e8e4-f4d2be1c76da"
      },
      "outputs": [
        {
          "name": "stdout",
          "output_type": "stream",
          "text": [
            "G2b42f6b558b1bb1e51165b6be53f5be622fef9f7d0b984c399327b8bbb4480de7\n",
            "Average degree: 4.98\n"
          ]
        }
      ],
      "source": [
        "# Compute the degree of each node\n",
        "print('G2b42f6b558b1bb1e51165b6be53f5be622fef9f7d0b984c399327b8bbb4480de7')\n",
        "degrees2 = dict(G2.degree())\n",
        "\n",
        "# Compute the average degree\n",
        "avg_degree2 = sum(degrees2.values()) / len(degrees2)\n",
        "print(f\"Average degree: {avg_degree2:.2f}\")\n"
      ]
    },
    {
      "cell_type": "code",
      "execution_count": null,
      "metadata": {
        "colab": {
          "base_uri": "https://localhost:8080/",
          "height": 410
        },
        "id": "gsjYEDzJ0EE8",
        "outputId": "8f4fb22e-cff0-4987-a6ae-bef0d0f182a9"
      },
      "outputs": [
        {
          "data": {
            "image/png": "[encoded data removed]",
            "text/plain": [
              "<Figure size 1000x400 with 2 Axes>"
            ]
          },
          "metadata": {},
          "output_type": "display_data"
        }
      ],
      "source": [
        "# Create a figure with two subplots\n",
        "fig, axs = plt.subplots(1, 2, figsize=(10, 4))\n",
        "\n",
        "# Plot the first histogram in the first subplot\n",
        "axs[0].hist(list(degrees1.values()))\n",
        "axs[0].set_title('Network 1 nodes degree distribution')\n",
        "axs[0].set_xlabel('Degree')\n",
        "axs[0].set_ylabel('Count')\n",
        "\n",
        "# Plot the second histogram in the second subplot\n",
        "axs[1].hist(list(degrees2.values()))\n",
        "axs[1].set_title('Network 2 nodes degree distribution')\n",
        "axs[1].set_xlabel('Degree')\n",
        "axs[1].set_ylabel('Count')\n",
        "\n",
        "# Display the figure\n",
        "plt.show()"
      ]
    },
    {
      "cell_type": "code",
      "execution_count": null,
      "metadata": {
        "colab": {
          "base_uri": "https://localhost:8080/"
        },
        "id": "JAAGUpPwXMg_",
        "outputId": "313f3a50-ac9c-48ca-981b-fcf6465ef1df"
      },
      "outputs": [
        {
          "name": "stdout",
          "output_type": "stream",
          "text": [
            "Top 20 users by degree:\n",
            "WION youtube: 13\n",
            "Reuters youtube: 11\n",
            "LoveWorld_Peopl twitter: 11\n",
            "Mighty African History facebook: 10\n",
            "African History  Group facebook: 10\n",
            "Firstpost youtube: 10\n",
            "The Telegraph instagram: 9\n",
            "Activist News Network youtube: 9\n",
            "CBC Toronto instagram: 9\n",
            "CBC News instagram: 9\n",
            "Discover Uganda youtube: 8\n",
            "Thee AFRIKANO instagram: 8\n",
            "Tim Garcia Lakambini instagram: 8\n",
            "The Christian Science Monitor instagram: 8\n",
            "𝕿𝖍𝖊 𝕯𝖆𝖎𝖑𝖞 𝕯𝖎𝖘𝖘𝖎𝖉𝖊𝖓𝖙 instagram: 8\n",
            "BYJU'S IAS youtube: 8\n",
            "BYJU'S IAS: Hindi youtube: 8\n",
            "VOA Africa instagram: 8\n",
            "Double Dutch instagram: 8\n",
            "Al Jazeera English youtube: 7\n"
          ]
        }
      ],
      "source": [
        "# Sort nodes by degree and print top 20 nodes with degree\n",
        "keywords = ['twitter', 'facebook', 'youtube', 'instagram']\n",
        "top_users = [k for k in sorted(degrees1, key=degrees1.get, reverse=True) if any(word in k.lower() for word in keywords)][:20]\n",
        "top_hashtags= [k for k in sorted(degrees1, key=degrees1.get, reverse=True) if not any(word in k.lower() for word in keywords)][:20]\n",
        "\n",
        "print(\"Top 20 users by degree:\")\n",
        "for node in top_users:\n",
        "    print(f\"{node}: {degrees1[node]}\")"
      ]
    },
    {
      "cell_type": "code",
      "execution_count": null,
      "metadata": {
        "colab": {
          "base_uri": "https://localhost:8080/"
        },
        "id": "_sA233MAqJuG",
        "outputId": "9ed95ab7-69dd-4bac-d73e-17cf2d7d4650"
      },
      "outputs": [
        {
          "name": "stdout",
          "output_type": "stream",
          "text": [
            "Top 20 hashtags by degree:\n",
            "#sudan: 167\n",
            "#khartoum: 38\n",
            "#sudancoup: 32\n",
            "#news: 28\n",
            "#sudancrisis: 26\n",
            "#rsf: 25\n",
            "#africa: 20\n",
            "#army: 13\n",
            "#sudanclashes: 12\n",
            "#coup: 12\n",
            "#sudanwar: 12\n",
            "#conflict: 11\n",
            "#russia: 11\n",
            "#sudannews: 10\n",
            "#civilwar: 9\n",
            "#ukraine: 9\n",
            "#war: 9\n",
            "#military: 8\n",
            "#sudanese: 8\n",
            "#sudanconflict: 8\n"
          ]
        }
      ],
      "source": [
        "print(\"Top 20 hashtags by degree:\")\n",
        "for node in top_hashtags:\n",
        "    print(f\"#{node}: {degrees1[node]}\")"
      ]
    },
    {
      "cell_type": "code",
      "execution_count": null,
      "metadata": {
        "colab": {
          "base_uri": "https://localhost:8080/"
        },
        "id": "48gaLrmIm7j2",
        "outputId": "45302325-a419-49c7-9146-c32e56857cb1"
      },
      "outputs": [
        {
          "name": "stdout",
          "output_type": "stream",
          "text": [
            "Top 20 users by degree:\n",
            "Sudanpreneur Hub سودانبرنور instagram: 38\n",
            "The Sudan Page 🇸🇩 instagram: 30\n",
            "شيخ الدمازين 🌀 instagram: 29\n",
            "الحاج بوب 🌀 instagram: 29\n",
            "اساحبي سودانيز instagram: 29\n",
            "يوميات عمك تنقو instagram: 29\n",
            "𝕥𝕔𝕙𝕒𝕕 𝕝𝕒𝕝𝕖𝕜𝕠𝕦 𝕠𝕗𝕗𝕚𝕔𝕚el instagram: 28\n",
            "Life w/ Tai ✨✊🏽🧘🏽‍♀️🌱🇸🇩 🧿 instagram: 25\n",
            "🍯 instagram: 25\n",
            "Sudani 🇸🇩 instagram: 22\n",
            "بلاك سودان | Black sd 🥷🖤📿🫦 instagram: 18\n",
            "𓂀عبودي ✈️ طيران𓁹 instagram: 13\n",
            "سودانيز أونلاين 99 instagram: 11\n",
            "Sudanese📽📷💙 instagram: 11\n",
            "عمك جلواك instagram: 10\n",
            "سودانيز كوميدي instagram: 10\n",
            "Global Conflicts Monitors youtube: 10\n",
            "The Gulf Today instagram: 9\n",
            "Reuters youtube: 8\n",
            "السنغل السوداني،💔💔 instagram: 8\n"
          ]
        }
      ],
      "source": [
        "# Sort nodes by degree and print top 20 nodes with degree\n",
        "keywords = ['twitter', 'facebook', 'youtube', 'instagram']\n",
        "top_users = [k for k in sorted(degrees2, key=degrees2.get, reverse=True) if any(word in k.lower() for word in keywords)][:20]\n",
        "top_hashtags= [k for k in sorted(degrees2, key=degrees2.get, reverse=True) if not any(word in k.lower() for word in keywords)][:20]\n",
        "\n",
        "print(\"Top 20 users by degree:\")\n",
        "for node in top_users:\n",
        "    print(f\"{node}: {degrees2[node]}\")"
      ]
    },
    {
      "cell_type": "code",
      "execution_count": null,
      "metadata": {
        "colab": {
          "base_uri": "https://localhost:8080/"
        },
        "id": "mMVcdGl8qVOc",
        "outputId": "4549d834-f433-4985-8d6f-bb650e71251a"
      },
      "outputs": [
        {
          "name": "stdout",
          "output_type": "stream",
          "text": [
            "Top 20 hashtags by degree:\n",
            "#sudan: 402\n",
            "#khartoum: 280\n",
            "#sudancrisis: 87\n",
            "#soudan: 43\n",
            "#السودان: 40\n",
            "#rsf: 37\n",
            "#keepeyesonsudan: 34\n",
            "#news: 33\n",
            "#الخرطوم: 32\n",
            "#sudanconflict: 29\n",
            "#africa: 27\n",
            "#war: 24\n",
            "#sudanese: 22\n",
            "#sudanrevolts: 21\n",
            "#sudanclashes: 20\n",
            "#egypt: 19\n",
            "#india: 18\n",
            "#conflict: 17\n",
            "#sudanuprising: 17\n",
            "#sudanese_shoutout: 17\n"
          ]
        }
      ],
      "source": [
        "print(\"Top 20 hashtags by degree:\")\n",
        "for node in top_hashtags:\n",
        "    print(f\"#{node}: {degrees2[node]}\")"
      ]
    },
    {
      "cell_type": "markdown",
      "metadata": {
        "id": "VvP0LxGSXL7V"
      },
      "source": [
        "## Identify influential nodes in a network\n",
        "Centrality is a measure of the importance of a node in the network.\n",
        "- **degree centrality**: the number of edges connected to a node (above)\n",
        "- **eigenvector centrality**: a measure of the node's influence on the network, higher, more influential"
      ]
    },
    {
      "cell_type": "markdown",
      "metadata": {
        "id": "BZz8qbksqx84"
      },
      "source": [
        "Degree centrality is a simple and straightforward measure of node importance, eigenvector centrality takes into account the importance of a node's neighbors and can reveal more about the overall structure of a network."
      ]
    },
    {
      "cell_type": "code",
      "execution_count": null,
      "metadata": {
        "colab": {
          "base_uri": "https://localhost:8080/"
        },
        "id": "hAMoCTCgaMbj",
        "outputId": "da8fc4dc-ff27-4905-d590-563ea258fb45"
      },
      "outputs": [
        {
          "name": "stdout",
          "output_type": "stream",
          "text": [
            "Top 20 users by centrality:\n",
            "https://www.youtube.com/watch?v=c6wpcsplyVI: 0.005426415724617726\n",
            "https://www.youtube.com/channel/UCilapekX-cPB-qm28rJqrLw: 0.005426415724617726\n",
            "Sanyiikoo_Oromo twitter: 7.33299422245639e-05\n",
            "ABC News youtube: 7.33299422245639e-05\n",
            "GeoPol 10s youtube: 7.33299422245639e-05\n",
            "My Views On News youtube: 7.33299422245639e-05\n",
            "NBC News youtube: 7.33299422245639e-05\n",
            "CBC News: The National youtube: 7.33299422245639e-05\n",
            "Pakilinks News youtube: 7.33299422245639e-05\n",
            "WION youtube: 7.33299422245639e-05\n",
            "K24 TV facebook: 7.33299422245639e-05\n",
            "socialistworker twitter: 7.33299422245639e-05\n",
            "euronews (en français) youtube: 7.33299422245639e-05\n",
            "ProperGaanda instagram: 7.33299422245639e-05\n",
            "Al Jazeera English youtube: 7.33299422245639e-05\n",
            "Terror_Alarm twitter: 7.33299422245639e-05\n",
            "AUSTROHNGARO2 twitter: 7.33299422245639e-05\n",
            "KramarenkoMari3 twitter: 7.33299422245639e-05\n",
            "The Telegraph instagram: 7.33299422245639e-05\n",
            "TurkiyeUrdu_ twitter: 7.33299422245639e-05\n"
          ]
        }
      ],
      "source": [
        "# calculate eigenvector centrality\n",
        "eig_centrality1 = nx.eigenvector_centrality(G1, max_iter=3000)\n",
        "\n",
        "keywords = ['twitter', 'facebook', 'youtube', 'instagram']\n",
        "top_users = [k for k in sorted(eig_centrality1, key=eig_centrality1.get, reverse=True) if any(word in k.lower() for word in keywords)][:20]\n",
        "top_hashtags= [k for k in sorted(eig_centrality1, key=eig_centrality1.get, reverse=True) if not any(word in k.lower() for word in keywords)][:20]\n",
        "print(\"Top 20 users by centrality:\")\n",
        "for node in top_users:\n",
        "    print(f\"{node}: {eig_centrality1[node]}\")\n"
      ]
    },
    {
      "cell_type": "code",
      "execution_count": null,
      "metadata": {
        "colab": {
          "base_uri": "https://localhost:8080/"
        },
        "id": "2c1t9L4brYvP",
        "outputId": "cdacd811-7da6-4ed2-e4dc-ad5a06e939dd"
      },
      "outputs": [
        {
          "name": "stdout",
          "output_type": "stream",
          "text": [
            "Top 20 hashtags by centrality:\n",
            "sudan: 0.8940386556019375\n",
            "khartoum: 0.20349058967316147\n",
            "sudancoup: 0.171372074978803\n",
            "news: 0.1499597318492307\n",
            "sudancrisis: 0.13925356028444455\n",
            "rsf: 0.1339004745020515\n",
            "africa: 0.1071350455900876\n",
            "army: 0.06966344511333558\n",
            "sudanclashes: 0.06431035933094238\n",
            "coup: 0.06431035933094238\n",
            "sudanwar: 0.06431035933094238\n",
            "conflict: 0.05895727354854958\n",
            "russia: 0.05895727354854958\n",
            "sudannews: 0.053604187766156365\n",
            "civilwar: 0.048251101983763194\n",
            "ukraine: 0.048251101983763194\n",
            "war: 0.048251101983763194\n",
            "military: 0.042898016201370015\n",
            "sudanese: 0.042898016201370015\n",
            "sudanconflict: 0.042898016201370015\n"
          ]
        }
      ],
      "source": [
        "print(\"Top 20 hashtags by centrality:\")\n",
        "for node in top_hashtags:\n",
        "    print(f\"{node}: {eig_centrality1[node]}\")"
      ]
    },
    {
      "cell_type": "code",
      "execution_count": null,
      "metadata": {
        "colab": {
          "base_uri": "https://localhost:8080/"
        },
        "id": "doY-jTAWnEpM",
        "outputId": "d8218bd6-4b3b-4d95-bd3c-ea394835bf38"
      },
      "outputs": [
        {
          "name": "stdout",
          "output_type": "stream",
          "text": [
            "Top 20 users by centrality:\n",
            "VOA Indonesia facebook: 4.310412843016281e-05\n",
            "The Sun youtube: 4.310412843016281e-05\n",
            "Eagle News instagram: 4.310412843016281e-05\n",
            "Sudani 🇸🇩 instagram: 4.310412843016281e-05\n",
            "War_Mapper twitter: 4.310412843016281e-05\n",
            "Life w/ Tai ✨✊🏽🧘🏽‍♀️🌱🇸🇩 🧿 instagram: 4.310412843016281e-05\n",
            "Reuters youtube: 4.310412843016281e-05\n",
            "قناة الغد Alghad TV instagram: 4.310412843016281e-05\n",
            "Free Malaysia Today (FMT News) instagram: 4.310412843016281e-05\n",
            "Military Chess24 instagram: 4.310412843016281e-05\n",
            "بلاك سودان | Black sd 🥷🖤📿🫦 instagram: 4.310412843016281e-05\n",
            "𓂀عبودي ✈️ طيران𓁹 instagram: 4.310412843016281e-05\n",
            "Sinar Harian instagram: 4.310412843016281e-05\n",
            "السنغل السوداني،💔💔 instagram: 4.310412843016281e-05\n",
            "BBC News Swahili instagram: 4.310412843016281e-05\n",
            "BBC Swahili facebook: 4.310412843016281e-05\n",
            "My Views On News youtube: 4.310412843016281e-05\n",
            "Ayman_makarem twitter: 4.310412843016281e-05\n",
            "Jawa Pos instagram: 4.310412843016281e-05\n",
            "NDTV instagram: 4.310412843016281e-05\n"
          ]
        }
      ],
      "source": [
        "# calculate eigenvector centrality\n",
        "eig_centrality2 = nx.eigenvector_centrality(G2, max_iter=3000)\n",
        "\n",
        "\n",
        "keywords = ['twitter', 'facebook', 'youtube', 'instagram']\n",
        "top_users = [k for k in sorted(eig_centrality2, key=eig_centrality2.get, reverse=True) if any(word in k.lower() for word in keywords)][:20]\n",
        "top_hashtags= [k for k in sorted(eig_centrality2, key=eig_centrality2.get, reverse=True) if not any(word in k.lower() for word in keywords)][:20]\n",
        "print(\"Top 20 users by centrality:\")\n",
        "for node in top_users:\n",
        "    print(f\"{node}: {eig_centrality2[node]}\")\n"
      ]
    },
    {
      "cell_type": "code",
      "execution_count": null,
      "metadata": {
        "colab": {
          "base_uri": "https://localhost:8080/"
        },
        "id": "Q1Lmf1Borm57",
        "outputId": "02fe01e8-3003-4eb3-a00b-5b318b581789"
      },
      "outputs": [
        {
          "name": "stdout",
          "output_type": "stream",
          "text": [
            "Top 20 hashtags by centrality:\n",
            "sudan: 0.7797967874300834\n",
            "khartoum: 0.5431551223484871\n",
            "sudancrisis: 0.1687957669325185\n",
            "soudan: 0.08344959264079589\n",
            "السودان: 0.07763053530272389\n",
            "rsf: 0.07181147796465184\n",
            "keepeyesonsudan: 0.06599242062657981\n",
            "news: 0.06405273484722246\n",
            "الخرطوم: 0.06211304906786498\n",
            "sudanconflict: 0.056293991729792575\n",
            "africa: 0.05241462017107791\n",
            "war: 0.04659556283300597\n",
            "sudanese: 0.042716191274291306\n",
            "sudanrevolts: 0.04077650549493397\n",
            "sudanclashes: 0.03883681971557664\n",
            "egypt: 0.03689713393621933\n",
            "india: 0.034957448156862005\n",
            "conflict: 0.03301776237750468\n",
            "sudanuprising: 0.03301776237750468\n",
            "sudanese_shoutout: 0.03301776237750468\n"
          ]
        }
      ],
      "source": [
        "print(\"Top 20 hashtags by centrality:\")\n",
        "for node in top_hashtags:\n",
        "    print(f\"{node}: {eig_centrality2[node]}\")"
      ]
    },
    {
      "cell_type": "markdown",
      "metadata": {
        "id": "k_pkGtUheWiR"
      },
      "source": [
        "## Which network is more dense?\n",
        "density range: (0,1] <br>\n",
        "Networks with high density tend to have a tightly knit community structure, with many connections between nodes, and a higher potential for information to be transmitted efficiently across the network."
      ]
    },
    {
      "cell_type": "code",
      "execution_count": null,
      "metadata": {
        "colab": {
          "base_uri": "https://localhost:8080/"
        },
        "id": "zAQVCQliaMhp",
        "outputId": "8e5cf94b-25ac-4d0f-ede6-cdc800824930"
      },
      "outputs": [
        {
          "data": {
            "text/plain": [
              "0.006088071042753823"
            ]
          },
          "execution_count": 57,
          "metadata": {},
          "output_type": "execute_result"
        }
      ],
      "source": [
        "nx.density(G1)"
      ]
    },
    {
      "cell_type": "code",
      "execution_count": null,
      "metadata": {
        "colab": {
          "base_uri": "https://localhost:8080/"
        },
        "id": "iloLpaLrnJ8_",
        "outputId": "13e79c83-e46f-4d4c-aa5c-0f2b20963b9c"
      },
      "outputs": [
        {
          "data": {
            "text/plain": [
              "0.0035929488379056102"
            ]
          },
          "execution_count": 58,
          "metadata": {},
          "output_type": "execute_result"
        }
      ],
      "source": [
        "nx.density(G2)"
      ]
    },
    {
      "cell_type": "markdown",
      "metadata": {
        "id": "LpTM68_tfoEM"
      },
      "source": [
        "## What's the connecting pattern between nodes?\n",
        "Assortativity range: [-1,1] <br>\n",
        "- **Positive** value indicates that nodes with high degree tend to be connected to other nodes with high degree, nodes with low degree tend to be connected to other nodes with low degree.\n",
        "- **Negative** value indicates the opposite.\n",
        "- **Zero** indicates no correlation between the degrees of connected nodes."
      ]
    },
    {
      "cell_type": "code",
      "execution_count": null,
      "metadata": {
        "colab": {
          "base_uri": "https://localhost:8080/"
        },
        "id": "WPoZHOGBaMlA",
        "outputId": "b3229694-24d1-4167-ef40-1999a08a5d05"
      },
      "outputs": [
        {
          "data": {
            "text/plain": [
              "-0.29689027839704246"
            ]
          },
          "execution_count": 59,
          "metadata": {},
          "output_type": "execute_result"
        }
      ],
      "source": [
        "nx.degree_assortativity_coefficient(G1)"
      ]
    },
    {
      "cell_type": "code",
      "execution_count": null,
      "metadata": {
        "colab": {
          "base_uri": "https://localhost:8080/"
        },
        "id": "WeFpcky3nN6m",
        "outputId": "35baa22e-3808-43f8-e998-e87b33467406"
      },
      "outputs": [
        {
          "data": {
            "text/plain": [
              "-0.3898400919459243"
            ]
          },
          "execution_count": 60,
          "metadata": {},
          "output_type": "execute_result"
        }
      ],
      "source": [
        "nx.degree_assortativity_coefficient(G2)"
      ]
    },
    {
      "cell_type": "markdown",
      "metadata": {
        "id": "WzWgeqTQhq8W"
      },
      "source": [
        "low degree nodes tend to connect to high degree nodes<br>\n",
        "user (low degree nodes) -> hashtags (high degree nodes)"
      ]
    },
    {
      "cell_type": "markdown",
      "metadata": {
        "id": "Ufojr2_lgrmL"
      },
      "source": [
        "## Are there clusters within a network?\n",
        "The clustering coefficient is a measure of **modularity** of the network. <br>\n",
        "**High** clustering coefficient means that nodes in the network tend to form tightly interconnected clusters. <br>\n",
        "**Low** clustering coefficient means that the network is more sparse and nodes are less tightly interconnected."
      ]
    },
    {
      "cell_type": "code",
      "execution_count": null,
      "metadata": {
        "colab": {
          "base_uri": "https://localhost:8080/"
        },
        "id": "eo5YQgExg9wm",
        "outputId": "0707c13b-a769-4141-f2c8-d8635df5fa7e"
      },
      "outputs": [
        {
          "name": "stdout",
          "output_type": "stream",
          "text": [
            "Sanyiikoo_Oromo twitter: 0\n",
            "sudan: 0\n",
            "ethiopia: 0\n",
            "ABC News youtube: 0\n",
            "military: 0\n"
          ]
        }
      ],
      "source": [
        "nodes_clustering_coeff = sorted(nx.clustering(G1), key=nx.clustering(G1).get, reverse=True)[:5]\n",
        "for node in nodes_clustering_coeff:\n",
        "    print(f\"{node}: {nx.clustering(G1)[node]}\")"
      ]
    },
    {
      "cell_type": "code",
      "execution_count": null,
      "metadata": {
        "colab": {
          "base_uri": "https://localhost:8080/"
        },
        "id": "Djm2_VkuaMoh",
        "outputId": "eed6d01a-f607-4a51-bf6d-85e5b9608547"
      },
      "outputs": [
        {
          "name": "stdout",
          "output_type": "stream",
          "text": [
            "Average clustering coefficient: 0.0\n"
          ]
        }
      ],
      "source": [
        "avg_cc = nx.average_clustering(G1)\n",
        "print(\"Average clustering coefficient:\", avg_cc)"
      ]
    },
    {
      "cell_type": "code",
      "execution_count": null,
      "metadata": {
        "colab": {
          "base_uri": "https://localhost:8080/"
        },
        "id": "pi7VQsrTnUwu",
        "outputId": "4c70278f-2424-4bcd-9b7d-511c2a3cc67d"
      },
      "outputs": [
        {
          "name": "stdout",
          "output_type": "stream",
          "text": [
            "VOA Indonesia facebook: 0\n",
            "sudan: 0\n",
            "rsf: 0\n",
            "The Sun youtube: 0\n",
            "africa: 0\n"
          ]
        }
      ],
      "source": [
        "nodes_clustering_coeff = sorted(nx.clustering(G2), key=nx.clustering(G2).get, reverse=True)[:5]\n",
        "for node in nodes_clustering_coeff:\n",
        "    print(f\"{node}: {nx.clustering(G2)[node]}\")"
      ]
    },
    {
      "cell_type": "code",
      "execution_count": null,
      "metadata": {
        "colab": {
          "base_uri": "https://localhost:8080/"
        },
        "id": "uaD_vQzvnZPK",
        "outputId": "84b3b4d1-9e91-41bf-98c0-a959235abf12"
      },
      "outputs": [
        {
          "name": "stdout",
          "output_type": "stream",
          "text": [
            "Average clustering coefficient: 0.0\n"
          ]
        }
      ],
      "source": [
        "avg_cc = nx.average_clustering(G2)\n",
        "print(\"Average clustering coefficient:\", avg_cc)"
      ]
    },
    {
      "cell_type": "markdown",
      "metadata": {
        "id": "FQNwLMTxgyhc"
      },
      "source": [
        "A clustering coefficient of 0 means that none of the nodes in the network have any mutual connections. It's the property of network: user does not connect to user, hashtag does not connect to hashtag. only user -> hashtag"
      ]
    },
    {
      "cell_type": "code",
      "source": [],
      "metadata": {
        "id": "EMDRW1bZzwck"
      },
      "execution_count": null,
      "outputs": []
    },
    {
      "cell_type": "markdown",
      "metadata": {
        "id": "mtqDmikejBTL"
      },
      "source": [
        "## How to detect communities within a network?\n",
        "**Community detection:** Put more interconnected nodes to the same community. We experiment two algorithms<br>\n",
        "- [Girvan-Newman algorithm](https://networkx.org/documentation/stable/reference/algorithms/generated/networkx.algorithms.community.centrality.girvan_newman.html#girvan-newman): hierarchical clustering on the network G. Very slow on large networks. The algorithm iteratively removes edges from the network to identify communities of nodes that are more densely connected to each other than to the rest of the network.\n",
        "- [Louvain algorithm](https://networkx.org/documentation/stable/reference/algorithms/generated/networkx.algorithms.community.louvain.louvain_communities.html#networkx.algorithms.community.louvain.louvain_communities): simple method to extract the community structure of a network. This is a heuristic method based on modularity optimization.\n",
        "- Spectral clustering: This algorithm applies eigenvalue decomposition on the Laplacian of the adjacency matrix of the graph. The main idea is to project the nodes in a lower-dimensional space that retain the most significant relational characteristics of the nodes, and then cluster nodes in this new space (e.g. Kmeans). This algorithm does not require the graph to be connected, and can identify irregularly shaped clusters. But the choice of the number of clusters need to be defined by user, and it is computationally intensive for very large graphs.\n",
        "- [Difference between Girvan-Newman and Louvain algorithm](https://medium.com/smucs/girvan-newman-v-louvain-for-community-detection-33988baab55b) between those two algorithms\n"
      ]
    },
    {
      "cell_type": "code",
      "execution_count": null,
      "metadata": {
        "colab": {
          "base_uri": "https://localhost:8080/"
        },
        "id": "LDW2Hg_etXs9",
        "outputId": "6fed96b6-1ef5-4368-b83d-62ff193900bd"
      },
      "outputs": [
        {
          "name": "stdout",
          "output_type": "stream",
          "text": [
            "219\n",
            "['euronews youtube', 'jsrailton twitter', 'ForumIAS Official youtube', 'outsukenoshinyu twitter', 'KyleWOrton twitter', \"BYJU'S IAS youtube\", 'The New Africa Channel youtube', 'WION youtube', 'The Guardian instagram', '𝕿𝖍𝖊 𝕯𝖆𝖎𝖑𝖞 𝕯𝖎𝖘𝖘𝖎𝖉𝖊𝖓𝖙 instagram']\n",
            "3\n",
            "['ethiopia', 'Sanyiikoo_Oromo twitter', 'ermias_123 twitter']\n",
            "4\n",
            "['K24 TV facebook', 'newdawn', 'k24siasa', 'k24tv']\n",
            "16\n",
            "['OmanObserver twitter', 'AnonOpsSE twitter', '9ineblues twitter', 'Eduardo_AI1917 twitter', 'Oman Observer facebook', 'ActuallyHager twitter', 'NatyYifru twitter', 'sudancoup', 'BMB1_Official twitter', 'HortenciaFranc0 twitter']\n",
            "3\n",
            "['MiddleEastMnt twitter', 'https://www.middleeastmonitor.com/20230417-sudan-rsf-rebels-detain-egyptian-soldiers-as-they-take-airport-during-coup/', 'https://www.middleeastmonitor.com/20230420-uae-behind-rsfs-attempted-coup-in-sudan-leaked-recording-says/']\n",
            "6\n",
            "['Courrier international youtube', 'FRANCE 24 youtube', 'franceinfo youtube', 'RFI youtube', 'CACTUS DS youtube', 'soudan']\n",
            "2\n",
            "['Middle East Monitor instagram', 'sudan:']\n",
            "3\n",
            "['https://www.standardmedia.co.ke/africa/article/2001471106/what-sparked-the-violent-struggle-to-control-sudans-future', 'StandardKenya twitter', 'KTNNewsKE twitter']\n",
            "2\n",
            "['newsworthywithab', 'Anubha Bhonsle | Journalist instagram']\n",
            "2\n",
            "['urgent', 'FasoVox facebook']\n",
            "10\n",
            "['https://www.youtube.com/watch?v=c6wpcsplyVI', 'guinea', 'African History  Group facebook', 'beautifulafrica', 'Mighty African History facebook', 'galdeediaries', 'congo', 'https://youtu.be/c6wpcsplyVI', 'uganda', 'burkinafaso']\n",
            "3\n",
            "['Euromaidan Press facebook', 'https://t.me/ukrpravda_news', 'EuromaidanPress twitter']\n",
            "2\n",
            "['breaking', 'clashreport twitter']\n",
            "2\n",
            "['bomboradyoiloilo', 'Bombo Radyo Iloilo facebook']\n",
            "3\n",
            "['خمسينة اقتصاد youtube', '6666cv twitter', 'السودان']\n",
            "2\n",
            "['لا_للحرب', 'Sudanese Translators for Change STC facebook']\n",
            "5\n",
            "['http://I.R.Expert', 'dunyakay7', 'https://youtu.be/5N_e9C-zR1k', 'PTVNewsOfficial twitter', 'sudan_update']\n",
            "2\n",
            "['sudancoup_atrocious', 'Halayalkarib twitter']\n",
            "3\n",
            "['keepeyesonsudan', 'fatinabbas twitter', 'Moh_Gamea twitter']\n",
            "2\n",
            "['declanwalsh twitter', 'https://www.nytimes.com/2023/04/19/world/africa/sudan-war-army-paramilitary.html?smid=tw-share']\n",
            "3\n",
            "['AliBakeer twitter', 'libya', 'syria']\n",
            "10\n",
            "['londonont', 'cbcnews', 'CBC Toronto instagram', 'ontario', 'cbc', 'Krommsan twitter', 'toronto', 'family', 'canada', 'CBC News instagram']\n",
            "3\n",
            "['https://www.thegatewaypundit.com/2023/04/breaking-another-biden-disaster-us-residents-stranded-in-sudan-after-failed-coup-attempt-too-late-for-evacuations/?utm_source=rss&utm_medium=rss&utm_campaign=breaking-another-biden-disaster-us-residents-stranded-in-sudan-after-failed-coup-attempt-too-late-for-evacuations', 'Kc_Casey1 twitter', 'gatewaypundit twitter']\n",
            "3\n",
            "['darfur', 'RonanLTynan twitter', 'Wikipedia instagram']\n",
            "2\n",
            "['https://www.youtube.com/channel/UCilapekX-cPB-qm28rJqrLw', 'Morefile Travel facebook']\n",
            "2\n",
            "['ReadeAlexandra twitter', 'https://youtu.be/L8m__gu-V-I']\n",
            "2\n",
            "['voanews', 'Voice of America youtube']\n",
            "12\n",
            "['thomascmountain twitter', 'Forbidden News  facebook', 'https://rumble.com/v2jnqvy-sudans-fight-to-the-finish-general-burhan-is-the-cias-henchman-in-sudan-tho.html', 'GUnderground_TV twitter', 'CRUX youtube', 'afshinrattansi twitter', 'sudanwar', 'sudan🇸🇩', 'News18 Assam/Northeast youtube', 'Going Underground facebook']\n"
          ]
        }
      ],
      "source": [
        "# louvain_communities vs girvan_newman_communities\n",
        "# comparison: https://medium.com/smucs/girvan-newman-v-louvain-for-community-detection-33988baab55b\n",
        "\n",
        "# community detection with louvain (fast)\n",
        "for i in nx.community.louvain_communities(G1, seed=1, resolution=0.001):\n",
        "  print(len(i))\n",
        "  print(list(i)[:10])\n",
        "\n"
      ]
    },
    {
      "cell_type": "code",
      "execution_count": null,
      "metadata": {
        "colab": {
          "base_uri": "https://localhost:8080/"
        },
        "id": "5qqVyn6X5cSn",
        "outputId": "d53e533c-e2d1-4a4e-d671-8afad72380ea"
      },
      "outputs": [
        {
          "name": "stdout",
          "output_type": "stream",
          "text": [
            "300\n",
            "[\"BYJU'S IAS youtube\", 'The Gulf Today instagram', 'YAKAM Dudes facebook', 'BBC News Indonesia instagram', 'YouSay Telugu instagram', 'ActuNiger facebook', 'BBC News Swahili instagram', 'The Guardian instagram', 'KhaledBeydoun twitter', 'ARY News instagram']\n",
            "17\n",
            "['hxji99 twitter', 'qoga12 twitter', 'mohammeduppsala twitter', 'BSonblast twitter', 'keepeyesonsudan', 'Blak-Ram instagram', 'Ana Sudani / أنا سوداني 🇸🇩 instagram', 'oxdamoe twitter', 'Moh_Gamea twitter', 'AqssssSelin twitter']\n",
            "127\n",
            "['Guardian Nigeria facebook', 'EtatMajorFR twitter', '9klid twitter', 'KoikiMedia twitter', 'Mazin Urso - مازن أورسو facebook', 'Forces Aériennes facebook', 'jeremieblin twitter', 'Tigray Media \"ትግራይ ሚድያ\" facebook', 'PeterAuweraert twitter', 'xelmahdi twitter']\n",
            "6\n",
            "['Hamzah Yazid Attamimi instagram', 'Arewa Tuwita instagram', 'World Relief Memphis instagram', 'prayforsudan', 'World Relief instagram', 'Mounir_HK twitter']\n",
            "47\n",
            "['NU_B_YA twitter', 'SAMBAD instagram', 'BBC News Marathi instagram', 'TheRitamApp twitter', 'simonateba twitter', 'Moneycontrol Hindi instagram', 'Arab News facebook', 'Phoenix TV 鳳凰衛視 facebook', 'rejitweets twitter', 'DhakaTribune instagram']\n",
            "6\n",
            "['BHOJPURI NEW VIDEO facebook', 'IDN Times NTB instagram', 'Jawa Pos instagram', 'viral', 'IDN Times instagram', 'Kaltim Post instagram']\n",
            "4\n",
            "['aidastweetss twitter', 'samsomati123 twitter', 'Aminmusaad_ twitter', 'أحداث_السودان']\n",
            "60\n",
            "['Al Mayadeen English instagram', 'هنا_السودان', 'Life w/ Tai ✨✊🏽🧘🏽\\u200d♀️🌱🇸🇩 🧿 instagram', 'تسقط_بس', 'lamthesudanrevolution', 'Derya Türk-Nachbaur instagram', 'عمك جلواك instagram', '𓂀عبودي ✈️ طيران𓁹 instagram', 'iamthesudanrevolution', 'sudanrevolts']\n",
            "5\n",
            "['Sudanese American Physicians Association - SAPA facebook', 'Umar Gombe instagram', \"Di'Ja 🇳🇬🇸🇱🇳🇬🇸🇱 instagram\", 'TeachAfricatoday instagram', 'repost']\n",
            "34\n",
            "['tcabarrus twitter', 'VOA Afrique instagram', 'bbcnewsafrique instagram', 'RFI facebook', 'Le quatrième pouvoir facebook', 'FranceauSoudan twitter', 'SpecsOpsCenter twitter', \"Le Journal de l'Afrique - France 24 facebook\", 'Le360 instagram', 'Ici Beyrouth instagram']\n",
            "16\n",
            "['AnonOpsSE twitter', '9ineblues twitter', 'BBC News Telugu facebook', 'topchand.com instagram', 'WIONews twitter', 'BBC URDU facebook', 'sudanconflict', 'chris__759 twitter', 'palkisu twitter', 'rashaomer__ twitter']\n",
            "9\n",
            "['ELINTNews twitter', 'clashreport twitter', 'WarMonitors twitter', 'புதிய தலைமுறை facebook', 'breaking', 'Puthiya Thalaimurai Tv instagram', 'JimLaPorta twitter', 'mahmouedgamal44 twitter', 'Worldsource24 twitter']\n",
            "26\n",
            "['Twins facebook', 'Bank of Khartoum facebook', 'Samir Bol youtube', 'تجمع المهندسين السودانيين facebook', 'السودان', 'أنت_أولاً', 'CNN Business Arabic | الاقتصادية CNN instagram', 'لوشي المبارك - Looshi El-Mubarak facebook', 'قناة كسلا في الوجدان facebook', 'التلفزيون العربي Alaraby TV instagram']\n",
            "6\n",
            "['itsolaaaa twitter', 'sudan_updates', 'yusrahassan07 twitter', 'Women of Sudan instagram', 'SudanzUprising twitter', 'nubianomad twitter']\n",
            "2\n",
            "['arab', 'Masth Magaa youtube']\n",
            "29\n",
            "['cotedivoire', 'yaounde', 'soudain', 'tchad_lalekou', 'fashionstyle', 'italy', 'beauty', 'Channels Television youtube', 'lomé', '𝕥𝕔𝕙𝕒𝕕 𝕝𝕒𝕝𝕖𝕜𝕠𝕦 𝕠𝕗𝕗𝕚𝕔𝕚el instagram']\n"
          ]
        }
      ],
      "source": [
        "# community detection with louvain (fast)\n",
        "for i in nx.community.louvain_communities(G2, seed=42, resolution=0.001):\n",
        "  print(len(i))\n",
        "  print(list(i)[:10])"
      ]
    },
    {
      "cell_type": "code",
      "execution_count": null,
      "metadata": {
        "colab": {
          "base_uri": "https://localhost:8080/"
        },
        "id": "GLpZMxVgiroo",
        "outputId": "9c1feb04-49d3-4536-ebfe-8152e6edf416"
      },
      "outputs": [
        {
          "name": "stdout",
          "output_type": "stream",
          "text": [
            "num of communities 10\n",
            "305\n",
            "4\n",
            "2\n",
            "3\n",
            "2\n",
            "3\n",
            "2\n",
            "5\n",
            "3\n",
            "2\n",
            "['2a',\n",
            " '4Aviation flightline facebook',\n",
            " '6666cv twitter',\n",
            " '9ineblues twitter',\n",
            " 'ABC News youtube',\n",
            " 'ABPLIVE youtube',\n",
            " 'ALVETO EXPEDITION youtube',\n",
            " 'ANI News youtube',\n",
            " 'ARY News instagram',\n",
            " 'AUSTROHNGARO2 twitter']\n",
            "['K24 TV facebook', 'k24siasa', 'k24tv', 'newdawn']\n"
          ]
        }
      ],
      "source": [
        "# print(G1_central_hashtag)\n",
        "# G1_central = nx.bfs_tree(G1.to_undirected(), G1_central_hashtag, reverse=False)\n",
        "\n",
        "# community detection with girvan_newman (can be slow)\n",
        "comp = nx.algorithms.community.girvan_newman(G1)\n",
        "communities = tuple(sorted(c) for c in next(comp))\n",
        "\n",
        "print('num of communities',len(communities))\n",
        "for comm in communities:\n",
        "  print(len(comm))\n",
        "pprint(communities[0][:10])\n",
        "pprint(communities[1][:10])"
      ]
    },
    {
      "cell_type": "code",
      "execution_count": null,
      "metadata": {
        "colab": {
          "base_uri": "https://localhost:8080/"
        },
        "id": "OT8n5cGKirwR",
        "outputId": "005cd64c-00c2-42f5-dd53-47341b3b9841"
      },
      "outputs": [
        {
          "name": "stdout",
          "output_type": "stream",
          "text": [
            "num of communities 2\n",
            "671\n",
            "23\n",
            "['-FAKTA DUNIA- instagram',\n",
            " '12ieli twitter',\n",
            " '1440 Daily Digest instagram',\n",
            " '1News instagram',\n",
            " '23Kidar twitter',\n",
            " '9ineblues twitter',\n",
            " '9klid twitter',\n",
            " 'A.FM 92.9 Dodoma Kuwa Tofauti instagram',\n",
            " 'A21 Middle East News instagram',\n",
            " 'ABP Live instagram',\n",
            " 'ABP News facebook',\n",
            " 'AFP twitter',\n",
            " 'ANTARA News instagram',\n",
            " 'ARN News Centre instagram',\n",
            " 'ARY News instagram',\n",
            " 'ATP HAUSA facebook',\n",
            " 'Aaj News facebook',\n",
            " 'Aaj TV instagram',\n",
            " 'Abda - Coffee, Cake, Culture facebook',\n",
            " 'Activist News Network youtube']\n",
            "['AjuaMungu le frère national facebook',\n",
            " 'Malick Konate facebook',\n",
            " 'Masth Magaa youtube',\n",
            " 'abidjan',\n",
            " 'arab',\n",
            " 'beauty',\n",
            " 'cameroon',\n",
            " 'cotedivoire',\n",
            " 'diaspora',\n",
            " 'fashionstyle',\n",
            " 'italy',\n",
            " 'lomé',\n",
            " 'mali',\n",
            " 'niamey',\n",
            " 'senegal',\n",
            " 'soudain',\n",
            " 'style',\n",
            " 'tchad_lalekou',\n",
            " 'tchadhalou',\n",
            " 'tchadien']\n"
          ]
        }
      ],
      "source": [
        "# community detection with girvan_newman (can be slow)\n",
        "comp = nx.algorithms.community.girvan_newman(G2)\n",
        "communities = tuple(sorted(c) for c in next(comp))\n",
        "print('num of communities',len(communities))\n",
        "print(len(communities[0]))\n",
        "print(len(communities[1]))\n",
        "pprint(communities[0][:20])\n",
        "pprint(communities[1][:20])"
      ]
    },
    {
      "cell_type": "markdown",
      "metadata": {
        "id": "rSc3dN3pgrpW"
      },
      "source": [
        "# Additional Resources\n",
        "https://github.com/briatte/awesome-network-analysis<br>\n",
        "https://kateto.net/<br>\n",
        "https://networkx.org/documentation/stable/reference/algorithms/index.html\n"
      ]
    },
    {
      "cell_type": "code",
      "execution_count": null,
      "metadata": {
        "id": "49moNr_Xf1RS"
      },
      "outputs": [],
      "source": []
    }
  ],
  "metadata": {
    "colab": {
      "provenance": [],
      "toc_visible": true,
      "include_colab_link": true
    },
    "kernelspec": {
      "display_name": "Python 3",
      "name": "python3"
    },
    "language_info": {
      "name": "python"
    }
  },
  "nbformat": 4,
  "nbformat_minor": 0
}